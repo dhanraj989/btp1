{
 "cells": [
  {
   "cell_type": "code",
   "execution_count": 1,
   "id": "605ae947",
   "metadata": {
    "_cell_guid": "b1076dfc-b9ad-4769-8c92-a6c4dae69d19",
    "_uuid": "8f2839f25d086af736a60e9eeb907d3b93b6e0e5",
    "execution": {
     "iopub.execute_input": "2023-10-20T12:18:26.821944Z",
     "iopub.status.busy": "2023-10-20T12:18:26.821542Z",
     "iopub.status.idle": "2023-10-20T12:18:31.330113Z",
     "shell.execute_reply": "2023-10-20T12:18:31.329341Z"
    },
    "papermill": {
     "duration": 4.515328,
     "end_time": "2023-10-20T12:18:31.332398",
     "exception": false,
     "start_time": "2023-10-20T12:18:26.817070",
     "status": "completed"
    },
    "tags": []
   },
   "outputs": [],
   "source": [
    "import numpy as np\n",
    "import pandas as pd\n",
    "import os\n",
    "import torch\n",
    "import torch.nn as nn\n",
    "from torch.utils.data import Dataset, DataLoader\n",
    "import pickle\n",
    "import math\n",
    "import torch.nn.init as init"
   ]
  },
  {
   "cell_type": "code",
   "execution_count": 2,
   "id": "b275d224",
   "metadata": {
    "execution": {
     "iopub.execute_input": "2023-10-20T12:18:31.340058Z",
     "iopub.status.busy": "2023-10-20T12:18:31.339688Z",
     "iopub.status.idle": "2023-10-20T12:18:31.664925Z",
     "shell.execute_reply": "2023-10-20T12:18:31.663977Z"
    },
    "papermill": {
     "duration": 0.331066,
     "end_time": "2023-10-20T12:18:31.666913",
     "exception": false,
     "start_time": "2023-10-20T12:18:31.335847",
     "status": "completed"
    },
    "tags": []
   },
   "outputs": [],
   "source": [
    "import os\n",
    "import torch\n",
    "import torch.nn as nn\n",
    "import torch.nn.functional as F\n",
    "from torch.utils.data import DataLoader, Dataset\n",
    "from torchvision import transforms\n",
    "from torchvision.io import read_image\n",
    "from torchvision.utils import save_image\n",
    "import matplotlib.pyplot as plt"
   ]
  },
  {
   "cell_type": "code",
   "execution_count": 3,
   "id": "1fbb0984",
   "metadata": {
    "execution": {
     "iopub.execute_input": "2023-10-20T12:18:31.673800Z",
     "iopub.status.busy": "2023-10-20T12:18:31.673510Z",
     "iopub.status.idle": "2023-10-20T12:18:31.679710Z",
     "shell.execute_reply": "2023-10-20T12:18:31.679007Z"
    },
    "papermill": {
     "duration": 0.01139,
     "end_time": "2023-10-20T12:18:31.681264",
     "exception": false,
     "start_time": "2023-10-20T12:18:31.669874",
     "status": "completed"
    },
    "tags": []
   },
   "outputs": [],
   "source": [
    "from torch.utils.data import Dataset, DataLoader\n",
    "from torchvision import transforms\n",
    "from PIL import Image\n",
    "import os\n",
    "from torchvision.transforms import Lambda\n",
    "class GroundTruthNoisyDataset(Dataset):\n",
    "    def __init__(self, root_dir, transform=None):\n",
    "        self.root_dir = root_dir\n",
    "        self.transform = transform\n",
    "        self.folders = os.listdir(self.root_dir)\n",
    "\n",
    "    def __len__(self):\n",
    "        return len(self.folders)\n",
    "\n",
    "    def __getitem__(self, idx):\n",
    "        folder_name = self.folders[idx]\n",
    "        ground_truth_path = os.path.join(self.root_dir, folder_name, \"gt.jpg\")\n",
    "        noisy_path = os.path.join(self.root_dir, folder_name, \"noise.jpg\")\n",
    "        \n",
    "        ground_truth = read_image(ground_truth_path)\n",
    "        noisy = read_image(noisy_path)\n",
    "\n",
    "        if self.transform:\n",
    "            ground_truth = self.transform(ground_truth)\n",
    "            noisy = self.transform(noisy)\n",
    "\n",
    "        return ground_truth/255.0, noisy/255.0"
   ]
  },
  {
   "cell_type": "code",
   "execution_count": 4,
   "id": "dba3cdc3",
   "metadata": {
    "execution": {
     "iopub.execute_input": "2023-10-20T12:18:31.688889Z",
     "iopub.status.busy": "2023-10-20T12:18:31.688672Z",
     "iopub.status.idle": "2023-10-20T12:18:31.692742Z",
     "shell.execute_reply": "2023-10-20T12:18:31.691821Z"
    },
    "papermill": {
     "duration": 0.009129,
     "end_time": "2023-10-20T12:18:31.694539",
     "exception": false,
     "start_time": "2023-10-20T12:18:31.685410",
     "status": "completed"
    },
    "tags": []
   },
   "outputs": [],
   "source": [
    "root_tr = \"/kaggle/input/image-denoising-sr/Image_Denoising_Data/Train\"\n",
    "root_te = \"/kaggle/input/image-denoising-sr/Image_Denoising_Data/Test\""
   ]
  },
  {
   "cell_type": "code",
   "execution_count": 5,
   "id": "7c46df45",
   "metadata": {
    "execution": {
     "iopub.execute_input": "2023-10-20T12:18:31.701272Z",
     "iopub.status.busy": "2023-10-20T12:18:31.701018Z",
     "iopub.status.idle": "2023-10-20T12:18:31.867037Z",
     "shell.execute_reply": "2023-10-20T12:18:31.866429Z"
    },
    "papermill": {
     "duration": 0.17125,
     "end_time": "2023-10-20T12:18:31.868632",
     "exception": false,
     "start_time": "2023-10-20T12:18:31.697382",
     "status": "completed"
    },
    "tags": []
   },
   "outputs": [],
   "source": [
    "train_dataset = GroundTruthNoisyDataset(root_tr)\n",
    "train_loader = DataLoader(train_dataset, batch_size=4, shuffle=True)\n",
    "\n",
    "valid_dataset = GroundTruthNoisyDataset(root_te)\n",
    "valid_loader = DataLoader(valid_dataset, batch_size=16, shuffle=False)"
   ]
  },
  {
   "cell_type": "code",
   "execution_count": 6,
   "id": "0bb5c049",
   "metadata": {
    "execution": {
     "iopub.execute_input": "2023-10-20T12:18:31.875279Z",
     "iopub.status.busy": "2023-10-20T12:18:31.875048Z",
     "iopub.status.idle": "2023-10-20T12:18:31.890399Z",
     "shell.execute_reply": "2023-10-20T12:18:31.889699Z"
    },
    "papermill": {
     "duration": 0.020706,
     "end_time": "2023-10-20T12:18:31.892070",
     "exception": false,
     "start_time": "2023-10-20T12:18:31.871364",
     "status": "completed"
    },
    "tags": []
   },
   "outputs": [],
   "source": [
    "import torch.nn as nn\n",
    "import torch.nn.functional as F\n",
    "\n",
    "class UNet_D(nn.Module):\n",
    "\n",
    "    def __init__(self):\n",
    "        super(UNet_D, self).__init__()\n",
    "        self.main = MainNet(in_nc=3, out_nc=12)\n",
    "        self.main2 = MainNet(in_nc=15, out_nc=24)\n",
    "        self.out = nn.Conv2d(24, 3, kernel_size=3, padding=1, bias=True)\n",
    "\n",
    "    def forward(self, x):\n",
    "        out1 = self.main(x)\n",
    "        out1[:,:3,:,:] = out1[:,:3,:,:] + x\n",
    "        out2 = self.main2(torch.cat([x, out1], dim=1))\n",
    "        out2[:, :3, :, :] = out2[:, :3, :, :] + x\n",
    "        out2[:, 12:, :, :] = out2[:, 12:, :, :] + out1\n",
    "\n",
    "        return self.out(out2) + x\n",
    "\n",
    "class MainNet(nn.Module):\n",
    "    def __init__(self, in_nc=12, out_nc=12):\n",
    "        super(MainNet, self).__init__()\n",
    "        self.inc = nn.Sequential(\n",
    "            single_conv(in_nc, 64),\n",
    "            single_conv(64, 64),\n",
    "        )\n",
    "        self.down1 = nn.AvgPool2d(2)\n",
    "        self.conv1 = nn.Sequential(\n",
    "            single_conv(64, 128),\n",
    "            RDB(128, 4, 32),\n",
    "        )\n",
    "        self.down2 = nn.AvgPool2d(2)\n",
    "        self.conv2 = nn.Sequential(\n",
    "            single_conv(128, 256),\n",
    "            RDB(256, 10, 32),\n",
    "        )\n",
    "        self.up1 = up(256)\n",
    "        self.conv3 = nn.Sequential(\n",
    "            RDB(128, 6, 32),\n",
    "        )\n",
    "        self.up2 = up(128)\n",
    "        self.conv4 = nn.Sequential(\n",
    "            RDB(64, 4, 32),\n",
    "        )\n",
    "        self.outc = outconv(64, out_nc)\n",
    "\n",
    "    def forward(self, x):\n",
    "        inx = self.inc(x)\n",
    "        down1 = self.down1(inx)\n",
    "        conv1 = self.conv1(down1)\n",
    "        down2 = self.down2(conv1)\n",
    "        conv2 = self.conv2(down2)\n",
    "        up1 = self.up1(conv2, conv1)\n",
    "        conv3 = self.conv3(up1)\n",
    "        up2 = self.up2(conv3, inx)\n",
    "        conv4 = self.conv4(up2)\n",
    "        out = self.outc(conv4)\n",
    "        return out\n",
    "\n",
    "class single_conv(nn.Module):\n",
    "    def __init__(self, in_ch, out_ch):\n",
    "        super(single_conv, self).__init__()\n",
    "        self.conv = nn.Sequential(\n",
    "            nn.Conv2d(in_ch, out_ch, 3, padding=1),\n",
    "            nn.ReLU(inplace=True)\n",
    "        )\n",
    "\n",
    "    def forward(self, x):\n",
    "        return self.conv(x)\n",
    "\n",
    "class up(nn.Module):\n",
    "    def __init__(self, in_ch):\n",
    "        super(up, self).__init__()\n",
    "        self.up = nn.ConvTranspose2d(in_ch, in_ch // 2, 2, stride=2)\n",
    "\n",
    "    def forward(self, x1, x2):\n",
    "        x1 = self.up(x1)\n",
    "        diffY = x2.size()[2] - x1.size()[2]\n",
    "        diffX = x2.size()[3] - x1.size()[3]\n",
    "        x1 = F.pad(x1, (diffX // 2, diffX - diffX // 2, diffY // 2, diffY - diffY // 2))\n",
    "        return x2 + x1\n",
    "\n",
    "class outconv(nn.Module):\n",
    "    def __init__(self, in_ch, out_ch):\n",
    "        super(outconv, self).__init__()\n",
    "        self.conv = nn.Conv2d(in_ch, out_ch, 1)\n",
    "\n",
    "    def forward(self, x):\n",
    "        return self.conv(x)\n",
    "\n",
    "class RDB(nn.Module):\n",
    "    def __init__(self, nChannels, nDenselayer, growthRate):\n",
    "        super(RDB, self).__init__()\n",
    "        nChannels_ = nChannels\n",
    "        modules = []\n",
    "        for i in range(nDenselayer):\n",
    "            modules.append(make_dense(nChannels_, growthRate))\n",
    "            nChannels_ += growthRate\n",
    "        self.dense_layers = nn.Sequential(*modules)\n",
    "        self.conv_1x1 = nn.Conv2d(nChannels_, nChannels, kernel_size=1, padding=0, bias=False)\n",
    "\n",
    "    def forward(self, x):\n",
    "        out = self.dense_layers(x)\n",
    "        out = self.conv_1x1(out)\n",
    "        return out + x\n",
    "\n",
    "class make_dense(nn.Module):\n",
    "    def __init__(self, nChannels, growthRate, kernel_size=3):\n",
    "        super(make_dense, self).__init__()\n",
    "        self.conv = nn.Conv2d(nChannels, growthRate, kernel_size=kernel_size, padding=(kernel_size - 1) // 2, bias=False)\n",
    "\n",
    "    def forward(self, x):\n",
    "        out = F.relu(self.conv(x))\n",
    "        return torch.cat((x, out), 1)"
   ]
  },
  {
   "cell_type": "code",
   "execution_count": 7,
   "id": "c20a47fe",
   "metadata": {
    "execution": {
     "iopub.execute_input": "2023-10-20T12:18:31.898984Z",
     "iopub.status.busy": "2023-10-20T12:18:31.898699Z",
     "iopub.status.idle": "2023-10-20T12:18:31.986548Z",
     "shell.execute_reply": "2023-10-20T12:18:31.985691Z"
    },
    "papermill": {
     "duration": 0.093475,
     "end_time": "2023-10-20T12:18:31.988576",
     "exception": false,
     "start_time": "2023-10-20T12:18:31.895101",
     "status": "completed"
    },
    "tags": []
   },
   "outputs": [],
   "source": [
    "model = UNet_D()"
   ]
  },
  {
   "cell_type": "code",
   "execution_count": 8,
   "id": "28e3e8cc",
   "metadata": {
    "execution": {
     "iopub.execute_input": "2023-10-20T12:18:31.995681Z",
     "iopub.status.busy": "2023-10-20T12:18:31.995389Z",
     "iopub.status.idle": "2023-10-20T12:18:32.122406Z",
     "shell.execute_reply": "2023-10-20T12:18:32.121458Z"
    },
    "papermill": {
     "duration": 0.132544,
     "end_time": "2023-10-20T12:18:32.124355",
     "exception": false,
     "start_time": "2023-10-20T12:18:31.991811",
     "status": "completed"
    },
    "tags": []
   },
   "outputs": [
    {
     "name": "stdout",
     "output_type": "stream",
     "text": [
      "Using 2 GPUs!\n"
     ]
    }
   ],
   "source": [
    "if torch.cuda.device_count() > 1:\n",
    "    print(\"Using\", torch.cuda.device_count(), \"GPUs!\")\n",
    "    model = nn.DataParallel(model)"
   ]
  },
  {
   "cell_type": "code",
   "execution_count": 9,
   "id": "7460ec3d",
   "metadata": {
    "execution": {
     "iopub.execute_input": "2023-10-20T12:18:32.131391Z",
     "iopub.status.busy": "2023-10-20T12:18:32.131073Z",
     "iopub.status.idle": "2023-10-20T15:40:07.871786Z",
     "shell.execute_reply": "2023-10-20T15:40:07.870767Z"
    },
    "papermill": {
     "duration": 12095.751293,
     "end_time": "2023-10-20T15:40:07.878666",
     "exception": false,
     "start_time": "2023-10-20T12:18:32.127373",
     "status": "completed"
    },
    "tags": []
   },
   "outputs": [
    {
     "name": "stdout",
     "output_type": "stream",
     "text": [
      "Epoch [1/30], Train PSNR: 26.9026, Valid PSNR: 26.5936\n",
      "Epoch [2/30], Train PSNR: 27.5117, Valid PSNR: 26.7504\n",
      "Epoch [3/30], Train PSNR: 27.5745, Valid PSNR: 26.7170\n",
      "Epoch [4/30], Train PSNR: 27.5692, Valid PSNR: 26.7360\n",
      "Epoch [5/30], Train PSNR: 27.6194, Valid PSNR: 26.7075\n",
      "Epoch [6/30], Train PSNR: 27.5835, Valid PSNR: 26.7818\n",
      "Epoch [7/30], Train PSNR: 27.6272, Valid PSNR: 26.7866\n",
      "Epoch [8/30], Train PSNR: 27.5654, Valid PSNR: 26.7908\n",
      "Epoch [9/30], Train PSNR: 27.5389, Valid PSNR: 26.7722\n",
      "Epoch [10/30], Train PSNR: 27.5257, Valid PSNR: 26.7723\n",
      "Epoch [11/30], Train PSNR: 27.5809, Valid PSNR: 26.7736\n",
      "Epoch [12/30], Train PSNR: 27.6364, Valid PSNR: 26.7954\n",
      "Epoch [13/30], Train PSNR: 27.6279, Valid PSNR: 26.7769\n",
      "Epoch [14/30], Train PSNR: 27.6936, Valid PSNR: 26.8124\n",
      "Epoch [15/30], Train PSNR: 27.5951, Valid PSNR: 26.7879\n",
      "Epoch [16/30], Train PSNR: 27.6343, Valid PSNR: 26.8069\n",
      "Epoch [17/30], Train PSNR: 27.6493, Valid PSNR: 26.7970\n",
      "Epoch [18/30], Train PSNR: 27.6446, Valid PSNR: 26.8196\n",
      "Epoch [19/30], Train PSNR: 27.5961, Valid PSNR: 26.7741\n",
      "Epoch [20/30], Train PSNR: 27.6488, Valid PSNR: 26.8147\n",
      "Epoch [21/30], Train PSNR: 27.7510, Valid PSNR: 26.7867\n",
      "Epoch [22/30], Train PSNR: 27.6191, Valid PSNR: 26.7913\n",
      "Epoch [23/30], Train PSNR: 27.7084, Valid PSNR: 26.8041\n",
      "Epoch [24/30], Train PSNR: 27.7047, Valid PSNR: 26.7816\n",
      "Epoch [25/30], Train PSNR: 27.6169, Valid PSNR: 26.8141\n",
      "Epoch [26/30], Train PSNR: 27.7084, Valid PSNR: 26.8200\n",
      "Epoch [27/30], Train PSNR: 27.6345, Valid PSNR: 26.8264\n",
      "Epoch [28/30], Train PSNR: 27.7060, Valid PSNR: 26.8297\n",
      "Epoch [29/30], Train PSNR: 27.6683, Valid PSNR: 26.8328\n",
      "Epoch [30/30], Train PSNR: 27.6701, Valid PSNR: 26.8031\n"
     ]
    }
   ],
   "source": [
    "import math\n",
    "import torch.nn as nn\n",
    "import torch\n",
    "\n",
    "def psnr(mse, max_pixel_val=1.0):\n",
    "    return 10 * math.log10(max_pixel_val**2 / mse)\n",
    "\n",
    "optimizer = torch.optim.Adam(model.parameters(), lr=0.001)\n",
    "criterion = nn.MSELoss()\n",
    "num_epochs = 30\n",
    "device = torch.device(\"cuda:0\" if torch.cuda.is_available() else \"cpu\")\n",
    "model.to(device)\n",
    "train_losses = []\n",
    "train_psnr = []\n",
    "test_losses = []\n",
    "test_psnr = []\n",
    "\n",
    "accumulation_steps = 4  # Define the accumulation steps\n",
    "\n",
    "for epoch in range(num_epochs):\n",
    "    total_psnr_train = 0\n",
    "    tot_loss_train = 0\n",
    "    model.train()\n",
    "    \n",
    "    optimizer.zero_grad()  # Initialize gradients once at the start of each epoch\n",
    "\n",
    "    for i, (noisy_imgs, clean_imgs) in enumerate(train_loader):\n",
    "        noisy_imgs, clean_imgs = noisy_imgs.to(device), clean_imgs.to(device)\n",
    "        outputs = model(noisy_imgs)\n",
    "        loss = criterion(outputs, clean_imgs)\n",
    "        current_psnr = psnr(loss.item())\n",
    "        total_psnr_train += current_psnr\n",
    "        tot_loss_train += loss.item()  # Using loss.item() to accumulate the loss\n",
    "\n",
    "        loss.backward()  # Calculate gradients\n",
    "\n",
    "        if (i+1) % accumulation_steps == 0:\n",
    "            optimizer.step()  # Update weights\n",
    "            optimizer.zero_grad()  # Reset gradients\n",
    "\n",
    "    avg_psnr_train = total_psnr_train / len(train_loader)\n",
    "    train_losses.append(tot_loss_train / len(train_loader))\n",
    "    train_psnr.append(avg_psnr_train)\n",
    "    model.eval()\n",
    "    total_psnr_valid = 0\n",
    "    tot_loss_valid = 0\n",
    "\n",
    "    with torch.no_grad():\n",
    "        for noisy_imgs, clean_imgs in valid_loader:\n",
    "            noisy_imgs, clean_imgs = noisy_imgs.to(device), clean_imgs.to(device)\n",
    "            outputs = model(noisy_imgs)\n",
    "            loss = criterion(outputs, clean_imgs)\n",
    "            current_psnr = psnr(loss.item())\n",
    "            total_psnr_valid += current_psnr\n",
    "            tot_loss_valid += loss.item()\n",
    "\n",
    "    avg_psnr_valid = total_psnr_valid / len(valid_loader)\n",
    "    test_losses.append(tot_loss_valid / len(valid_loader))\n",
    "    test_psnr.append(avg_psnr_valid)\n",
    "    print(f\"Epoch [{epoch+1}/{num_epochs}], Train PSNR: {avg_psnr_train:.4f}, Valid PSNR: {avg_psnr_valid:.4f}\")\n"
   ]
  },
  {
   "cell_type": "code",
   "execution_count": 10,
   "id": "5812f7a4",
   "metadata": {
    "execution": {
     "iopub.execute_input": "2023-10-20T15:40:07.888963Z",
     "iopub.status.busy": "2023-10-20T15:40:07.888683Z",
     "iopub.status.idle": "2023-10-20T15:40:07.893159Z",
     "shell.execute_reply": "2023-10-20T15:40:07.892293Z"
    },
    "papermill": {
     "duration": 0.011768,
     "end_time": "2023-10-20T15:40:07.894946",
     "exception": false,
     "start_time": "2023-10-20T15:40:07.883178",
     "status": "completed"
    },
    "tags": []
   },
   "outputs": [],
   "source": [
    "train_loss = []\n",
    "test_loss = []\n",
    "for i in train_losses:\n",
    "    train_loss.append(i)\n",
    "for i in test_losses:\n",
    "    test_loss.append(i)"
   ]
  },
  {
   "cell_type": "code",
   "execution_count": 11,
   "id": "7b89ec78",
   "metadata": {
    "execution": {
     "iopub.execute_input": "2023-10-20T15:40:07.905141Z",
     "iopub.status.busy": "2023-10-20T15:40:07.904885Z",
     "iopub.status.idle": "2023-10-20T15:40:07.909845Z",
     "shell.execute_reply": "2023-10-20T15:40:07.908848Z"
    },
    "papermill": {
     "duration": 0.011972,
     "end_time": "2023-10-20T15:40:07.911499",
     "exception": false,
     "start_time": "2023-10-20T15:40:07.899527",
     "status": "completed"
    },
    "tags": []
   },
   "outputs": [
    {
     "name": "stdout",
     "output_type": "stream",
     "text": [
      "Train_loss: 0.0022046389735557816\n",
      "Test_loss: 0.002221130187072876\n"
     ]
    }
   ],
   "source": [
    "print(\"Train_loss:\",train_loss[len(train_loss)-1])\n",
    "print(\"Test_loss:\",test_loss[len(test_loss)-1])"
   ]
  },
  {
   "cell_type": "code",
   "execution_count": 12,
   "id": "56e22e44",
   "metadata": {
    "execution": {
     "iopub.execute_input": "2023-10-20T15:40:07.921355Z",
     "iopub.status.busy": "2023-10-20T15:40:07.921096Z",
     "iopub.status.idle": "2023-10-20T15:40:08.210909Z",
     "shell.execute_reply": "2023-10-20T15:40:08.210079Z"
    },
    "papermill": {
     "duration": 0.296574,
     "end_time": "2023-10-20T15:40:08.212505",
     "exception": false,
     "start_time": "2023-10-20T15:40:07.915931",
     "status": "completed"
    },
    "tags": []
   },
   "outputs": [
    {
     "data": {
      "image/png": "[encoded data removed]",
      "text/plain": [
       "<Figure size 800x600 with 1 Axes>"
      ]
     },
     "metadata": {},
     "output_type": "display_data"
    }
   ],
   "source": [
    "import matplotlib.pyplot as plt\n",
    "x = [i for i in range(1,31)]\n",
    "fig, ax = plt.subplots(1, figsize=(8,6))\n",
    "fig.suptitle(\"Learning Curve\", fontsize = 15)\n",
    "ax.set_xlabel('Epochs')\n",
    "ax.set_ylabel('Loss')\n",
    "ax.plot(x, train_loss, label=\"Training Curve\")\n",
    "ax.plot(x, test_loss, label=\"Testing Curve\")\n",
    "plt.legend(loc=\"upper right\", frameon=False)\n",
    "plt.show()"
   ]
  },
  {
   "cell_type": "code",
   "execution_count": 13,
   "id": "a689b923",
   "metadata": {
    "execution": {
     "iopub.execute_input": "2023-10-20T15:40:08.223146Z",
     "iopub.status.busy": "2023-10-20T15:40:08.222926Z",
     "iopub.status.idle": "2023-10-20T15:40:08.461272Z",
     "shell.execute_reply": "2023-10-20T15:40:08.460458Z"
    },
    "papermill": {
     "duration": 0.245871,
     "end_time": "2023-10-20T15:40:08.463274",
     "exception": false,
     "start_time": "2023-10-20T15:40:08.217403",
     "status": "completed"
    },
    "tags": []
   },
   "outputs": [
    {
     "data": {
      "image/png": "[encoded data removed]",
      "text/plain": [
       "<Figure size 800x600 with 1 Axes>"
      ]
     },
     "metadata": {},
     "output_type": "display_data"
    }
   ],
   "source": [
    "import matplotlib.pyplot as plt\n",
    "x = [i for i in range(1,31)]\n",
    "fig, ax = plt.subplots(1, figsize=(8,6))\n",
    "fig.suptitle(\"PSNR\", fontsize = 15)\n",
    "ax.set_xlabel('Epochs')\n",
    "ax.set_ylabel('PSNR')\n",
    "ax.plot(x, train_psnr, label=\"Training PSNR\")\n",
    "ax.plot(x, test_psnr, label=\"Testing PSNR\")\n",
    "plt.legend(loc=\"lower right\", frameon=False)\n",
    "plt.show()"
   ]
  },
  {
   "cell_type": "code",
   "execution_count": 14,
   "id": "f2a77723",
   "metadata": {
    "execution": {
     "iopub.execute_input": "2023-10-20T15:40:08.475528Z",
     "iopub.status.busy": "2023-10-20T15:40:08.475282Z",
     "iopub.status.idle": "2023-10-20T15:40:08.531832Z",
     "shell.execute_reply": "2023-10-20T15:40:08.530990Z"
    },
    "papermill": {
     "duration": 0.064651,
     "end_time": "2023-10-20T15:40:08.533685",
     "exception": false,
     "start_time": "2023-10-20T15:40:08.469034",
     "status": "completed"
    },
    "tags": []
   },
   "outputs": [],
   "source": [
    "torch.save(model.module.state_dict(), 'model_unet_denoise.pth')"
   ]
  },
  {
   "cell_type": "code",
   "execution_count": null,
   "id": "816500dc",
   "metadata": {
    "papermill": {
     "duration": 0.005103,
     "end_time": "2023-10-20T15:40:08.544314",
     "exception": false,
     "start_time": "2023-10-20T15:40:08.539211",
     "status": "completed"
    },
    "tags": []
   },
   "outputs": [],
   "source": []
  }
 ],
 "metadata": {
  "kernelspec": {
   "display_name": "Python 3",
   "language": "python",
   "name": "python3"
  },
  "language_info": {
   "codemirror_mode": {
    "name": "ipython",
    "version": 3
   },
   "file_extension": ".py",
   "mimetype": "text/x-python",
   "name": "python",
   "nbconvert_exporter": "python",
   "pygments_lexer": "ipython3",
   "version": "3.10.12"
  },
  "papermill": {
   "default_parameters": {},
   "duration": 12108.257574,
   "end_time": "2023-10-20T15:40:11.817741",
   "environment_variables": {},
   "exception": null,
   "input_path": "__notebook__.ipynb",
   "output_path": "__notebook__.ipynb",
   "parameters": {},
   "start_time": "2023-10-20T12:18:23.560167",
   "version": "2.4.0"
  }
 },
 "nbformat": 4,
 "nbformat_minor": 5
}
