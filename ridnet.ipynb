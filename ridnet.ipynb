{
 "cells": [
  {
   "cell_type": "code",
   "execution_count": 1,
   "id": "fa3e0b3b",
   "metadata": {
    "_cell_guid": "b1076dfc-b9ad-4769-8c92-a6c4dae69d19",
    "_uuid": "8f2839f25d086af736a60e9eeb907d3b93b6e0e5",
    "execution": {
     "iopub.execute_input": "2023-11-18T21:23:58.630448Z",
     "iopub.status.busy": "2023-11-18T21:23:58.629812Z",
     "iopub.status.idle": "2023-11-18T21:24:06.171086Z",
     "shell.execute_reply": "2023-11-18T21:24:06.170110Z"
    },
    "papermill": {
     "duration": 7.550277,
     "end_time": "2023-11-18T21:24:06.173534",
     "exception": false,
     "start_time": "2023-11-18T21:23:58.623257",
     "status": "completed"
    },
    "tags": []
   },
   "outputs": [],
   "source": [
    "import numpy as np\n",
    "import pandas as pd\n",
    "import os\n",
    "import torch\n",
    "import torch.nn as nn\n",
    "from torch.utils.data import Dataset, DataLoader\n",
    "import pickle\n",
    "import math\n",
    "import torch.nn.init as init"
   ]
  },
  {
   "cell_type": "code",
   "execution_count": 2,
   "id": "5e59aaa8",
   "metadata": {
    "execution": {
     "iopub.execute_input": "2023-11-18T21:24:06.184233Z",
     "iopub.status.busy": "2023-11-18T21:24:06.183827Z",
     "iopub.status.idle": "2023-11-18T21:24:10.440368Z",
     "shell.execute_reply": "2023-11-18T21:24:10.439455Z"
    },
    "papermill": {
     "duration": 4.264226,
     "end_time": "2023-11-18T21:24:10.442760",
     "exception": false,
     "start_time": "2023-11-18T21:24:06.178534",
     "status": "completed"
    },
    "tags": []
   },
   "outputs": [
    {
     "name": "stderr",
     "output_type": "stream",
     "text": [
      "/opt/conda/lib/python3.10/site-packages/scipy/__init__.py:146: UserWarning: A NumPy version >=1.16.5 and <1.23.0 is required for this version of SciPy (detected version 1.23.5\n",
      "  warnings.warn(f\"A NumPy version >={np_minversion} and <{np_maxversion}\"\n"
     ]
    }
   ],
   "source": [
    "from torch.utils.data import Dataset, DataLoader\n",
    "from torchvision import transforms\n",
    "from PIL import Image\n",
    "import albumentations as A\n",
    "from albumentations.pytorch import ToTensorV2\n",
    "import os\n",
    "from torchvision.transforms import Lambda\n",
    "both_transform = A.Compose([A.Resize(width=256, height=256),], additional_targets={\"image0\": \"image\"},)\n",
    "transform = A.Compose([A.Normalize(mean=[0.5, 0.5, 0.5], std=[0.5, 0.5, 0.5], max_pixel_value=255.0,),ToTensorV2(),])\n",
    "class GroundTruthNoisyDataset(Dataset):\n",
    "    def __init__(self, root_dir):\n",
    "        self.root_dir = root_dir\n",
    "        self.folders = os.listdir(self.root_dir)\n",
    "\n",
    "    def __len__(self):\n",
    "        return len(self.folders)\n",
    "\n",
    "    def __getitem__(self, idx):\n",
    "        folder_name = self.folders[idx]\n",
    "        ground_truth_path = os.path.join(self.root_dir, folder_name, \"gt.jpg\")\n",
    "        noisy_path = os.path.join(self.root_dir, folder_name, \"noise.jpg\")\n",
    "        ground_truth = np.array(Image.open(ground_truth_path))\n",
    "        noisy = np.array(Image.open(noisy_path))\n",
    "        augmentations = both_transform(image=noisy, image0=ground_truth)\n",
    "        noisy = augmentations[\"image\"]\n",
    "        ground_truth = augmentations[\"image0\"]\n",
    "        ground_truth = transform(image = ground_truth)[\"image\"]\n",
    "        noisy = transform(image = noisy)[\"image\"]\n",
    "        return noisy, ground_truth"
   ]
  },
  {
   "cell_type": "code",
   "execution_count": 3,
   "id": "5e1011c3",
   "metadata": {
    "execution": {
     "iopub.execute_input": "2023-11-18T21:24:10.454064Z",
     "iopub.status.busy": "2023-11-18T21:24:10.453598Z",
     "iopub.status.idle": "2023-11-18T21:24:10.753474Z",
     "shell.execute_reply": "2023-11-18T21:24:10.752735Z"
    },
    "papermill": {
     "duration": 0.30776,
     "end_time": "2023-11-18T21:24:10.755597",
     "exception": false,
     "start_time": "2023-11-18T21:24:10.447837",
     "status": "completed"
    },
    "tags": []
   },
   "outputs": [],
   "source": [
    "root_tr = \"/kaggle/input/256-256-image-denoising-benchmark/Image_Denoising_Data_256/Train\"\n",
    "root_te = \"/kaggle/input/256-256-image-denoising-benchmark/Image_Denoising_Data_256/Test\"\n",
    "train_dataset = GroundTruthNoisyDataset(root_tr)\n",
    "train_loader = DataLoader(train_dataset, batch_size=16, shuffle=True)\n",
    "\n",
    "valid_dataset = GroundTruthNoisyDataset(root_te)\n",
    "valid_loader = DataLoader(valid_dataset, batch_size=32, shuffle=False)"
   ]
  },
  {
   "cell_type": "code",
   "execution_count": 4,
   "id": "b4f25abd",
   "metadata": {
    "execution": {
     "iopub.execute_input": "2023-11-18T21:24:10.767637Z",
     "iopub.status.busy": "2023-11-18T21:24:10.767311Z",
     "iopub.status.idle": "2023-11-18T21:24:10.774799Z",
     "shell.execute_reply": "2023-11-18T21:24:10.773928Z"
    },
    "papermill": {
     "duration": 0.015004,
     "end_time": "2023-11-18T21:24:10.776753",
     "exception": false,
     "start_time": "2023-11-18T21:24:10.761749",
     "status": "completed"
    },
    "tags": []
   },
   "outputs": [],
   "source": [
    "from torchvision.utils import save_image\n",
    "\n",
    "def save_some_examples(gen, val_loader, epoch, folder):\n",
    "    x, y = next(iter(val_loader))\n",
    "    DEVICE = \"cuda\" if torch.cuda.is_available() else \"cpu\"\n",
    "    x, y = x.to(DEVICE), y.to(DEVICE)\n",
    "    if not os.path.exists(folder):\n",
    "        os.makedirs(folder)\n",
    "    gen.eval()\n",
    "    with torch.no_grad():\n",
    "        y_fake = gen(x)\n",
    "        y_fake = y_fake * 0.5 + 0.5  # remove normalization#\n",
    "        save_image(y_fake, folder + f\"/y_out_{epoch}.png\")\n",
    "        save_image(x * 0.5 + 0.5, folder + f\"/input_{epoch}.png\")\n",
    "        if epoch == 1:\n",
    "            save_image(y * 0.5 + 0.5, folder + f\"/label_{epoch}.png\")\n",
    "    gen.train()"
   ]
  },
  {
   "cell_type": "code",
   "execution_count": 5,
   "id": "b3711604",
   "metadata": {
    "execution": {
     "iopub.execute_input": "2023-11-18T21:24:10.787395Z",
     "iopub.status.busy": "2023-11-18T21:24:10.787122Z",
     "iopub.status.idle": "2023-11-18T21:24:10.872136Z",
     "shell.execute_reply": "2023-11-18T21:24:10.871258Z"
    },
    "papermill": {
     "duration": 0.092588,
     "end_time": "2023-11-18T21:24:10.874151",
     "exception": false,
     "start_time": "2023-11-18T21:24:10.781563",
     "status": "completed"
    },
    "tags": []
   },
   "outputs": [],
   "source": [
    "import torch\n",
    "import torch.nn as nn\n",
    "import torch.nn.functional as F\n",
    "\n",
    "class EAM(nn.Module):\n",
    "    def __init__(self):\n",
    "        super(EAM, self).__init__()\n",
    "\n",
    "        self.conv1 = nn.Conv2d(64, 64, kernel_size=3, dilation=1, padding=1)\n",
    "        self.conv2 = nn.Conv2d(64, 64, kernel_size=3, dilation=2, padding=2)\n",
    "\n",
    "        self.conv3 = nn.Conv2d(64, 64, kernel_size=3, dilation=3, padding=3)\n",
    "        self.conv4 = nn.Conv2d(64, 64, kernel_size=3, dilation=4, padding=4)\n",
    "\n",
    "        self.conv5 = nn.Conv2d(128, 64, kernel_size=3, padding=1)\n",
    "\n",
    "        self.conv6 = nn.Conv2d(64, 64, kernel_size=3, padding=1)\n",
    "        self.conv7 = nn.Conv2d(64, 64, kernel_size=3, padding=1)\n",
    "\n",
    "        self.conv8 = nn.Conv2d(64, 64, kernel_size=3, padding=1)\n",
    "        self.conv9 = nn.Conv2d(64, 64, kernel_size=3, padding=1)\n",
    "        self.conv10 = nn.Conv2d(64, 64, kernel_size=1, padding=0)  # Adjusted padding\n",
    "\n",
    "        self.gap = nn.AdaptiveAvgPool2d(1)\n",
    "\n",
    "        self.conv11 = nn.Conv2d(64, 64, kernel_size=3, padding=1)\n",
    "        self.conv12 = nn.Conv2d(64, 64, kernel_size=3, padding=1)\n",
    "\n",
    "    def forward(self, x):\n",
    "        conv1 = F.relu(self.conv1(x))\n",
    "        conv1 = F.relu(self.conv2(conv1))\n",
    "\n",
    "        conv2 = F.relu(self.conv3(x))\n",
    "        conv2 = F.relu(self.conv4(conv2))\n",
    "\n",
    "        concat = torch.cat([conv1, conv2], dim=1)\n",
    "        conv3 = F.relu(self.conv5(concat))\n",
    "        add1 = x + conv3\n",
    "\n",
    "        conv4 = F.relu(self.conv6(add1))\n",
    "        conv4 = self.conv7(conv4)\n",
    "        add2 = conv4 + add1\n",
    "        add2 = F.relu(add2)\n",
    "\n",
    "        conv5 = F.relu(self.conv8(add2))\n",
    "        conv5 = F.relu(self.conv9(conv5))\n",
    "        conv5 = self.conv10(conv5)\n",
    "        add3 = add2 + conv5\n",
    "        add3 = F.relu(add3)\n",
    "\n",
    "        gap = self.gap(add3)\n",
    "        gap = gap.view(gap.size(0), -1)\n",
    "        gap = gap.view(gap.size(0), gap.size(1), 1, 1)\n",
    "        conv6 = F.relu(self.conv11(gap))\n",
    "        conv6 = torch.sigmoid(self.conv12(conv6))\n",
    "\n",
    "        mul = conv6 * add3\n",
    "        out = x + mul\n",
    "\n",
    "        return out\n",
    "\n",
    "class RIDNet(nn.Module):\n",
    "    def __init__(self):\n",
    "        super(RIDNet, self).__init__()\n",
    "\n",
    "        self.conv1 = nn.Conv2d(3, 64, kernel_size=3, padding=1)\n",
    "        self.eam1 = EAM()\n",
    "        self.eam2 = EAM()\n",
    "        self.eam3 = EAM()\n",
    "        self.eam4 = EAM()\n",
    "        self.conv2 = nn.Conv2d(64, 3, kernel_size=3, padding=1)\n",
    "\n",
    "    def forward(self, x):\n",
    "        conv1 = F.relu(self.conv1(x))\n",
    "        eam1 = self.eam1(conv1)\n",
    "        eam2 = self.eam2(eam1)\n",
    "        eam3 = self.eam3(eam2)\n",
    "        eam4 = self.eam4(eam3)\n",
    "        conv2 = self.conv2(eam4)\n",
    "        out = x + conv2\n",
    "\n",
    "        return out\n",
    "\n",
    "# Create an instance of the RIDNet ridnet\n",
    "ridnet = RIDNet()"
   ]
  },
  {
   "cell_type": "code",
   "execution_count": 6,
   "id": "9ec5b616",
   "metadata": {
    "execution": {
     "iopub.execute_input": "2023-11-18T21:24:10.884449Z",
     "iopub.status.busy": "2023-11-18T21:24:10.884199Z",
     "iopub.status.idle": "2023-11-18T21:24:11.014489Z",
     "shell.execute_reply": "2023-11-18T21:24:11.013355Z"
    },
    "papermill": {
     "duration": 0.137538,
     "end_time": "2023-11-18T21:24:11.016613",
     "exception": false,
     "start_time": "2023-11-18T21:24:10.879075",
     "status": "completed"
    },
    "tags": []
   },
   "outputs": [
    {
     "name": "stdout",
     "output_type": "stream",
     "text": [
      "Using 2 GPUs!\n"
     ]
    }
   ],
   "source": [
    "if torch.cuda.device_count() > 1:\n",
    "    print(\"Using\", torch.cuda.device_count(), \"GPUs!\")\n",
    "    ridnet = nn.DataParallel(ridnet)"
   ]
  },
  {
   "cell_type": "code",
   "execution_count": 7,
   "id": "cb18cd77",
   "metadata": {
    "execution": {
     "iopub.execute_input": "2023-11-18T21:24:11.027522Z",
     "iopub.status.busy": "2023-11-18T21:24:11.027203Z",
     "iopub.status.idle": "2023-11-19T05:58:53.639537Z",
     "shell.execute_reply": "2023-11-19T05:58:53.638497Z"
    },
    "papermill": {
     "duration": 30882.631758,
     "end_time": "2023-11-19T05:58:53.653231",
     "exception": false,
     "start_time": "2023-11-18T21:24:11.021473",
     "status": "completed"
    },
    "tags": []
   },
   "outputs": [
    {
     "name": "stdout",
     "output_type": "stream",
     "text": [
      "Epoch [1/100], Train PSNR: 25.0389, Valid PSNR: 29.3354\n",
      "Epoch [2/100], Train PSNR: 30.4551, Valid PSNR: 31.3912\n",
      "Epoch [3/100], Train PSNR: 32.1092, Valid PSNR: 32.2915\n",
      "Epoch [4/100], Train PSNR: 32.7318, Valid PSNR: 32.1402\n",
      "Epoch [5/100], Train PSNR: 33.1299, Valid PSNR: 33.3473\n",
      "Epoch [6/100], Train PSNR: 33.2748, Valid PSNR: 33.3612\n",
      "Epoch [7/100], Train PSNR: 33.7850, Valid PSNR: 34.2786\n",
      "Epoch [8/100], Train PSNR: 34.0180, Valid PSNR: 34.3897\n",
      "Epoch [9/100], Train PSNR: 34.2314, Valid PSNR: 34.0673\n",
      "Epoch [10/100], Train PSNR: 34.3838, Valid PSNR: 34.2736\n",
      "Epoch [11/100], Train PSNR: 34.5783, Valid PSNR: 34.6464\n",
      "Epoch [12/100], Train PSNR: 34.6890, Valid PSNR: 34.1785\n",
      "Epoch [13/100], Train PSNR: 34.6232, Valid PSNR: 34.7821\n",
      "Epoch [14/100], Train PSNR: 34.8043, Valid PSNR: 34.6545\n",
      "Epoch [15/100], Train PSNR: 34.9778, Valid PSNR: 34.3085\n",
      "Epoch [16/100], Train PSNR: 34.9251, Valid PSNR: 34.6392\n",
      "Epoch [17/100], Train PSNR: 35.0739, Valid PSNR: 35.0713\n",
      "Epoch [18/100], Train PSNR: 35.1085, Valid PSNR: 33.4268\n",
      "Epoch [19/100], Train PSNR: 35.1445, Valid PSNR: 35.3085\n",
      "Epoch [20/100], Train PSNR: 35.3051, Valid PSNR: 35.3257\n",
      "Epoch [21/100], Train PSNR: 35.4214, Valid PSNR: 34.9643\n",
      "Epoch [22/100], Train PSNR: 35.4600, Valid PSNR: 35.4040\n",
      "Epoch [23/100], Train PSNR: 35.5567, Valid PSNR: 34.7948\n",
      "Epoch [24/100], Train PSNR: 35.5105, Valid PSNR: 35.2354\n",
      "Epoch [25/100], Train PSNR: 35.7787, Valid PSNR: 35.3179\n",
      "Epoch [26/100], Train PSNR: 35.6537, Valid PSNR: 35.6002\n",
      "Epoch [27/100], Train PSNR: 35.8697, Valid PSNR: 35.9568\n",
      "Epoch [28/100], Train PSNR: 35.8922, Valid PSNR: 35.0519\n",
      "Epoch [29/100], Train PSNR: 35.6426, Valid PSNR: 36.1043\n",
      "Epoch [30/100], Train PSNR: 35.9212, Valid PSNR: 35.9340\n",
      "Epoch [31/100], Train PSNR: 35.9081, Valid PSNR: 36.0059\n",
      "Epoch [32/100], Train PSNR: 36.0934, Valid PSNR: 35.9784\n",
      "Epoch [33/100], Train PSNR: 36.0564, Valid PSNR: 35.5475\n",
      "Epoch [34/100], Train PSNR: 35.9769, Valid PSNR: 35.9752\n",
      "Epoch [35/100], Train PSNR: 36.0808, Valid PSNR: 35.9273\n",
      "Epoch [36/100], Train PSNR: 35.9692, Valid PSNR: 35.9170\n",
      "Epoch [37/100], Train PSNR: 36.1198, Valid PSNR: 36.0794\n",
      "Epoch [38/100], Train PSNR: 36.1898, Valid PSNR: 36.3805\n",
      "Epoch [39/100], Train PSNR: 36.2372, Valid PSNR: 35.9315\n",
      "Epoch [40/100], Train PSNR: 36.2566, Valid PSNR: 36.3664\n",
      "Epoch [41/100], Train PSNR: 36.3073, Valid PSNR: 36.3407\n",
      "Epoch [42/100], Train PSNR: 36.2370, Valid PSNR: 36.2313\n",
      "Epoch [43/100], Train PSNR: 36.3020, Valid PSNR: 36.1868\n",
      "Epoch [44/100], Train PSNR: 36.4197, Valid PSNR: 36.3188\n",
      "Epoch [45/100], Train PSNR: 36.3819, Valid PSNR: 36.3155\n",
      "Epoch [46/100], Train PSNR: 36.3980, Valid PSNR: 35.7969\n",
      "Epoch [47/100], Train PSNR: 36.3669, Valid PSNR: 36.1511\n",
      "Epoch [48/100], Train PSNR: 36.4311, Valid PSNR: 36.5800\n",
      "Epoch [49/100], Train PSNR: 36.4361, Valid PSNR: 36.6741\n",
      "Epoch [50/100], Train PSNR: 36.4292, Valid PSNR: 36.3456\n",
      "Epoch [51/100], Train PSNR: 36.5110, Valid PSNR: 36.5997\n",
      "Epoch [52/100], Train PSNR: 36.6300, Valid PSNR: 36.6074\n",
      "Epoch [53/100], Train PSNR: 36.6475, Valid PSNR: 36.6061\n",
      "Epoch [54/100], Train PSNR: 36.6708, Valid PSNR: 36.7667\n",
      "Epoch [55/100], Train PSNR: 36.6918, Valid PSNR: 36.6680\n",
      "Epoch [56/100], Train PSNR: 36.6264, Valid PSNR: 36.6184\n",
      "Epoch [57/100], Train PSNR: 36.6810, Valid PSNR: 36.6828\n",
      "Epoch [58/100], Train PSNR: 36.6562, Valid PSNR: 36.8446\n",
      "Epoch [59/100], Train PSNR: 36.7581, Valid PSNR: 36.8581\n",
      "Epoch [60/100], Train PSNR: 36.7209, Valid PSNR: 36.8915\n",
      "Epoch [61/100], Train PSNR: 36.7644, Valid PSNR: 36.2876\n",
      "Epoch [62/100], Train PSNR: 36.7456, Valid PSNR: 36.3863\n",
      "Epoch [63/100], Train PSNR: 36.7325, Valid PSNR: 36.9032\n",
      "Epoch [64/100], Train PSNR: 36.7834, Valid PSNR: 36.7105\n",
      "Epoch [65/100], Train PSNR: 36.8725, Valid PSNR: 36.8808\n",
      "Epoch [66/100], Train PSNR: 36.8085, Valid PSNR: 36.4857\n",
      "Epoch [67/100], Train PSNR: 36.8978, Valid PSNR: 36.8865\n",
      "Epoch [68/100], Train PSNR: 36.7775, Valid PSNR: 36.9009\n",
      "Epoch [69/100], Train PSNR: 36.9793, Valid PSNR: 36.9183\n",
      "Epoch [70/100], Train PSNR: 36.8436, Valid PSNR: 36.9898\n",
      "Epoch [71/100], Train PSNR: 36.9792, Valid PSNR: 36.8367\n",
      "Epoch [72/100], Train PSNR: 36.9951, Valid PSNR: 36.9786\n",
      "Epoch [73/100], Train PSNR: 36.9655, Valid PSNR: 37.0219\n",
      "Epoch [74/100], Train PSNR: 36.9616, Valid PSNR: 35.8116\n",
      "Epoch [75/100], Train PSNR: 37.0643, Valid PSNR: 36.9384\n",
      "Epoch [76/100], Train PSNR: 36.9773, Valid PSNR: 37.0209\n",
      "Epoch [77/100], Train PSNR: 37.1060, Valid PSNR: 36.9548\n",
      "Epoch [78/100], Train PSNR: 37.0283, Valid PSNR: 36.9894\n",
      "Epoch [79/100], Train PSNR: 36.9368, Valid PSNR: 36.8470\n",
      "Epoch [80/100], Train PSNR: 37.1317, Valid PSNR: 36.9739\n",
      "Epoch [81/100], Train PSNR: 37.0579, Valid PSNR: 37.0899\n",
      "Epoch [82/100], Train PSNR: 37.0908, Valid PSNR: 36.8236\n",
      "Epoch [83/100], Train PSNR: 37.1345, Valid PSNR: 37.0226\n",
      "Epoch [84/100], Train PSNR: 37.0551, Valid PSNR: 37.1490\n",
      "Epoch [85/100], Train PSNR: 37.1304, Valid PSNR: 36.9307\n",
      "Epoch [86/100], Train PSNR: 37.2357, Valid PSNR: 36.7769\n",
      "Epoch [87/100], Train PSNR: 37.1881, Valid PSNR: 36.9834\n",
      "Epoch [88/100], Train PSNR: 37.0394, Valid PSNR: 37.0733\n",
      "Epoch [89/100], Train PSNR: 37.1529, Valid PSNR: 36.8730\n",
      "Epoch [90/100], Train PSNR: 37.1444, Valid PSNR: 36.6011\n",
      "Epoch [91/100], Train PSNR: 37.0854, Valid PSNR: 37.0454\n",
      "Epoch [92/100], Train PSNR: 37.0785, Valid PSNR: 36.8782\n",
      "Epoch [93/100], Train PSNR: 37.2729, Valid PSNR: 37.2385\n",
      "Epoch [94/100], Train PSNR: 37.1968, Valid PSNR: 37.3040\n",
      "Epoch [95/100], Train PSNR: 37.3313, Valid PSNR: 36.9212\n",
      "Epoch [96/100], Train PSNR: 37.1582, Valid PSNR: 36.8477\n",
      "Epoch [97/100], Train PSNR: 37.1851, Valid PSNR: 37.1170\n",
      "Epoch [98/100], Train PSNR: 37.3418, Valid PSNR: 37.2085\n",
      "Epoch [99/100], Train PSNR: 37.3690, Valid PSNR: 36.9941\n",
      "Epoch [100/100], Train PSNR: 37.2987, Valid PSNR: 37.0611\n"
     ]
    }
   ],
   "source": [
    "import math\n",
    "import torch.nn as nn\n",
    "import torch\n",
    "\n",
    "def psnr(mse, max_pixel_val=255.0):\n",
    "    return 10 * math.log10(max_pixel_val**2 / mse)\n",
    "\n",
    "optimizer = torch.optim.Adam(ridnet.parameters(), lr=0.0002)\n",
    "criterion = nn.MSELoss()\n",
    "los = nn.MSELoss()\n",
    "num_epochs = 100\n",
    "device = torch.device(\"cuda:0\" if torch.cuda.is_available() else \"cpu\")\n",
    "ridnet.to(device)\n",
    "train_losses = []\n",
    "train_psnr = []\n",
    "test_losses = []\n",
    "test_psnr = []\n",
    "\n",
    "\n",
    "for epoch in range(num_epochs):\n",
    "    total_psnr_train = 0\n",
    "    tot_loss_train = 0\n",
    "    ridnet.train()\n",
    "    \n",
    "    optimizer.zero_grad()  # Initialize gradients once at the start of each epoch\n",
    "\n",
    "    for i, (noisy_imgs, clean_imgs) in enumerate(train_loader):\n",
    "        noisy_imgs, clean_imgs = noisy_imgs.to(device), clean_imgs.to(device)\n",
    "        outputs = ridnet(noisy_imgs)\n",
    "        loss = criterion(outputs, clean_imgs)\n",
    "        o = outputs*0.5+0.5\n",
    "        c = clean_imgs*0.5+0.5\n",
    "        mse = los(o*255.0,c*255.0)\n",
    "        current_psnr = psnr(mse)\n",
    "        total_psnr_train += current_psnr\n",
    "        tot_loss_train += loss.item()  # Using loss.item() to accumulate the loss\n",
    "\n",
    "        loss.backward()  # Calculate gradients\n",
    "\n",
    "        optimizer.step()  # Update weights\n",
    "        optimizer.zero_grad()  # Reset gradients\n",
    "\n",
    "    avg_psnr_train = total_psnr_train / len(train_loader)\n",
    "    train_losses.append(tot_loss_train / len(train_loader))\n",
    "    train_psnr.append(avg_psnr_train)\n",
    "    ridnet.eval()\n",
    "    total_psnr_valid = 0\n",
    "    tot_loss_valid = 0\n",
    "\n",
    "    with torch.no_grad():\n",
    "        for noisy_imgs, clean_imgs in valid_loader:\n",
    "            noisy_imgs, clean_imgs = noisy_imgs.to(device), clean_imgs.to(device)\n",
    "            outputs = ridnet(noisy_imgs)\n",
    "            loss = criterion(outputs, clean_imgs)\n",
    "            o = outputs*0.5+0.5\n",
    "            c = clean_imgs*0.5+0.5\n",
    "            mse = los(o*255.0,c*255.0)\n",
    "            current_psnr = psnr(mse)\n",
    "            total_psnr_valid += current_psnr\n",
    "            tot_loss_valid += loss.item()\n",
    "\n",
    "    avg_psnr_valid = total_psnr_valid / len(valid_loader)\n",
    "    test_losses.append(tot_loss_valid / len(valid_loader))\n",
    "    test_psnr.append(avg_psnr_valid)\n",
    "    save_some_examples(ridnet, valid_loader, epoch, folder=\"/kaggle/working/evaluation\")\n",
    "    print(f\"Epoch [{epoch+1}/{num_epochs}], Train PSNR: {avg_psnr_train:.4f}, Valid PSNR: {avg_psnr_valid:.4f}\")\n"
   ]
  },
  {
   "cell_type": "code",
   "execution_count": 8,
   "id": "51e16c4f",
   "metadata": {
    "execution": {
     "iopub.execute_input": "2023-11-19T05:58:53.678549Z",
     "iopub.status.busy": "2023-11-19T05:58:53.678196Z",
     "iopub.status.idle": "2023-11-19T05:58:53.682861Z",
     "shell.execute_reply": "2023-11-19T05:58:53.682005Z"
    },
    "papermill": {
     "duration": 0.019389,
     "end_time": "2023-11-19T05:58:53.684582",
     "exception": false,
     "start_time": "2023-11-19T05:58:53.665193",
     "status": "completed"
    },
    "tags": []
   },
   "outputs": [],
   "source": [
    "train_loss = []\n",
    "test_loss = []\n",
    "for i in train_losses:\n",
    "    train_loss.append(i)\n",
    "for i in test_losses:\n",
    "    test_loss.append(i)"
   ]
  },
  {
   "cell_type": "code",
   "execution_count": 9,
   "id": "92bf63d9",
   "metadata": {
    "execution": {
     "iopub.execute_input": "2023-11-19T05:58:53.709177Z",
     "iopub.status.busy": "2023-11-19T05:58:53.708906Z",
     "iopub.status.idle": "2023-11-19T05:58:53.713610Z",
     "shell.execute_reply": "2023-11-19T05:58:53.712730Z"
    },
    "papermill": {
     "duration": 0.019401,
     "end_time": "2023-11-19T05:58:53.715751",
     "exception": false,
     "start_time": "2023-11-19T05:58:53.696350",
     "status": "completed"
    },
    "tags": []
   },
   "outputs": [
    {
     "name": "stdout",
     "output_type": "stream",
     "text": [
      "Train_loss: 0.0007964577471174187\n",
      "Test_loss: 0.0008060510915873403\n"
     ]
    }
   ],
   "source": [
    "print(\"Train_loss:\",train_loss[len(train_loss)-1])\n",
    "print(\"Test_loss:\",test_loss[len(test_loss)-1])"
   ]
  },
  {
   "cell_type": "code",
   "execution_count": 10,
   "id": "15e349d1",
   "metadata": {
    "execution": {
     "iopub.execute_input": "2023-11-19T05:58:53.742016Z",
     "iopub.status.busy": "2023-11-19T05:58:53.741350Z",
     "iopub.status.idle": "2023-11-19T05:58:54.092699Z",
     "shell.execute_reply": "2023-11-19T05:58:54.091594Z"
    },
    "papermill": {
     "duration": 0.366467,
     "end_time": "2023-11-19T05:58:54.095138",
     "exception": false,
     "start_time": "2023-11-19T05:58:53.728671",
     "status": "completed"
    },
    "tags": []
   },
   "outputs": [
    {
     "data": {
      "image/png": "[encoded data removed]",
      "text/plain": [
       "<Figure size 800x600 with 1 Axes>"
      ]
     },
     "metadata": {},
     "output_type": "display_data"
    }
   ],
   "source": [
    "import matplotlib.pyplot as plt\n",
    "x = [i for i in range(1,num_epochs+1)]\n",
    "fig, ax = plt.subplots(1, figsize=(8,6))\n",
    "fig.suptitle(\"Learning Curve\", fontsize = 15)\n",
    "ax.plot(x, train_loss, label=\"Training Curve\")\n",
    "ax.plot(x, test_loss, label=\"Testing Curve\")\n",
    "plt.legend(loc=\"upper right\", frameon=False)\n",
    "plt.show()"
   ]
  },
  {
   "cell_type": "code",
   "execution_count": 11,
   "id": "beb0daa8",
   "metadata": {
    "execution": {
     "iopub.execute_input": "2023-11-19T05:58:54.123176Z",
     "iopub.status.busy": "2023-11-19T05:58:54.122560Z",
     "iopub.status.idle": "2023-11-19T05:58:54.389243Z",
     "shell.execute_reply": "2023-11-19T05:58:54.388326Z"
    },
    "papermill": {
     "duration": 0.283156,
     "end_time": "2023-11-19T05:58:54.391590",
     "exception": false,
     "start_time": "2023-11-19T05:58:54.108434",
     "status": "completed"
    },
    "tags": []
   },
   "outputs": [
    {
     "data": {
      "image/png": "[encoded data removed]",
      "text/plain": [
       "<Figure size 800x600 with 1 Axes>"
      ]
     },
     "metadata": {},
     "output_type": "display_data"
    }
   ],
   "source": [
    "import matplotlib.pyplot as plt\n",
    "x = [i for i in range(1,num_epochs+1)]\n",
    "fig, ax = plt.subplots(1, figsize=(8,6))\n",
    "fig.suptitle(\"PSNR\", fontsize = 15)\n",
    "ax.plot(x, train_psnr, label=\"Training PSNR\")\n",
    "ax.plot(x, test_psnr, label=\"Testing PSNR\")\n",
    "plt.legend(loc=\"lower right\", frameon=False)\n",
    "plt.show()"
   ]
  },
  {
   "cell_type": "code",
   "execution_count": 12,
   "id": "5148840a",
   "metadata": {
    "execution": {
     "iopub.execute_input": "2023-11-19T05:58:54.420017Z",
     "iopub.status.busy": "2023-11-19T05:58:54.419598Z",
     "iopub.status.idle": "2023-11-19T05:58:54.468392Z",
     "shell.execute_reply": "2023-11-19T05:58:54.467532Z"
    },
    "papermill": {
     "duration": 0.065561,
     "end_time": "2023-11-19T05:58:54.470763",
     "exception": false,
     "start_time": "2023-11-19T05:58:54.405202",
     "status": "completed"
    },
    "tags": []
   },
   "outputs": [],
   "source": [
    "torch.save(ridnet.state_dict(),'ridnet_cnn_256.pth')"
   ]
  },
  {
   "cell_type": "code",
   "execution_count": null,
   "id": "840f905d",
   "metadata": {
    "papermill": {
     "duration": 0.01294,
     "end_time": "2023-11-19T05:58:54.502507",
     "exception": false,
     "start_time": "2023-11-19T05:58:54.489567",
     "status": "completed"
    },
    "tags": []
   },
   "outputs": [],
   "source": []
  }
 ],
 "metadata": {
  "kaggle": {
   "accelerator": "nvidiaTeslaT4",
   "dataSources": [
    {
     "datasetId": 3890669,
     "sourceId": 6759137,
     "sourceType": "datasetVersion"
    }
   ],
   "dockerImageVersionId": 30554,
   "isGpuEnabled": true,
   "isInternetEnabled": true,
   "language": "python",
   "sourceType": "notebook"
  },
  "kernelspec": {
   "display_name": "Python 3",
   "language": "python",
   "name": "python3"
  },
  "language_info": {
   "codemirror_mode": {
    "name": "ipython",
    "version": 3
   },
   "file_extension": ".py",
   "mimetype": "text/x-python",
   "name": "python",
   "nbconvert_exporter": "python",
   "pygments_lexer": "ipython3",
   "version": "3.10.12"
  },
  "papermill": {
   "default_parameters": {},
   "duration": 30904.457239,
   "end_time": "2023-11-19T05:58:58.491270",
   "environment_variables": {},
   "exception": null,
   "input_path": "__notebook__.ipynb",
   "output_path": "__notebook__.ipynb",
   "parameters": {},
   "start_time": "2023-11-18T21:23:54.034031",
   "version": "2.4.0"
  }
 },
 "nbformat": 4,
 "nbformat_minor": 5
}
