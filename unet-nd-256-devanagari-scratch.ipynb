{
 "cells": [
  {
   "cell_type": "code",
   "execution_count": 1,
   "id": "3dd40b70",
   "metadata": {
    "_cell_guid": "b1076dfc-b9ad-4769-8c92-a6c4dae69d19",
    "_uuid": "8f2839f25d086af736a60e9eeb907d3b93b6e0e5",
    "execution": {
     "iopub.execute_input": "2023-11-20T04:05:34.751471Z",
     "iopub.status.busy": "2023-11-20T04:05:34.751071Z",
     "iopub.status.idle": "2023-11-20T04:05:39.471132Z",
     "shell.execute_reply": "2023-11-20T04:05:39.470121Z"
    },
    "papermill": {
     "duration": 4.729594,
     "end_time": "2023-11-20T04:05:39.473689",
     "exception": false,
     "start_time": "2023-11-20T04:05:34.744095",
     "status": "completed"
    },
    "tags": []
   },
   "outputs": [],
   "source": [
    "import numpy as np\n",
    "import pandas as pd\n",
    "import os\n",
    "import torch\n",
    "import torch.nn as nn\n",
    "from torch.utils.data import Dataset, DataLoader\n",
    "import pickle\n",
    "import math\n",
    "import torch.nn.init as init"
   ]
  },
  {
   "cell_type": "code",
   "execution_count": 2,
   "id": "a5c0b0e2",
   "metadata": {
    "execution": {
     "iopub.execute_input": "2023-11-20T04:05:39.485878Z",
     "iopub.status.busy": "2023-11-20T04:05:39.485047Z",
     "iopub.status.idle": "2023-11-20T04:05:39.818455Z",
     "shell.execute_reply": "2023-11-20T04:05:39.817670Z"
    },
    "papermill": {
     "duration": 0.341797,
     "end_time": "2023-11-20T04:05:39.820781",
     "exception": false,
     "start_time": "2023-11-20T04:05:39.478984",
     "status": "completed"
    },
    "tags": []
   },
   "outputs": [],
   "source": [
    "import os\n",
    "import torch\n",
    "import torch.nn as nn\n",
    "import torch.nn.functional as F\n",
    "from torch.utils.data import DataLoader, Dataset\n",
    "from torchvision import transforms\n",
    "from torchvision.io import read_image\n",
    "from torchvision.utils import save_image\n",
    "import matplotlib.pyplot as plt"
   ]
  },
  {
   "cell_type": "code",
   "execution_count": 3,
   "id": "b5e30f0e",
   "metadata": {
    "execution": {
     "iopub.execute_input": "2023-11-20T04:05:39.832918Z",
     "iopub.status.busy": "2023-11-20T04:05:39.832151Z",
     "iopub.status.idle": "2023-11-20T04:05:42.298320Z",
     "shell.execute_reply": "2023-11-20T04:05:42.297277Z"
    },
    "papermill": {
     "duration": 2.474798,
     "end_time": "2023-11-20T04:05:42.300914",
     "exception": false,
     "start_time": "2023-11-20T04:05:39.826116",
     "status": "completed"
    },
    "tags": []
   },
   "outputs": [
    {
     "name": "stderr",
     "output_type": "stream",
     "text": [
      "/opt/conda/lib/python3.10/site-packages/scipy/__init__.py:146: UserWarning: A NumPy version >=1.16.5 and <1.23.0 is required for this version of SciPy (detected version 1.23.5\n",
      "  warnings.warn(f\"A NumPy version >={np_minversion} and <{np_maxversion}\"\n"
     ]
    }
   ],
   "source": [
    "from torch.utils.data import Dataset, DataLoader\n",
    "from torchvision import transforms\n",
    "from PIL import Image\n",
    "import albumentations as A\n",
    "from albumentations.pytorch import ToTensorV2\n",
    "import os\n",
    "from torchvision.transforms import Lambda\n",
    "both_transform = A.Compose([A.Resize(width=256, height=256),], additional_targets={\"image0\": \"image\"},)\n",
    "transform = A.Compose([A.Normalize(mean=[0.5, 0.5, 0.5], std=[0.5, 0.5, 0.5], max_pixel_value=255.0,),ToTensorV2(),])\n",
    "class GroundTruthNoisyDataset(Dataset):\n",
    "    def __init__(self, root_dir):\n",
    "        self.root_dir = root_dir\n",
    "        self.folders = os.listdir(self.root_dir)\n",
    "\n",
    "    def __len__(self):\n",
    "        return len(self.folders)\n",
    "\n",
    "    def __getitem__(self, idx):\n",
    "        folder_name = self.folders[idx]\n",
    "        ground_truth_path = os.path.join(self.root_dir, folder_name, \"gt.jpg\")\n",
    "        noisy_path = os.path.join(self.root_dir, folder_name, \"noise.jpg\")\n",
    "        ground_truth = np.array(Image.open(ground_truth_path))\n",
    "        noisy = np.array(Image.open(noisy_path))\n",
    "        augmentations = both_transform(image=noisy, image0=ground_truth)\n",
    "        noisy = augmentations[\"image\"]\n",
    "        ground_truth = augmentations[\"image0\"]\n",
    "        ground_truth = transform(image = ground_truth)[\"image\"]\n",
    "        noisy = transform(image = noisy)[\"image\"]\n",
    "        return noisy, ground_truth"
   ]
  },
  {
   "cell_type": "code",
   "execution_count": 4,
   "id": "63c58701",
   "metadata": {
    "execution": {
     "iopub.execute_input": "2023-11-20T04:05:42.313084Z",
     "iopub.status.busy": "2023-11-20T04:05:42.312670Z",
     "iopub.status.idle": "2023-11-20T04:05:42.319565Z",
     "shell.execute_reply": "2023-11-20T04:05:42.318723Z"
    },
    "papermill": {
     "duration": 0.01457,
     "end_time": "2023-11-20T04:05:42.321349",
     "exception": false,
     "start_time": "2023-11-20T04:05:42.306779",
     "status": "completed"
    },
    "tags": []
   },
   "outputs": [],
   "source": [
    "def save_some_examples(gen, val_loader, epoch, folder):\n",
    "    x, y = next(iter(val_loader))\n",
    "    DEVICE = \"cuda\" if torch.cuda.is_available() else \"cpu\"\n",
    "    x, y = x.to(DEVICE), y.to(DEVICE)\n",
    "    if not os.path.exists(folder):\n",
    "        os.makedirs(folder)\n",
    "    gen.eval()\n",
    "    with torch.no_grad():\n",
    "        y_fake = gen(x)\n",
    "        y_fake = y_fake * 0.5 + 0.5  # remove normalization#\n",
    "        save_image(y_fake, folder + f\"/y_gen_{epoch}.png\")\n",
    "        save_image(x * 0.5 + 0.5, folder + f\"/input_{epoch}.png\")\n",
    "        if epoch == 1:\n",
    "            save_image(y * 0.5 + 0.5, folder + f\"/label_{epoch}.png\")\n",
    "    gen.train()"
   ]
  },
  {
   "cell_type": "code",
   "execution_count": 5,
   "id": "95de9aba",
   "metadata": {
    "execution": {
     "iopub.execute_input": "2023-11-20T04:05:42.332425Z",
     "iopub.status.busy": "2023-11-20T04:05:42.331832Z",
     "iopub.status.idle": "2023-11-20T04:05:42.335856Z",
     "shell.execute_reply": "2023-11-20T04:05:42.335049Z"
    },
    "papermill": {
     "duration": 0.011464,
     "end_time": "2023-11-20T04:05:42.337815",
     "exception": false,
     "start_time": "2023-11-20T04:05:42.326351",
     "status": "completed"
    },
    "tags": []
   },
   "outputs": [],
   "source": [
    "root_tr = \"/kaggle/input/devanagari-denoise-256-8k/devanagari_noise_set_256_8k/train\"\n",
    "root_te = \"/kaggle/input/devanagari-denoise-256-8k/devanagari_noise_set_256_8k/val\""
   ]
  },
  {
   "cell_type": "code",
   "execution_count": 6,
   "id": "7d6609c7",
   "metadata": {
    "execution": {
     "iopub.execute_input": "2023-11-20T04:05:42.348933Z",
     "iopub.status.busy": "2023-11-20T04:05:42.348418Z",
     "iopub.status.idle": "2023-11-20T04:05:42.563049Z",
     "shell.execute_reply": "2023-11-20T04:05:42.562279Z"
    },
    "papermill": {
     "duration": 0.222965,
     "end_time": "2023-11-20T04:05:42.565560",
     "exception": false,
     "start_time": "2023-11-20T04:05:42.342595",
     "status": "completed"
    },
    "tags": []
   },
   "outputs": [],
   "source": [
    "train_dataset = GroundTruthNoisyDataset(root_tr)\n",
    "train_loader = DataLoader(train_dataset, batch_size=16, shuffle=True)\n",
    "\n",
    "valid_dataset = GroundTruthNoisyDataset(root_te)\n",
    "valid_loader = DataLoader(valid_dataset, batch_size=32, shuffle=False)"
   ]
  },
  {
   "cell_type": "code",
   "execution_count": 7,
   "id": "36ac4312",
   "metadata": {
    "execution": {
     "iopub.execute_input": "2023-11-20T04:05:42.577286Z",
     "iopub.status.busy": "2023-11-20T04:05:42.576998Z",
     "iopub.status.idle": "2023-11-20T04:05:42.620152Z",
     "shell.execute_reply": "2023-11-20T04:05:42.619504Z"
    },
    "papermill": {
     "duration": 0.051031,
     "end_time": "2023-11-20T04:05:42.621901",
     "exception": false,
     "start_time": "2023-11-20T04:05:42.570870",
     "status": "completed"
    },
    "tags": []
   },
   "outputs": [],
   "source": [
    "#!/usr/bin/env python\n",
    "\n",
    "import torch\n",
    "import torch.nn as nn\n",
    "import torch.nn.functional as F\n",
    "\n",
    "\n",
    "# Denoise DND and NAM\n",
    "class UNet_ND(nn.Module):\n",
    "\n",
    "    def __init__(self):\n",
    "        super(UNet_ND, self).__init__()\n",
    "        self.main = MainNet(in_nc=3, out_nc=12)\n",
    "        self.main2 = MainNet(in_nc=15, out_nc=24)\n",
    "        self.out = nn.Conv2d(24, 3, kernel_size=3, padding=1, bias=True)\n",
    "\n",
    "    def forward(self, x):\n",
    "        out1 = self.main(x)\n",
    "        out1[:,:3,:,:] = out1[:,:3,:,:] + x\n",
    "        out2 = self.main2(torch.cat([x, out1], dim=1))\n",
    "        out2[:, :3, :, :] = out2[:, :3, :, :] + x\n",
    "        out2[:, 12:, :, :] = out2[:, 12:, :, :] + out1\n",
    "\n",
    "        return self.out(out2) + x\n",
    "\n",
    "class UNet_D(nn.Module):\n",
    "\n",
    "    def __init__(self):\n",
    "        super(UNet_D, self).__init__()\n",
    "        self.main = MainNet(in_nc=3, out_nc=12)\n",
    "        self.main2 = MainNet(in_nc=15, out_nc=24)\n",
    "        self.out = nn.Conv2d(24, 3, kernel_size=3, padding=1, bias=True)\n",
    "\n",
    "    def forward(self, x):\n",
    "        out1 = self.main(x)\n",
    "        out1[:,:3,:,:] = out1[:,:3,:,:] + x\n",
    "        out2 = self.main2(torch.cat([x, out1], dim=1))\n",
    "        out2[:, :3, :, :] = out2[:, :3, :, :] + x\n",
    "        out2[:, 12:, :, :] = out2[:, 12:, :, :] + out1\n",
    "\n",
    "        return self.out(out2) + x\n",
    "\n",
    "class HI_GAN(nn.Module):\n",
    "    def __init__(self, ):\n",
    "        super(HI_GAN, self).__init__()\n",
    "        self.main = MainNet(in_nc=6, out_nc=6)\n",
    "        self.main2 = MainNet(in_nc=12, out_nc=12)\n",
    "        self.main3 = MainNet(in_nc=24, out_nc=24)\n",
    "        self.out = nn.Conv2d(24, 3, kernel_size=3, padding=1, bias=True)\n",
    "    def forward(self, unet_nd_dn, unet_d_dn):\n",
    "        concat_img1 = torch.cat([unet_nd_dn, unet_d_dn], dim=1)\n",
    "        out1 = 0.2*self.main(concat_img1) + concat_img1\n",
    "\n",
    "        concat_img2 = torch.cat([concat_img1, out1], dim=1)\n",
    "        out2 = 0.2*self.main2(concat_img2) + concat_img2\n",
    "\n",
    "        concat_img3 = torch.cat([concat_img2, out2], dim=1)\n",
    "        out3 = 0.2*self.main3(concat_img3) + concat_img3\n",
    "\n",
    "        out = 0.2 * self.out(out3) + 0.5 * unet_nd_dn + 0.5 * unet_d_dn\n",
    "        return out\n",
    "\n",
    "# Denoise Cell\n",
    "class UNet_ND_cell(nn.Module):\n",
    "\n",
    "    def __init__(self):\n",
    "        super(UNet_ND_cell, self).__init__()\n",
    "        self.main = MainNet(in_nc=1, out_nc=1)\n",
    "        self.main2 = MainNet(in_nc=2, out_nc=2)\n",
    "        self.out = nn.Conv2d(4, 1, kernel_size=3, padding=1, bias=True)\n",
    "\n",
    "    def forward(self, x):\n",
    "        out1 = self.main(x) + x\n",
    "        cat1 = torch.cat([x, out1], dim=1)\n",
    "        out2 = self.main2(cat1) + cat1\n",
    "        cat2 = torch.cat([x,out1, out2], dim=1)\n",
    "        return self.out(cat2) + x\n",
    "\n",
    "class UNet_D_cell(nn.Module):\n",
    "\n",
    "    def __init__(self):\n",
    "        super(UNet_D_cell, self).__init__()\n",
    "        self.main = MainNet(in_nc=1, out_nc=1)\n",
    "        self.main2 = MainNet(in_nc=2, out_nc=2)\n",
    "        self.out = nn.Conv2d(4, 1, kernel_size=3, padding=1, bias=True)\n",
    "\n",
    "    def forward(self, x):\n",
    "        out1 = self.main(x) + x\n",
    "        cat1 = torch.cat([x, out1], dim=1)\n",
    "        out2 = self.main2(cat1) + cat1\n",
    "        cat2 = torch.cat([x,out1, out2], dim=1)\n",
    "        return self.out(cat2) + x\n",
    "\n",
    "class HI_GAN_cell(nn.Module):\n",
    "    def __init__(self, ):\n",
    "        super(HI_GAN_cell, self).__init__()\n",
    "        self.main = MainNet(in_nc=2, out_nc=2)\n",
    "        self.main2 = MainNet(in_nc=4, out_nc=4)\n",
    "        self.main3 = MainNet(in_nc=8, out_nc=8)\n",
    "        self.out = nn.Conv2d(8, 1, kernel_size=3, padding=1, bias=True)\n",
    "    def forward(self, unet_nd_dn, unet_d_dn):\n",
    "        cat1 = torch.cat([unet_nd_dn, unet_d_dn], dim=1)\n",
    "        out1 = 0.2*self.main(cat1) + cat1\n",
    "\n",
    "        cat2 = torch.cat([cat1, out1], dim=1)\n",
    "        out2 = 0.2*self.main2(cat2) + cat2\n",
    "\n",
    "        cat3 = torch.cat([cat2, out2], dim=1)\n",
    "        out3 = 0.2*self.main3(cat3) + cat3\n",
    "\n",
    "        out = 0.2 * self.out(out3) + 0.5 * unet_nd_dn + 0.5 * unet_d_dn\n",
    "        return out\n",
    "\n",
    "\n",
    "## Sub classes\n",
    "class MainNet(nn.Module):\n",
    "    \"\"\"B-DenseUNets\"\"\"\n",
    "    def __init__(self, in_nc=12, out_nc=12):\n",
    "        super(MainNet, self).__init__()\n",
    "        self.inc = nn.Sequential(\n",
    "            single_conv(in_nc, 64),\n",
    "            single_conv(64, 64),\n",
    "        )\n",
    "        self.down1 = nn.AvgPool2d(2)\n",
    "        self.conv1 = nn.Sequential(\n",
    "            single_conv(64, 128),\n",
    "            RDB(128, 4, 32),\n",
    "        )\n",
    "        self.down2 = nn.AvgPool2d(2)\n",
    "        self.conv2 = nn.Sequential(\n",
    "            single_conv(128, 256),\n",
    "            RDB(256, 10, 32),\n",
    "        )\n",
    "        self.up1 = up(256)\n",
    "        self.conv3 = nn.Sequential(\n",
    "            RDB(128, 6, 32),\n",
    "        )\n",
    "        self.up2 = up(128)\n",
    "        self.conv4 = nn.Sequential(\n",
    "            RDB(64, 4, 32),\n",
    "        )\n",
    "        self.outc = outconv(64, out_nc)\n",
    "    def forward(self, x):\n",
    "        inx = self.inc(x)\n",
    "\n",
    "        down1 = self.down1(inx)\n",
    "        conv1 = self.conv1(down1)\n",
    "\n",
    "        down2 = self.down2(conv1)\n",
    "        conv2 = self.conv2(down2)\n",
    "\n",
    "        up1 = self.up1(conv2, conv1)\n",
    "        conv3 = self.conv3(up1)\n",
    "\n",
    "        up2 = self.up2(conv3, inx)\n",
    "        conv4 = self.conv4(up2)\n",
    "\n",
    "        out = self.outc(conv4)\n",
    "        return out\n",
    "\n",
    "class single_conv(nn.Module):\n",
    "    def __init__(self, in_ch, out_ch):\n",
    "        super(single_conv, self).__init__()\n",
    "        self.conv = nn.Sequential(\n",
    "            nn.Conv2d(in_ch, out_ch, 3, padding=1),\n",
    "            nn.ReLU(inplace=True)\n",
    "        )\n",
    "\n",
    "    def forward(self, x):\n",
    "        x = self.conv(x)\n",
    "        return x\n",
    "\n",
    "class up(nn.Module):\n",
    "    def __init__(self, in_ch):\n",
    "        super(up, self).__init__()\n",
    "        self.up = nn.ConvTranspose2d(in_ch, in_ch // 2, 2, stride=2)\n",
    "\n",
    "    def forward(self, x1, x2):\n",
    "        x1 = self.up(x1)\n",
    "\n",
    "        # input is CHW\n",
    "        diffY = x2.size()[2] - x1.size()[2]\n",
    "        diffX = x2.size()[3] - x1.size()[3]\n",
    "\n",
    "        x1 = F.pad(x1, (diffX // 2, diffX - diffX // 2,\n",
    "                        diffY // 2, diffY - diffY // 2))\n",
    "\n",
    "        x = x2 + x1\n",
    "        return x\n",
    "\n",
    "class outconv(nn.Module):\n",
    "    def __init__(self, in_ch, out_ch):\n",
    "        super(outconv, self).__init__()\n",
    "        self.conv = nn.Conv2d(in_ch, out_ch, 1)\n",
    "\n",
    "    def forward(self, x):\n",
    "        x = self.conv(x)\n",
    "        return x\n",
    "\n",
    "\n",
    "class RDB(nn.Module):\n",
    "    def __init__(self, nChannels, nDenselayer, growthRate):\n",
    "        super(RDB, self).__init__()\n",
    "        nChannels_ = nChannels\n",
    "        modules = []\n",
    "        for i in range(nDenselayer):\n",
    "            modules.append(make_dense(nChannels_, growthRate))\n",
    "            nChannels_ += growthRate\n",
    "        self.dense_layers = nn.Sequential(*modules)\n",
    "        self.conv_1x1 = nn.Conv2d(nChannels_, nChannels, kernel_size=1, padding=0, bias=False)\n",
    "\n",
    "    def forward(self, x):\n",
    "        out = self.dense_layers(x)\n",
    "        out = self.conv_1x1(out)\n",
    "        out = out + x\n",
    "        return out\n",
    "\n",
    "class make_dense(nn.Module):\n",
    "    def __init__(self, nChannels, growthRate, kernel_size=3):\n",
    "        super(make_dense, self).__init__()\n",
    "        self.conv = nn.Conv2d(nChannels, growthRate, kernel_size=kernel_size, padding=(kernel_size - 1) // 2,\n",
    "                              bias=False)\n",
    "\n",
    "    def forward(self, x):\n",
    "        out = F.relu(self.conv(x))\n",
    "        out = torch.cat((x, out), 1)\n",
    "        return out\n"
   ]
  },
  {
   "cell_type": "code",
   "execution_count": 8,
   "id": "2d626fef",
   "metadata": {
    "execution": {
     "iopub.execute_input": "2023-11-20T04:05:42.633238Z",
     "iopub.status.busy": "2023-11-20T04:05:42.632510Z",
     "iopub.status.idle": "2023-11-20T04:05:42.722077Z",
     "shell.execute_reply": "2023-11-20T04:05:42.721229Z"
    },
    "papermill": {
     "duration": 0.097289,
     "end_time": "2023-11-20T04:05:42.724328",
     "exception": false,
     "start_time": "2023-11-20T04:05:42.627039",
     "status": "completed"
    },
    "tags": []
   },
   "outputs": [],
   "source": [
    "model = UNet_ND()"
   ]
  },
  {
   "cell_type": "code",
   "execution_count": 9,
   "id": "ecc1756b",
   "metadata": {
    "execution": {
     "iopub.execute_input": "2023-11-20T04:05:42.735531Z",
     "iopub.status.busy": "2023-11-20T04:05:42.735272Z",
     "iopub.status.idle": "2023-11-20T04:05:42.865885Z",
     "shell.execute_reply": "2023-11-20T04:05:42.864953Z"
    },
    "papermill": {
     "duration": 0.138269,
     "end_time": "2023-11-20T04:05:42.867884",
     "exception": false,
     "start_time": "2023-11-20T04:05:42.729615",
     "status": "completed"
    },
    "tags": []
   },
   "outputs": [
    {
     "name": "stdout",
     "output_type": "stream",
     "text": [
      "Using 2 GPUs!\n"
     ]
    }
   ],
   "source": [
    "if torch.cuda.device_count() > 1:\n",
    "    print(\"Using\", torch.cuda.device_count(), \"GPUs!\")\n",
    "    model = nn.DataParallel(model)"
   ]
  },
  {
   "cell_type": "code",
   "execution_count": 10,
   "id": "42ef5366",
   "metadata": {
    "execution": {
     "iopub.execute_input": "2023-11-20T04:05:42.879186Z",
     "iopub.status.busy": "2023-11-20T04:05:42.878878Z",
     "iopub.status.idle": "2023-11-20T05:02:07.494181Z",
     "shell.execute_reply": "2023-11-20T05:02:07.493143Z"
    },
    "papermill": {
     "duration": 3384.624464,
     "end_time": "2023-11-20T05:02:07.497414",
     "exception": false,
     "start_time": "2023-11-20T04:05:42.872950",
     "status": "completed"
    },
    "tags": []
   },
   "outputs": [
    {
     "name": "stdout",
     "output_type": "stream",
     "text": [
      "Epoch [1/8], Train PSNR: 31.4116, Valid PSNR: 32.6661\n",
      "Epoch [2/8], Train PSNR: 36.0580, Valid PSNR: 35.1935\n",
      "Epoch [3/8], Train PSNR: 36.9777, Valid PSNR: 35.9784\n",
      "Epoch [4/8], Train PSNR: 37.3520, Valid PSNR: 36.0383\n",
      "Epoch [5/8], Train PSNR: 37.5554, Valid PSNR: 36.7174\n",
      "Epoch [6/8], Train PSNR: 37.3567, Valid PSNR: 35.9080\n",
      "Epoch [7/8], Train PSNR: 37.6499, Valid PSNR: 36.6582\n",
      "Epoch [8/8], Train PSNR: 37.8390, Valid PSNR: 35.6918\n"
     ]
    }
   ],
   "source": [
    "import math\n",
    "import torch.nn as nn\n",
    "import torch\n",
    "\n",
    "def psnr(mse, max_pixel_val=255.0):\n",
    "    return 10 * math.log10(max_pixel_val**2 / mse)\n",
    "\n",
    "optimizer = torch.optim.Adam(model.parameters(), lr=0.001)\n",
    "criterion = nn.MSELoss()\n",
    "los = nn.MSELoss()\n",
    "num_epochs = 8\n",
    "device = torch.device(\"cuda:0\" if torch.cuda.is_available() else \"cpu\")\n",
    "model.to(device)\n",
    "train_losses = []\n",
    "train_psnr = []\n",
    "test_losses = []\n",
    "test_psnr = []\n",
    "\n",
    "\n",
    "for epoch in range(num_epochs):\n",
    "    total_psnr_train = 0\n",
    "    tot_loss_train = 0\n",
    "    model.train()\n",
    "    \n",
    "    optimizer.zero_grad()  # Initialize gradients once at the start of each epoch\n",
    "\n",
    "    for i, (noisy_imgs, clean_imgs) in enumerate(train_loader):\n",
    "        noisy_imgs, clean_imgs = noisy_imgs.to(device), clean_imgs.to(device)\n",
    "        outputs = model(noisy_imgs)\n",
    "        loss = criterion(outputs, clean_imgs)\n",
    "        o = outputs*0.5+0.5\n",
    "        c = clean_imgs*0.5+0.5\n",
    "        mse = los(o*255.0,c*255.0)\n",
    "        current_psnr = psnr(mse)\n",
    "        total_psnr_train += current_psnr\n",
    "        tot_loss_train += loss.item()  # Using loss.item() to accumulate the loss\n",
    "\n",
    "        loss.backward()  # Calculate gradients\n",
    "\n",
    "        optimizer.step()  # Update weights\n",
    "        optimizer.zero_grad()  # Reset gradients\n",
    "\n",
    "    avg_psnr_train = total_psnr_train / len(train_loader)\n",
    "    train_losses.append(tot_loss_train / len(train_loader))\n",
    "    train_psnr.append(avg_psnr_train)\n",
    "    model.eval()\n",
    "    total_psnr_valid = 0\n",
    "    tot_loss_valid = 0\n",
    "\n",
    "    with torch.no_grad():\n",
    "        for noisy_imgs, clean_imgs in valid_loader:\n",
    "            noisy_imgs, clean_imgs = noisy_imgs.to(device), clean_imgs.to(device)\n",
    "            outputs = model(noisy_imgs)\n",
    "            o = outputs*0.5+0.5\n",
    "            c = clean_imgs*0.5+0.5\n",
    "            mse = los(o*255.0,c*255.0)\n",
    "            current_psnr = psnr(mse)\n",
    "            total_psnr_valid += current_psnr\n",
    "            tot_loss_valid += loss.item()\n",
    "\n",
    "    avg_psnr_valid = total_psnr_valid / len(valid_loader)\n",
    "    test_losses.append(tot_loss_valid / len(valid_loader))\n",
    "    test_psnr.append(avg_psnr_valid)\n",
    "    print(f\"Epoch [{epoch+1}/{num_epochs}], Train PSNR: {avg_psnr_train:.4f}, Valid PSNR: {avg_psnr_valid:.4f}\")\n",
    "    save_some_examples(model, valid_loader, epoch, folder=\"/kaggle/working/evaluation\")"
   ]
  },
  {
   "cell_type": "code",
   "execution_count": 11,
   "id": "998b2e85",
   "metadata": {
    "execution": {
     "iopub.execute_input": "2023-11-20T05:02:07.514910Z",
     "iopub.status.busy": "2023-11-20T05:02:07.514586Z",
     "iopub.status.idle": "2023-11-20T05:02:07.521133Z",
     "shell.execute_reply": "2023-11-20T05:02:07.520035Z"
    },
    "papermill": {
     "duration": 0.01847,
     "end_time": "2023-11-20T05:02:07.524136",
     "exception": false,
     "start_time": "2023-11-20T05:02:07.505666",
     "status": "completed"
    },
    "tags": []
   },
   "outputs": [],
   "source": [
    "train_loss = []\n",
    "test_loss = []\n",
    "for i in train_losses:\n",
    "    train_loss.append(i)\n",
    "for i in test_losses:\n",
    "    test_loss.append(i)"
   ]
  },
  {
   "cell_type": "code",
   "execution_count": 12,
   "id": "b194fd9d",
   "metadata": {
    "execution": {
     "iopub.execute_input": "2023-11-20T05:02:07.541139Z",
     "iopub.status.busy": "2023-11-20T05:02:07.540789Z",
     "iopub.status.idle": "2023-11-20T05:02:07.549781Z",
     "shell.execute_reply": "2023-11-20T05:02:07.548765Z"
    },
    "papermill": {
     "duration": 0.020034,
     "end_time": "2023-11-20T05:02:07.552429",
     "exception": false,
     "start_time": "2023-11-20T05:02:07.532395",
     "status": "completed"
    },
    "tags": []
   },
   "outputs": [
    {
     "name": "stdout",
     "output_type": "stream",
     "text": [
      "Train_loss: 0.0006657999593038061\n",
      "Test_loss: 0.0005477237282320857\n"
     ]
    }
   ],
   "source": [
    "print(\"Train_loss:\",train_loss[len(train_loss)-1])\n",
    "print(\"Test_loss:\",test_loss[len(test_loss)-1])"
   ]
  },
  {
   "cell_type": "code",
   "execution_count": 13,
   "id": "a1f9f653",
   "metadata": {
    "execution": {
     "iopub.execute_input": "2023-11-20T05:02:07.571885Z",
     "iopub.status.busy": "2023-11-20T05:02:07.571543Z",
     "iopub.status.idle": "2023-11-20T05:02:07.885314Z",
     "shell.execute_reply": "2023-11-20T05:02:07.884430Z"
    },
    "papermill": {
     "duration": 0.327144,
     "end_time": "2023-11-20T05:02:07.887841",
     "exception": false,
     "start_time": "2023-11-20T05:02:07.560697",
     "status": "completed"
    },
    "tags": []
   },
   "outputs": [
    {
     "data": {
      "image/png": "[encoded data removed]",
      "text/plain": [
       "<Figure size 800x600 with 1 Axes>"
      ]
     },
     "metadata": {},
     "output_type": "display_data"
    }
   ],
   "source": [
    "import matplotlib.pyplot as plt\n",
    "x = [i for i in range(1,num_epochs+1)]\n",
    "fig, ax = plt.subplots(1, figsize=(8,6))\n",
    "fig.suptitle(\"Learning Curve\", fontsize = 15)\n",
    "ax.set_xlabel('Epochs')\n",
    "ax.set_ylabel('Loss')\n",
    "ax.plot(x, train_loss, label=\"Training Curve\")\n",
    "ax.plot(x, test_loss, label=\"Testing Curve\")\n",
    "plt.legend(loc=\"upper right\", frameon=False)\n",
    "plt.show()"
   ]
  },
  {
   "cell_type": "code",
   "execution_count": 14,
   "id": "6557e7fa",
   "metadata": {
    "execution": {
     "iopub.execute_input": "2023-11-20T05:02:07.907837Z",
     "iopub.status.busy": "2023-11-20T05:02:07.906997Z",
     "iopub.status.idle": "2023-11-20T05:02:08.184892Z",
     "shell.execute_reply": "2023-11-20T05:02:08.183912Z"
    },
    "papermill": {
     "duration": 0.290177,
     "end_time": "2023-11-20T05:02:08.187206",
     "exception": false,
     "start_time": "2023-11-20T05:02:07.897029",
     "status": "completed"
    },
    "tags": []
   },
   "outputs": [
    {
     "data": {
      "image/png": "[encoded data removed]",
      "text/plain": [
       "<Figure size 800x600 with 1 Axes>"
      ]
     },
     "metadata": {},
     "output_type": "display_data"
    }
   ],
   "source": [
    "import matplotlib.pyplot as plt\n",
    "x = [i for i in range(1,num_epochs+1)]\n",
    "fig, ax = plt.subplots(1, figsize=(8,6))\n",
    "fig.suptitle(\"PSNR\", fontsize = 15)\n",
    "ax.set_xlabel('Epochs')\n",
    "ax.set_ylabel('PSNR')\n",
    "ax.plot(x, train_psnr, label=\"Training PSNR\")\n",
    "ax.plot(x, test_psnr, label=\"Testing PSNR\")\n",
    "plt.legend(loc=\"lower right\", frameon=False)\n",
    "plt.show()"
   ]
  },
  {
   "cell_type": "code",
   "execution_count": 15,
   "id": "76cb996e",
   "metadata": {
    "execution": {
     "iopub.execute_input": "2023-11-20T05:02:08.202823Z",
     "iopub.status.busy": "2023-11-20T05:02:08.202472Z",
     "iopub.status.idle": "2023-11-20T05:02:08.251913Z",
     "shell.execute_reply": "2023-11-20T05:02:08.251073Z"
    },
    "papermill": {
     "duration": 0.059551,
     "end_time": "2023-11-20T05:02:08.253886",
     "exception": false,
     "start_time": "2023-11-20T05:02:08.194335",
     "status": "completed"
    },
    "tags": []
   },
   "outputs": [],
   "source": [
    "torch.save(model.module.state_dict(), 'model_unetnd_denoise_256_devanagari_scratch.pth')"
   ]
  },
  {
   "cell_type": "code",
   "execution_count": null,
   "id": "467f95b1",
   "metadata": {
    "papermill": {
     "duration": 0.006842,
     "end_time": "2023-11-20T05:02:08.268082",
     "exception": false,
     "start_time": "2023-11-20T05:02:08.261240",
     "status": "completed"
    },
    "tags": []
   },
   "outputs": [],
   "source": []
  }
 ],
 "metadata": {
  "kaggle": {
   "accelerator": "nvidiaTeslaT4",
   "dataSources": [
    {
     "datasetId": 4026769,
     "sourceId": 7004415,
     "sourceType": "datasetVersion"
    }
   ],
   "dockerImageVersionId": 30559,
   "isGpuEnabled": true,
   "isInternetEnabled": true,
   "language": "python",
   "sourceType": "notebook"
  },
  "kernelspec": {
   "display_name": "Python 3",
   "language": "python",
   "name": "python3"
  },
  "language_info": {
   "codemirror_mode": {
    "name": "ipython",
    "version": 3
   },
   "file_extension": ".py",
   "mimetype": "text/x-python",
   "name": "python",
   "nbconvert_exporter": "python",
   "pygments_lexer": "ipython3",
   "version": "3.10.12"
  },
  "papermill": {
   "default_parameters": {},
   "duration": 3400.096973,
   "end_time": "2023-11-20T05:02:11.262232",
   "environment_variables": {},
   "exception": null,
   "input_path": "__notebook__.ipynb",
   "output_path": "__notebook__.ipynb",
   "parameters": {},
   "start_time": "2023-11-20T04:05:31.165259",
   "version": "2.4.0"
  }
 },
 "nbformat": 4,
 "nbformat_minor": 5
}
