{
 "cells": [
  {
   "cell_type": "code",
   "execution_count": 1,
   "id": "8308b162",
   "metadata": {
    "_cell_guid": "b1076dfc-b9ad-4769-8c92-a6c4dae69d19",
    "_uuid": "8f2839f25d086af736a60e9eeb907d3b93b6e0e5",
    "execution": {
     "iopub.execute_input": "2023-10-21T21:43:51.697892Z",
     "iopub.status.busy": "2023-10-21T21:43:51.697149Z",
     "iopub.status.idle": "2023-10-21T21:43:56.361682Z",
     "shell.execute_reply": "2023-10-21T21:43:56.360675Z"
    },
    "papermill": {
     "duration": 4.673863,
     "end_time": "2023-10-21T21:43:56.364311",
     "exception": false,
     "start_time": "2023-10-21T21:43:51.690448",
     "status": "completed"
    },
    "tags": []
   },
   "outputs": [],
   "source": [
    "import numpy as np\n",
    "import pandas as pd\n",
    "import os\n",
    "import torch\n",
    "import torch.nn as nn\n",
    "from torch.utils.data import Dataset, DataLoader\n",
    "import pickle\n",
    "import math\n",
    "import torch.nn.init as init"
   ]
  },
  {
   "cell_type": "code",
   "execution_count": 2,
   "id": "03784aa9",
   "metadata": {
    "execution": {
     "iopub.execute_input": "2023-10-21T21:43:56.375856Z",
     "iopub.status.busy": "2023-10-21T21:43:56.375433Z",
     "iopub.status.idle": "2023-10-21T21:43:56.699596Z",
     "shell.execute_reply": "2023-10-21T21:43:56.698767Z"
    },
    "papermill": {
     "duration": 0.332332,
     "end_time": "2023-10-21T21:43:56.702043",
     "exception": false,
     "start_time": "2023-10-21T21:43:56.369711",
     "status": "completed"
    },
    "tags": []
   },
   "outputs": [],
   "source": [
    "import os\n",
    "import torch\n",
    "import torch.nn as nn\n",
    "import torch.nn.functional as F\n",
    "from torch.utils.data import DataLoader, Dataset\n",
    "from torchvision import transforms\n",
    "from torchvision.io import read_image\n",
    "from torchvision.utils import save_image\n",
    "import matplotlib.pyplot as plt"
   ]
  },
  {
   "cell_type": "code",
   "execution_count": 3,
   "id": "f65b1ac5",
   "metadata": {
    "execution": {
     "iopub.execute_input": "2023-10-21T21:43:56.714281Z",
     "iopub.status.busy": "2023-10-21T21:43:56.713974Z",
     "iopub.status.idle": "2023-10-21T21:43:56.722674Z",
     "shell.execute_reply": "2023-10-21T21:43:56.721630Z"
    },
    "papermill": {
     "duration": 0.017121,
     "end_time": "2023-10-21T21:43:56.724584",
     "exception": false,
     "start_time": "2023-10-21T21:43:56.707463",
     "status": "completed"
    },
    "tags": []
   },
   "outputs": [],
   "source": [
    "from torch.utils.data import Dataset, DataLoader\n",
    "from torchvision import transforms\n",
    "from PIL import Image\n",
    "import os\n",
    "from torchvision.transforms import Lambda\n",
    "class GroundTruthNoisyDataset(Dataset):\n",
    "    def __init__(self, root_dir, transform=None):\n",
    "        self.root_dir = root_dir\n",
    "        self.transform = transform\n",
    "        self.folders = os.listdir(self.root_dir)\n",
    "\n",
    "    def __len__(self):\n",
    "        return len(self.folders)\n",
    "\n",
    "    def __getitem__(self, idx):\n",
    "        folder_name = self.folders[idx]\n",
    "        ground_truth_path = os.path.join(self.root_dir, folder_name, \"gt.jpg\")\n",
    "        noisy_path = os.path.join(self.root_dir, folder_name, \"noise.jpg\")\n",
    "        \n",
    "        ground_truth = read_image(ground_truth_path)\n",
    "        noisy = read_image(noisy_path)\n",
    "\n",
    "        if self.transform:\n",
    "            ground_truth = self.transform(ground_truth)\n",
    "            noisy = self.transform(noisy)\n",
    "\n",
    "        return ground_truth/255.0, noisy/255.0"
   ]
  },
  {
   "cell_type": "code",
   "execution_count": 4,
   "id": "2c0e9418",
   "metadata": {
    "execution": {
     "iopub.execute_input": "2023-10-21T21:43:56.735208Z",
     "iopub.status.busy": "2023-10-21T21:43:56.734910Z",
     "iopub.status.idle": "2023-10-21T21:43:56.738786Z",
     "shell.execute_reply": "2023-10-21T21:43:56.737922Z"
    },
    "papermill": {
     "duration": 0.011301,
     "end_time": "2023-10-21T21:43:56.740655",
     "exception": false,
     "start_time": "2023-10-21T21:43:56.729354",
     "status": "completed"
    },
    "tags": []
   },
   "outputs": [],
   "source": [
    "root_tr = \"/kaggle/input/256-256-image-denoising-benchmark/Image_Denoising_Data_256/Train\"\n",
    "root_te = \"/kaggle/input/256-256-image-denoising-benchmark/Image_Denoising_Data_256/Test\""
   ]
  },
  {
   "cell_type": "code",
   "execution_count": 5,
   "id": "32d575d2",
   "metadata": {
    "execution": {
     "iopub.execute_input": "2023-10-21T21:43:56.751265Z",
     "iopub.status.busy": "2023-10-21T21:43:56.751008Z",
     "iopub.status.idle": "2023-10-21T21:43:57.251478Z",
     "shell.execute_reply": "2023-10-21T21:43:57.250546Z"
    },
    "papermill": {
     "duration": 0.508543,
     "end_time": "2023-10-21T21:43:57.253974",
     "exception": false,
     "start_time": "2023-10-21T21:43:56.745431",
     "status": "completed"
    },
    "tags": []
   },
   "outputs": [],
   "source": [
    "train_dataset = GroundTruthNoisyDataset(root_tr)\n",
    "train_loader = DataLoader(train_dataset, batch_size=16, shuffle=True)\n",
    "\n",
    "valid_dataset = GroundTruthNoisyDataset(root_te)\n",
    "valid_loader = DataLoader(valid_dataset, batch_size=16, shuffle=False)"
   ]
  },
  {
   "cell_type": "code",
   "execution_count": 6,
   "id": "ff36808d",
   "metadata": {
    "execution": {
     "iopub.execute_input": "2023-10-21T21:43:57.265815Z",
     "iopub.status.busy": "2023-10-21T21:43:57.265484Z",
     "iopub.status.idle": "2023-10-21T21:43:57.291366Z",
     "shell.execute_reply": "2023-10-21T21:43:57.290447Z"
    },
    "papermill": {
     "duration": 0.034388,
     "end_time": "2023-10-21T21:43:57.293492",
     "exception": false,
     "start_time": "2023-10-21T21:43:57.259104",
     "status": "completed"
    },
    "tags": []
   },
   "outputs": [],
   "source": [
    "import torch.nn as nn\n",
    "import torch.nn.functional as F\n",
    "\n",
    "class UNet_D(nn.Module):\n",
    "\n",
    "    def __init__(self):\n",
    "        super(UNet_D, self).__init__()\n",
    "        self.main = MainNet(in_nc=3, out_nc=12)\n",
    "        self.main2 = MainNet(in_nc=15, out_nc=24)\n",
    "        self.out = nn.Conv2d(24, 3, kernel_size=3, padding=1, bias=True)\n",
    "\n",
    "    def forward(self, x):\n",
    "        out1 = self.main(x)\n",
    "        out1[:,:3,:,:] = out1[:,:3,:,:] + x\n",
    "        out2 = self.main2(torch.cat([x, out1], dim=1))\n",
    "        out2[:, :3, :, :] = out2[:, :3, :, :] + x\n",
    "        out2[:, 12:, :, :] = out2[:, 12:, :, :] + out1\n",
    "\n",
    "        return self.out(out2) + x\n",
    "\n",
    "class MainNet(nn.Module):\n",
    "    def __init__(self, in_nc=12, out_nc=12):\n",
    "        super(MainNet, self).__init__()\n",
    "        self.inc = nn.Sequential(\n",
    "            single_conv(in_nc, 64),\n",
    "            single_conv(64, 64),\n",
    "        )\n",
    "        self.down1 = nn.AvgPool2d(2)\n",
    "        self.conv1 = nn.Sequential(\n",
    "            single_conv(64, 128),\n",
    "            RDB(128, 4, 32),\n",
    "        )\n",
    "        self.down2 = nn.AvgPool2d(2)\n",
    "        self.conv2 = nn.Sequential(\n",
    "            single_conv(128, 256),\n",
    "            RDB(256, 10, 32),\n",
    "        )\n",
    "        self.up1 = up(256)\n",
    "        self.conv3 = nn.Sequential(\n",
    "            RDB(128, 6, 32),\n",
    "        )\n",
    "        self.up2 = up(128)\n",
    "        self.conv4 = nn.Sequential(\n",
    "            RDB(64, 4, 32),\n",
    "        )\n",
    "        self.outc = outconv(64, out_nc)\n",
    "\n",
    "    def forward(self, x):\n",
    "        inx = self.inc(x)\n",
    "        down1 = self.down1(inx)\n",
    "        conv1 = self.conv1(down1)\n",
    "        down2 = self.down2(conv1)\n",
    "        conv2 = self.conv2(down2)\n",
    "        up1 = self.up1(conv2, conv1)\n",
    "        conv3 = self.conv3(up1)\n",
    "        up2 = self.up2(conv3, inx)\n",
    "        conv4 = self.conv4(up2)\n",
    "        out = self.outc(conv4)\n",
    "        return out\n",
    "\n",
    "class single_conv(nn.Module):\n",
    "    def __init__(self, in_ch, out_ch):\n",
    "        super(single_conv, self).__init__()\n",
    "        self.conv = nn.Sequential(\n",
    "            nn.Conv2d(in_ch, out_ch, 3, padding=1),\n",
    "            nn.ReLU(inplace=True)\n",
    "        )\n",
    "\n",
    "    def forward(self, x):\n",
    "        return self.conv(x)\n",
    "\n",
    "class up(nn.Module):\n",
    "    def __init__(self, in_ch):\n",
    "        super(up, self).__init__()\n",
    "        self.up = nn.ConvTranspose2d(in_ch, in_ch // 2, 2, stride=2)\n",
    "\n",
    "    def forward(self, x1, x2):\n",
    "        x1 = self.up(x1)\n",
    "        diffY = x2.size()[2] - x1.size()[2]\n",
    "        diffX = x2.size()[3] - x1.size()[3]\n",
    "        x1 = F.pad(x1, (diffX // 2, diffX - diffX // 2, diffY // 2, diffY - diffY // 2))\n",
    "        return x2 + x1\n",
    "\n",
    "class outconv(nn.Module):\n",
    "    def __init__(self, in_ch, out_ch):\n",
    "        super(outconv, self).__init__()\n",
    "        self.conv = nn.Conv2d(in_ch, out_ch, 1)\n",
    "\n",
    "    def forward(self, x):\n",
    "        return self.conv(x)\n",
    "\n",
    "class RDB(nn.Module):\n",
    "    def __init__(self, nChannels, nDenselayer, growthRate):\n",
    "        super(RDB, self).__init__()\n",
    "        nChannels_ = nChannels\n",
    "        modules = []\n",
    "        for i in range(nDenselayer):\n",
    "            modules.append(make_dense(nChannels_, growthRate))\n",
    "            nChannels_ += growthRate\n",
    "        self.dense_layers = nn.Sequential(*modules)\n",
    "        self.conv_1x1 = nn.Conv2d(nChannels_, nChannels, kernel_size=1, padding=0, bias=False)\n",
    "\n",
    "    def forward(self, x):\n",
    "        out = self.dense_layers(x)\n",
    "        out = self.conv_1x1(out)\n",
    "        return out + x\n",
    "\n",
    "class make_dense(nn.Module):\n",
    "    def __init__(self, nChannels, growthRate, kernel_size=3):\n",
    "        super(make_dense, self).__init__()\n",
    "        self.conv = nn.Conv2d(nChannels, growthRate, kernel_size=kernel_size, padding=(kernel_size - 1) // 2, bias=False)\n",
    "\n",
    "    def forward(self, x):\n",
    "        out = F.relu(self.conv(x))\n",
    "        return torch.cat((x, out), 1)"
   ]
  },
  {
   "cell_type": "code",
   "execution_count": 7,
   "id": "178581ab",
   "metadata": {
    "execution": {
     "iopub.execute_input": "2023-10-21T21:43:57.304020Z",
     "iopub.status.busy": "2023-10-21T21:43:57.303696Z",
     "iopub.status.idle": "2023-10-21T21:43:57.390136Z",
     "shell.execute_reply": "2023-10-21T21:43:57.389240Z"
    },
    "papermill": {
     "duration": 0.094339,
     "end_time": "2023-10-21T21:43:57.392424",
     "exception": false,
     "start_time": "2023-10-21T21:43:57.298085",
     "status": "completed"
    },
    "tags": []
   },
   "outputs": [],
   "source": [
    "model = UNet_D()"
   ]
  },
  {
   "cell_type": "code",
   "execution_count": 8,
   "id": "cdf49eac",
   "metadata": {
    "execution": {
     "iopub.execute_input": "2023-10-21T21:43:57.402932Z",
     "iopub.status.busy": "2023-10-21T21:43:57.402644Z",
     "iopub.status.idle": "2023-10-21T21:43:57.528178Z",
     "shell.execute_reply": "2023-10-21T21:43:57.527201Z"
    },
    "papermill": {
     "duration": 0.133671,
     "end_time": "2023-10-21T21:43:57.530841",
     "exception": false,
     "start_time": "2023-10-21T21:43:57.397170",
     "status": "completed"
    },
    "tags": []
   },
   "outputs": [
    {
     "name": "stdout",
     "output_type": "stream",
     "text": [
      "Using 2 GPUs!\n"
     ]
    }
   ],
   "source": [
    "if torch.cuda.device_count() > 1:\n",
    "    print(\"Using\", torch.cuda.device_count(), \"GPUs!\")\n",
    "    model = nn.DataParallel(model)"
   ]
  },
  {
   "cell_type": "code",
   "execution_count": 9,
   "id": "19c91baf",
   "metadata": {
    "execution": {
     "iopub.execute_input": "2023-10-21T21:43:57.542616Z",
     "iopub.status.busy": "2023-10-21T21:43:57.542326Z",
     "iopub.status.idle": "2023-10-22T00:43:51.109477Z",
     "shell.execute_reply": "2023-10-22T00:43:51.108557Z"
    },
    "papermill": {
     "duration": 10793.582579,
     "end_time": "2023-10-22T00:43:51.119270",
     "exception": false,
     "start_time": "2023-10-21T21:43:57.536691",
     "status": "completed"
    },
    "tags": []
   },
   "outputs": [
    {
     "name": "stdout",
     "output_type": "stream",
     "text": [
      "Epoch [1/50], Train PSNR: 25.8920, Valid PSNR: 26.7132\n",
      "Epoch [2/50], Train PSNR: 26.6963, Valid PSNR: 26.7443\n",
      "Epoch [3/50], Train PSNR: 26.7677, Valid PSNR: 26.7743\n",
      "Epoch [4/50], Train PSNR: 26.7471, Valid PSNR: 26.7785\n",
      "Epoch [5/50], Train PSNR: 26.7140, Valid PSNR: 26.7765\n",
      "Epoch [6/50], Train PSNR: 26.7232, Valid PSNR: 26.7786\n",
      "Epoch [7/50], Train PSNR: 26.6990, Valid PSNR: 26.7921\n",
      "Epoch [8/50], Train PSNR: 26.7810, Valid PSNR: 26.7930\n",
      "Epoch [9/50], Train PSNR: 26.7329, Valid PSNR: 26.7964\n",
      "Epoch [10/50], Train PSNR: 26.7764, Valid PSNR: 26.7394\n",
      "Epoch [11/50], Train PSNR: 26.7410, Valid PSNR: 26.7963\n",
      "Epoch [12/50], Train PSNR: 26.7178, Valid PSNR: 26.7308\n",
      "Epoch [13/50], Train PSNR: 26.7513, Valid PSNR: 26.7994\n",
      "Epoch [14/50], Train PSNR: 26.7447, Valid PSNR: 26.7945\n",
      "Epoch [15/50], Train PSNR: 26.8169, Valid PSNR: 26.8025\n",
      "Epoch [16/50], Train PSNR: 26.6735, Valid PSNR: 26.7881\n",
      "Epoch [17/50], Train PSNR: 26.7708, Valid PSNR: 26.8044\n",
      "Epoch [18/50], Train PSNR: 26.7907, Valid PSNR: 26.8260\n",
      "Epoch [19/50], Train PSNR: 26.7269, Valid PSNR: 26.7912\n",
      "Epoch [20/50], Train PSNR: 26.7669, Valid PSNR: 26.8211\n",
      "Epoch [21/50], Train PSNR: 26.7426, Valid PSNR: 26.8198\n",
      "Epoch [22/50], Train PSNR: 26.7357, Valid PSNR: 26.8214\n",
      "Epoch [23/50], Train PSNR: 26.7530, Valid PSNR: 26.8270\n",
      "Epoch [24/50], Train PSNR: 26.7817, Valid PSNR: 26.8312\n",
      "Epoch [25/50], Train PSNR: 26.8006, Valid PSNR: 26.8315\n",
      "Epoch [26/50], Train PSNR: 26.8121, Valid PSNR: 26.8155\n",
      "Epoch [27/50], Train PSNR: 26.7892, Valid PSNR: 26.8062\n",
      "Epoch [28/50], Train PSNR: 26.8129, Valid PSNR: 26.8293\n",
      "Epoch [29/50], Train PSNR: 26.8637, Valid PSNR: 26.8397\n",
      "Epoch [30/50], Train PSNR: 26.7927, Valid PSNR: 26.8351\n",
      "Epoch [31/50], Train PSNR: 26.7825, Valid PSNR: 26.7889\n",
      "Epoch [32/50], Train PSNR: 26.7514, Valid PSNR: 26.8395\n",
      "Epoch [33/50], Train PSNR: 26.8160, Valid PSNR: 26.8310\n",
      "Epoch [34/50], Train PSNR: 26.8280, Valid PSNR: 26.8043\n",
      "Epoch [35/50], Train PSNR: 26.8039, Valid PSNR: 26.8399\n",
      "Epoch [36/50], Train PSNR: 26.8147, Valid PSNR: 26.7828\n",
      "Epoch [37/50], Train PSNR: 26.7561, Valid PSNR: 26.8329\n",
      "Epoch [38/50], Train PSNR: 26.7994, Valid PSNR: 26.8402\n",
      "Epoch [39/50], Train PSNR: 26.6942, Valid PSNR: 26.8428\n",
      "Epoch [40/50], Train PSNR: 26.7881, Valid PSNR: 26.8421\n",
      "Epoch [41/50], Train PSNR: 26.7714, Valid PSNR: 26.8481\n",
      "Epoch [42/50], Train PSNR: 26.7727, Valid PSNR: 26.8474\n",
      "Epoch [43/50], Train PSNR: 26.8095, Valid PSNR: 26.8280\n",
      "Epoch [44/50], Train PSNR: 26.7300, Valid PSNR: 26.8468\n",
      "Epoch [45/50], Train PSNR: 26.7410, Valid PSNR: 26.8395\n",
      "Epoch [46/50], Train PSNR: 26.8089, Valid PSNR: 26.8438\n",
      "Epoch [47/50], Train PSNR: 26.8499, Valid PSNR: 26.8399\n",
      "Epoch [48/50], Train PSNR: 26.7594, Valid PSNR: 26.8389\n",
      "Epoch [49/50], Train PSNR: 26.8039, Valid PSNR: 26.8470\n",
      "Epoch [50/50], Train PSNR: 26.7625, Valid PSNR: 26.8528\n"
     ]
    }
   ],
   "source": [
    "import math\n",
    "import torch.nn as nn\n",
    "import torch\n",
    "\n",
    "def psnr(mse, max_pixel_val=1.0):\n",
    "    return 10 * math.log10(max_pixel_val**2 / mse)\n",
    "\n",
    "optimizer = torch.optim.Adam(model.parameters(), lr=0.001)\n",
    "criterion = nn.MSELoss()\n",
    "num_epochs = 50\n",
    "device = torch.device(\"cuda:0\" if torch.cuda.is_available() else \"cpu\")\n",
    "model.to(device)\n",
    "train_losses = []\n",
    "train_psnr = []\n",
    "test_losses = []\n",
    "test_psnr = []\n",
    "\n",
    "accumulation_steps = 4  # Define the accumulation steps\n",
    "\n",
    "for epoch in range(num_epochs):\n",
    "    total_psnr_train = 0\n",
    "    tot_loss_train = 0\n",
    "    model.train()\n",
    "    \n",
    "    optimizer.zero_grad()  # Initialize gradients once at the start of each epoch\n",
    "\n",
    "    for i, (noisy_imgs, clean_imgs) in enumerate(train_loader):\n",
    "        noisy_imgs, clean_imgs = noisy_imgs.to(device), clean_imgs.to(device)\n",
    "        outputs = model(noisy_imgs)\n",
    "        loss = criterion(outputs, clean_imgs)\n",
    "        current_psnr = psnr(loss.item())\n",
    "        total_psnr_train += current_psnr\n",
    "        tot_loss_train += loss.item()  # Using loss.item() to accumulate the loss\n",
    "\n",
    "        loss.backward()  # Calculate gradients\n",
    "\n",
    "        if (i+1) % accumulation_steps == 0:\n",
    "            optimizer.step()  # Update weights\n",
    "            optimizer.zero_grad()  # Reset gradients\n",
    "\n",
    "    avg_psnr_train = total_psnr_train / len(train_loader)\n",
    "    train_losses.append(tot_loss_train / len(train_loader))\n",
    "    train_psnr.append(avg_psnr_train)\n",
    "    model.eval()\n",
    "    total_psnr_valid = 0\n",
    "    tot_loss_valid = 0\n",
    "\n",
    "    with torch.no_grad():\n",
    "        for noisy_imgs, clean_imgs in valid_loader:\n",
    "            noisy_imgs, clean_imgs = noisy_imgs.to(device), clean_imgs.to(device)\n",
    "            outputs = model(noisy_imgs)\n",
    "            loss = criterion(outputs, clean_imgs)\n",
    "            current_psnr = psnr(loss.item())\n",
    "            total_psnr_valid += current_psnr\n",
    "            tot_loss_valid += loss.item()\n",
    "\n",
    "    avg_psnr_valid = total_psnr_valid / len(valid_loader)\n",
    "    test_losses.append(tot_loss_valid / len(valid_loader))\n",
    "    test_psnr.append(avg_psnr_valid)\n",
    "    print(f\"Epoch [{epoch+1}/{num_epochs}], Train PSNR: {avg_psnr_train:.4f}, Valid PSNR: {avg_psnr_valid:.4f}\")\n"
   ]
  },
  {
   "cell_type": "code",
   "execution_count": 10,
   "id": "8c99beae",
   "metadata": {
    "execution": {
     "iopub.execute_input": "2023-10-22T00:43:51.136878Z",
     "iopub.status.busy": "2023-10-22T00:43:51.136584Z",
     "iopub.status.idle": "2023-10-22T00:43:51.141269Z",
     "shell.execute_reply": "2023-10-22T00:43:51.140397Z"
    },
    "papermill": {
     "duration": 0.015699,
     "end_time": "2023-10-22T00:43:51.143164",
     "exception": false,
     "start_time": "2023-10-22T00:43:51.127465",
     "status": "completed"
    },
    "tags": []
   },
   "outputs": [],
   "source": [
    "train_loss = []\n",
    "test_loss = []\n",
    "for i in train_losses:\n",
    "    train_loss.append(i)\n",
    "for i in test_losses:\n",
    "    test_loss.append(i)"
   ]
  },
  {
   "cell_type": "code",
   "execution_count": 11,
   "id": "80073b5b",
   "metadata": {
    "execution": {
     "iopub.execute_input": "2023-10-22T00:43:51.162282Z",
     "iopub.status.busy": "2023-10-22T00:43:51.161994Z",
     "iopub.status.idle": "2023-10-22T00:43:51.167173Z",
     "shell.execute_reply": "2023-10-22T00:43:51.166153Z"
    },
    "papermill": {
     "duration": 0.016587,
     "end_time": "2023-10-22T00:43:51.169074",
     "exception": false,
     "start_time": "2023-10-22T00:43:51.152487",
     "status": "completed"
    },
    "tags": []
   },
   "outputs": [
    {
     "name": "stdout",
     "output_type": "stream",
     "text": [
      "Train_loss: 0.0022695090468253265\n",
      "Test_loss: 0.0022351509261749345\n"
     ]
    }
   ],
   "source": [
    "print(\"Train_loss:\",train_loss[len(train_loss)-1])\n",
    "print(\"Test_loss:\",test_loss[len(test_loss)-1])"
   ]
  },
  {
   "cell_type": "code",
   "execution_count": 12,
   "id": "48530246",
   "metadata": {
    "execution": {
     "iopub.execute_input": "2023-10-22T00:43:51.187012Z",
     "iopub.status.busy": "2023-10-22T00:43:51.186394Z",
     "iopub.status.idle": "2023-10-22T00:43:51.498815Z",
     "shell.execute_reply": "2023-10-22T00:43:51.497934Z"
    },
    "papermill": {
     "duration": 0.323537,
     "end_time": "2023-10-22T00:43:51.500925",
     "exception": false,
     "start_time": "2023-10-22T00:43:51.177388",
     "status": "completed"
    },
    "tags": []
   },
   "outputs": [
    {
     "data": {
      "image/png": "[encoded data removed]",
      "text/plain": [
       "<Figure size 800x600 with 1 Axes>"
      ]
     },
     "metadata": {},
     "output_type": "display_data"
    }
   ],
   "source": [
    "import matplotlib.pyplot as plt\n",
    "x = [i for i in range(1,51)]\n",
    "fig, ax = plt.subplots(1, figsize=(8,6))\n",
    "fig.suptitle(\"Learning Curve\", fontsize = 15)\n",
    "ax.set_xlabel('Epochs')\n",
    "ax.set_ylabel('Loss')\n",
    "ax.plot(x, train_loss, label=\"Training Curve\")\n",
    "ax.plot(x, test_loss, label=\"Testing Curve\")\n",
    "plt.legend(loc=\"upper right\", frameon=False)\n",
    "plt.show()"
   ]
  },
  {
   "cell_type": "code",
   "execution_count": 13,
   "id": "669d6cfe",
   "metadata": {
    "execution": {
     "iopub.execute_input": "2023-10-22T00:43:51.520262Z",
     "iopub.status.busy": "2023-10-22T00:43:51.519977Z",
     "iopub.status.idle": "2023-10-22T00:43:51.778767Z",
     "shell.execute_reply": "2023-10-22T00:43:51.777822Z"
    },
    "papermill": {
     "duration": 0.270824,
     "end_time": "2023-10-22T00:43:51.780927",
     "exception": false,
     "start_time": "2023-10-22T00:43:51.510103",
     "status": "completed"
    },
    "tags": []
   },
   "outputs": [
    {
     "data": {
      "image/png": "[encoded data removed]",
      "text/plain": [
       "<Figure size 800x600 with 1 Axes>"
      ]
     },
     "metadata": {},
     "output_type": "display_data"
    }
   ],
   "source": [
    "import matplotlib.pyplot as plt\n",
    "x = [i for i in range(1,51)]\n",
    "fig, ax = plt.subplots(1, figsize=(8,6))\n",
    "fig.suptitle(\"PSNR\", fontsize = 15)\n",
    "ax.set_xlabel('Epochs')\n",
    "ax.set_ylabel('PSNR')\n",
    "ax.plot(x, train_psnr, label=\"Training PSNR\")\n",
    "ax.plot(x, test_psnr, label=\"Testing PSNR\")\n",
    "plt.legend(loc=\"lower right\", frameon=False)\n",
    "plt.show()"
   ]
  },
  {
   "cell_type": "code",
   "execution_count": 14,
   "id": "0bc4abe5",
   "metadata": {
    "execution": {
     "iopub.execute_input": "2023-10-22T00:43:51.801212Z",
     "iopub.status.busy": "2023-10-22T00:43:51.800901Z",
     "iopub.status.idle": "2023-10-22T00:43:51.855664Z",
     "shell.execute_reply": "2023-10-22T00:43:51.854956Z"
    },
    "papermill": {
     "duration": 0.067187,
     "end_time": "2023-10-22T00:43:51.857857",
     "exception": false,
     "start_time": "2023-10-22T00:43:51.790670",
     "status": "completed"
    },
    "tags": []
   },
   "outputs": [],
   "source": [
    "torch.save(model.module.state_dict(), 'model_unetd_denoise_256.pth')"
   ]
  },
  {
   "cell_type": "code",
   "execution_count": null,
   "id": "3721b8a6",
   "metadata": {
    "papermill": {
     "duration": 0.009488,
     "end_time": "2023-10-22T00:43:51.876913",
     "exception": false,
     "start_time": "2023-10-22T00:43:51.867425",
     "status": "completed"
    },
    "tags": []
   },
   "outputs": [],
   "source": []
  }
 ],
 "metadata": {
  "kernelspec": {
   "display_name": "Python 3",
   "language": "python",
   "name": "python3"
  },
  "language_info": {
   "codemirror_mode": {
    "name": "ipython",
    "version": 3
   },
   "file_extension": ".py",
   "mimetype": "text/x-python",
   "name": "python",
   "nbconvert_exporter": "python",
   "pygments_lexer": "ipython3",
   "version": "3.10.12"
  },
  "papermill": {
   "default_parameters": {},
   "duration": 10806.950161,
   "end_time": "2023-10-22T00:43:54.999852",
   "environment_variables": {},
   "exception": null,
   "input_path": "__notebook__.ipynb",
   "output_path": "__notebook__.ipynb",
   "parameters": {},
   "start_time": "2023-10-21T21:43:48.049691",
   "version": "2.4.0"
  }
 },
 "nbformat": 4,
 "nbformat_minor": 5
}
