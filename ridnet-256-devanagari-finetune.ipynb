{
 "cells": [
  {
   "cell_type": "code",
   "execution_count": 1,
   "id": "3c536623",
   "metadata": {
    "_cell_guid": "b1076dfc-b9ad-4769-8c92-a6c4dae69d19",
    "_uuid": "8f2839f25d086af736a60e9eeb907d3b93b6e0e5",
    "execution": {
     "iopub.execute_input": "2023-11-21T06:07:31.079551Z",
     "iopub.status.busy": "2023-11-21T06:07:31.078633Z",
     "iopub.status.idle": "2023-11-21T06:07:38.204097Z",
     "shell.execute_reply": "2023-11-21T06:07:38.203265Z"
    },
    "papermill": {
     "duration": 7.135417,
     "end_time": "2023-11-21T06:07:38.206513",
     "exception": false,
     "start_time": "2023-11-21T06:07:31.071096",
     "status": "completed"
    },
    "tags": []
   },
   "outputs": [],
   "source": [
    "import numpy as np\n",
    "import pandas as pd\n",
    "import os\n",
    "import torch\n",
    "import torch.nn as nn\n",
    "from torch.utils.data import Dataset, DataLoader\n",
    "import pickle\n",
    "import math\n",
    "import torch.nn.init as init"
   ]
  },
  {
   "cell_type": "code",
   "execution_count": 2,
   "id": "15c16159",
   "metadata": {
    "execution": {
     "iopub.execute_input": "2023-11-21T06:07:38.219358Z",
     "iopub.status.busy": "2023-11-21T06:07:38.218992Z",
     "iopub.status.idle": "2023-11-21T06:07:38.737159Z",
     "shell.execute_reply": "2023-11-21T06:07:38.735885Z"
    },
    "papermill": {
     "duration": 0.527735,
     "end_time": "2023-11-21T06:07:38.740356",
     "exception": false,
     "start_time": "2023-11-21T06:07:38.212621",
     "status": "completed"
    },
    "tags": []
   },
   "outputs": [],
   "source": [
    "import os\n",
    "import torch\n",
    "import torch.nn as nn\n",
    "import torch.nn.functional as F\n",
    "from torch.utils.data import DataLoader, Dataset\n",
    "from torchvision import transforms\n",
    "from torchvision.io import read_image\n",
    "from torchvision.utils import save_image\n",
    "import matplotlib.pyplot as plt"
   ]
  },
  {
   "cell_type": "code",
   "execution_count": 3,
   "id": "c41c2eb7",
   "metadata": {
    "execution": {
     "iopub.execute_input": "2023-11-21T06:07:38.754626Z",
     "iopub.status.busy": "2023-11-21T06:07:38.754013Z",
     "iopub.status.idle": "2023-11-21T06:07:42.641045Z",
     "shell.execute_reply": "2023-11-21T06:07:42.640222Z"
    },
    "papermill": {
     "duration": 3.896208,
     "end_time": "2023-11-21T06:07:42.643401",
     "exception": false,
     "start_time": "2023-11-21T06:07:38.747193",
     "status": "completed"
    },
    "tags": []
   },
   "outputs": [
    {
     "name": "stderr",
     "output_type": "stream",
     "text": [
      "/opt/conda/lib/python3.10/site-packages/scipy/__init__.py:146: UserWarning: A NumPy version >=1.16.5 and <1.23.0 is required for this version of SciPy (detected version 1.23.5\n",
      "  warnings.warn(f\"A NumPy version >={np_minversion} and <{np_maxversion}\"\n"
     ]
    }
   ],
   "source": [
    "from torch.utils.data import Dataset, DataLoader\n",
    "from torchvision import transforms\n",
    "from PIL import Image\n",
    "import albumentations as A\n",
    "from albumentations.pytorch import ToTensorV2\n",
    "import os\n",
    "from torchvision.transforms import Lambda\n",
    "both_transform = A.Compose([A.Resize(width=256, height=256),], additional_targets={\"image0\": \"image\"},)\n",
    "transform = A.Compose([A.Normalize(mean=[0.5, 0.5, 0.5], std=[0.5, 0.5, 0.5], max_pixel_value=255.0,),ToTensorV2(),])\n",
    "class GroundTruthNoisyDataset(Dataset):\n",
    "    def __init__(self, root_dir):\n",
    "        self.root_dir = root_dir\n",
    "        self.folders = os.listdir(self.root_dir)\n",
    "\n",
    "    def __len__(self):\n",
    "        return len(self.folders)\n",
    "\n",
    "    def __getitem__(self, idx):\n",
    "        folder_name = self.folders[idx]\n",
    "        ground_truth_path = os.path.join(self.root_dir, folder_name, \"gt.jpg\")\n",
    "        noisy_path = os.path.join(self.root_dir, folder_name, \"noise.jpg\")\n",
    "        ground_truth = np.array(Image.open(ground_truth_path))\n",
    "        noisy = np.array(Image.open(noisy_path))\n",
    "        augmentations = both_transform(image=noisy, image0=ground_truth)\n",
    "        noisy = augmentations[\"image\"]\n",
    "        ground_truth = augmentations[\"image0\"]\n",
    "        ground_truth = transform(image = ground_truth)[\"image\"]\n",
    "        noisy = transform(image = noisy)[\"image\"]\n",
    "        return noisy, ground_truth"
   ]
  },
  {
   "cell_type": "code",
   "execution_count": 4,
   "id": "5ce2f7a1",
   "metadata": {
    "execution": {
     "iopub.execute_input": "2023-11-21T06:07:42.656919Z",
     "iopub.status.busy": "2023-11-21T06:07:42.656500Z",
     "iopub.status.idle": "2023-11-21T06:07:42.663760Z",
     "shell.execute_reply": "2023-11-21T06:07:42.662859Z"
    },
    "papermill": {
     "duration": 0.015389,
     "end_time": "2023-11-21T06:07:42.665596",
     "exception": false,
     "start_time": "2023-11-21T06:07:42.650207",
     "status": "completed"
    },
    "tags": []
   },
   "outputs": [],
   "source": [
    "def save_some_examples(gen, val_loader, epoch, folder):\n",
    "    x, y = next(iter(val_loader))\n",
    "    DEVICE = \"cuda\" if torch.cuda.is_available() else \"cpu\"\n",
    "    x, y = x.to(DEVICE), y.to(DEVICE)\n",
    "    if not os.path.exists(folder):\n",
    "        os.makedirs(folder)\n",
    "    gen.eval()\n",
    "    with torch.no_grad():\n",
    "        y_fake = gen(x)\n",
    "        y_fake = y_fake * 0.5 + 0.5  # remove normalization#\n",
    "        save_image(y_fake, folder + f\"/y_gen_{epoch}.png\")\n",
    "        save_image(x * 0.5 + 0.5, folder + f\"/input_{epoch}.png\")\n",
    "        if epoch == 1:\n",
    "            save_image(y * 0.5 + 0.5, folder + f\"/label_{epoch}.png\")\n",
    "    gen.train()"
   ]
  },
  {
   "cell_type": "code",
   "execution_count": 5,
   "id": "29f0b08a",
   "metadata": {
    "execution": {
     "iopub.execute_input": "2023-11-21T06:07:42.677716Z",
     "iopub.status.busy": "2023-11-21T06:07:42.677376Z",
     "iopub.status.idle": "2023-11-21T06:07:42.681308Z",
     "shell.execute_reply": "2023-11-21T06:07:42.680516Z"
    },
    "papermill": {
     "duration": 0.011948,
     "end_time": "2023-11-21T06:07:42.683267",
     "exception": false,
     "start_time": "2023-11-21T06:07:42.671319",
     "status": "completed"
    },
    "tags": []
   },
   "outputs": [],
   "source": [
    "root_tr = \"/kaggle/input/devanagari-denoise-256-8k/devanagari_noise_set_256_8k/train\"\n",
    "root_te = \"/kaggle/input/devanagari-denoise-256-8k/devanagari_noise_set_256_8k/val\""
   ]
  },
  {
   "cell_type": "code",
   "execution_count": 6,
   "id": "61dd654a",
   "metadata": {
    "execution": {
     "iopub.execute_input": "2023-11-21T06:07:42.695457Z",
     "iopub.status.busy": "2023-11-21T06:07:42.695187Z",
     "iopub.status.idle": "2023-11-21T06:07:42.932444Z",
     "shell.execute_reply": "2023-11-21T06:07:42.931681Z"
    },
    "papermill": {
     "duration": 0.245584,
     "end_time": "2023-11-21T06:07:42.934488",
     "exception": false,
     "start_time": "2023-11-21T06:07:42.688904",
     "status": "completed"
    },
    "tags": []
   },
   "outputs": [],
   "source": [
    "train_dataset = GroundTruthNoisyDataset(root_tr)\n",
    "train_loader = DataLoader(train_dataset, batch_size=16, shuffle=True)\n",
    "\n",
    "valid_dataset = GroundTruthNoisyDataset(root_te)\n",
    "valid_loader = DataLoader(valid_dataset, batch_size=32, shuffle=False)"
   ]
  },
  {
   "cell_type": "code",
   "execution_count": 7,
   "id": "74050101",
   "metadata": {
    "execution": {
     "iopub.execute_input": "2023-11-21T06:07:42.946664Z",
     "iopub.status.busy": "2023-11-21T06:07:42.946384Z",
     "iopub.status.idle": "2023-11-21T06:07:42.965548Z",
     "shell.execute_reply": "2023-11-21T06:07:42.964861Z"
    },
    "papermill": {
     "duration": 0.02727,
     "end_time": "2023-11-21T06:07:42.967415",
     "exception": false,
     "start_time": "2023-11-21T06:07:42.940145",
     "status": "completed"
    },
    "tags": []
   },
   "outputs": [],
   "source": [
    "import torch\n",
    "import torch.nn as nn\n",
    "import torch.nn.functional as F\n",
    "\n",
    "class EAM(nn.Module):\n",
    "    def __init__(self):\n",
    "        super(EAM, self).__init__()\n",
    "\n",
    "        self.conv1 = nn.Conv2d(64, 64, kernel_size=3, dilation=1, padding=1)\n",
    "        self.conv2 = nn.Conv2d(64, 64, kernel_size=3, dilation=2, padding=2)\n",
    "\n",
    "        self.conv3 = nn.Conv2d(64, 64, kernel_size=3, dilation=3, padding=3)\n",
    "        self.conv4 = nn.Conv2d(64, 64, kernel_size=3, dilation=4, padding=4)\n",
    "\n",
    "        self.conv5 = nn.Conv2d(128, 64, kernel_size=3, padding=1)\n",
    "\n",
    "        self.conv6 = nn.Conv2d(64, 64, kernel_size=3, padding=1)\n",
    "        self.conv7 = nn.Conv2d(64, 64, kernel_size=3, padding=1)\n",
    "\n",
    "        self.conv8 = nn.Conv2d(64, 64, kernel_size=3, padding=1)\n",
    "        self.conv9 = nn.Conv2d(64, 64, kernel_size=3, padding=1)\n",
    "        self.conv10 = nn.Conv2d(64, 64, kernel_size=1, padding=0)  # Adjusted padding\n",
    "\n",
    "        self.gap = nn.AdaptiveAvgPool2d(1)\n",
    "\n",
    "        self.conv11 = nn.Conv2d(64, 64, kernel_size=3, padding=1)\n",
    "        self.conv12 = nn.Conv2d(64, 64, kernel_size=3, padding=1)\n",
    "\n",
    "    def forward(self, x):\n",
    "        conv1 = F.relu(self.conv1(x))\n",
    "        conv1 = F.relu(self.conv2(conv1))\n",
    "\n",
    "        conv2 = F.relu(self.conv3(x))\n",
    "        conv2 = F.relu(self.conv4(conv2))\n",
    "\n",
    "        concat = torch.cat([conv1, conv2], dim=1)\n",
    "        conv3 = F.relu(self.conv5(concat))\n",
    "        add1 = x + conv3\n",
    "\n",
    "        conv4 = F.relu(self.conv6(add1))\n",
    "        conv4 = self.conv7(conv4)\n",
    "        add2 = conv4 + add1\n",
    "        add2 = F.relu(add2)\n",
    "\n",
    "        conv5 = F.relu(self.conv8(add2))\n",
    "        conv5 = F.relu(self.conv9(conv5))\n",
    "        conv5 = self.conv10(conv5)\n",
    "        add3 = add2 + conv5\n",
    "        add3 = F.relu(add3)\n",
    "\n",
    "        gap = self.gap(add3)\n",
    "        gap = gap.view(gap.size(0), -1)\n",
    "        gap = gap.view(gap.size(0), gap.size(1), 1, 1)\n",
    "        conv6 = F.relu(self.conv11(gap))\n",
    "        conv6 = torch.sigmoid(self.conv12(conv6))\n",
    "\n",
    "        mul = conv6 * add3\n",
    "        out = x + mul\n",
    "\n",
    "        return out\n",
    "\n",
    "class RIDNet(nn.Module):\n",
    "    def __init__(self):\n",
    "        super(RIDNet, self).__init__()\n",
    "\n",
    "        self.conv1 = nn.Conv2d(3, 64, kernel_size=3, padding=1)\n",
    "        self.eam1 = EAM()\n",
    "        self.eam2 = EAM()\n",
    "        self.eam3 = EAM()\n",
    "        self.eam4 = EAM()\n",
    "        self.conv2 = nn.Conv2d(64, 3, kernel_size=3, padding=1)\n",
    "\n",
    "    def forward(self, x):\n",
    "        conv1 = F.relu(self.conv1(x))\n",
    "        eam1 = self.eam1(conv1)\n",
    "        eam2 = self.eam2(eam1)\n",
    "        eam3 = self.eam3(eam2)\n",
    "        eam4 = self.eam4(eam3)\n",
    "        conv2 = self.conv2(eam4)\n",
    "        out = x + conv2\n",
    "\n",
    "        return out\n"
   ]
  },
  {
   "cell_type": "code",
   "execution_count": 8,
   "id": "6a4cd8a9",
   "metadata": {
    "execution": {
     "iopub.execute_input": "2023-11-21T06:07:42.979236Z",
     "iopub.status.busy": "2023-11-21T06:07:42.978990Z",
     "iopub.status.idle": "2023-11-21T06:07:43.043958Z",
     "shell.execute_reply": "2023-11-21T06:07:43.043190Z"
    },
    "papermill": {
     "duration": 0.073128,
     "end_time": "2023-11-21T06:07:43.045904",
     "exception": false,
     "start_time": "2023-11-21T06:07:42.972776",
     "status": "completed"
    },
    "tags": []
   },
   "outputs": [],
   "source": [
    "model = RIDNet()"
   ]
  },
  {
   "cell_type": "code",
   "execution_count": 9,
   "id": "2f9de56f",
   "metadata": {
    "execution": {
     "iopub.execute_input": "2023-11-21T06:07:43.057639Z",
     "iopub.status.busy": "2023-11-21T06:07:43.057358Z",
     "iopub.status.idle": "2023-11-21T06:07:43.191875Z",
     "shell.execute_reply": "2023-11-21T06:07:43.190824Z"
    },
    "papermill": {
     "duration": 0.143051,
     "end_time": "2023-11-21T06:07:43.194396",
     "exception": false,
     "start_time": "2023-11-21T06:07:43.051345",
     "status": "completed"
    },
    "tags": []
   },
   "outputs": [
    {
     "name": "stdout",
     "output_type": "stream",
     "text": [
      "Using 2 GPUs!\n"
     ]
    }
   ],
   "source": [
    "if torch.cuda.device_count() > 1:\n",
    "    print(\"Using\", torch.cuda.device_count(), \"GPUs!\")\n",
    "    model = nn.DataParallel(model)"
   ]
  },
  {
   "cell_type": "code",
   "execution_count": 10,
   "id": "5cf56bfd",
   "metadata": {
    "execution": {
     "iopub.execute_input": "2023-11-21T06:07:43.207118Z",
     "iopub.status.busy": "2023-11-21T06:07:43.206318Z",
     "iopub.status.idle": "2023-11-21T06:07:47.674380Z",
     "shell.execute_reply": "2023-11-21T06:07:47.673406Z"
    },
    "papermill": {
     "duration": 4.476637,
     "end_time": "2023-11-21T06:07:47.676618",
     "exception": false,
     "start_time": "2023-11-21T06:07:43.199981",
     "status": "completed"
    },
    "tags": []
   },
   "outputs": [
    {
     "data": {
      "text/plain": [
       "<All keys matched successfully>"
      ]
     },
     "execution_count": 10,
     "metadata": {},
     "output_type": "execute_result"
    }
   ],
   "source": [
    "# Load pre-trained weights\n",
    "pretrained_weights_path = '/kaggle/input/ridnet-cnn-256/ridnet_cnn_256.pth'\n",
    "pretrained_dict = torch.load(pretrained_weights_path)\n",
    "model_dict = model.state_dict()\n",
    "\n",
    "# Filter out unnecessary keys\n",
    "pretrained_dict = {k: v for k, v in pretrained_dict.items() if k in model_dict}\n",
    "\n",
    "# Update the model weights\n",
    "model_dict.update(pretrained_dict)\n",
    "model.load_state_dict(model_dict)"
   ]
  },
  {
   "cell_type": "code",
   "execution_count": 11,
   "id": "7e93f4b2",
   "metadata": {
    "execution": {
     "iopub.execute_input": "2023-11-21T06:07:47.691010Z",
     "iopub.status.busy": "2023-11-21T06:07:47.690074Z",
     "iopub.status.idle": "2023-11-21T10:55:32.675673Z",
     "shell.execute_reply": "2023-11-21T10:55:32.674843Z"
    },
    "papermill": {
     "duration": 17264.995059,
     "end_time": "2023-11-21T10:55:32.678189",
     "exception": false,
     "start_time": "2023-11-21T06:07:47.683130",
     "status": "completed"
    },
    "tags": []
   },
   "outputs": [
    {
     "name": "stdout",
     "output_type": "stream",
     "text": [
      "Epoch [1/30], Train PSNR: 34.8789, Valid PSNR: 34.8658\n",
      "Epoch [2/30], Train PSNR: 36.8705, Valid PSNR: 35.7590\n",
      "Epoch [3/30], Train PSNR: 37.2442, Valid PSNR: 36.2088\n",
      "Epoch [4/30], Train PSNR: 37.5339, Valid PSNR: 36.7797\n",
      "Epoch [5/30], Train PSNR: 37.7628, Valid PSNR: 36.9373\n",
      "Epoch [6/30], Train PSNR: 37.7963, Valid PSNR: 37.1268\n",
      "Epoch [7/30], Train PSNR: 37.9104, Valid PSNR: 37.1964\n",
      "Epoch [8/30], Train PSNR: 38.0398, Valid PSNR: 37.5744\n",
      "Epoch [9/30], Train PSNR: 38.0723, Valid PSNR: 37.1641\n",
      "Epoch [10/30], Train PSNR: 38.0851, Valid PSNR: 37.5745\n",
      "Epoch [11/30], Train PSNR: 38.2019, Valid PSNR: 37.6549\n",
      "Epoch [12/30], Train PSNR: 38.2125, Valid PSNR: 37.5422\n",
      "Epoch [13/30], Train PSNR: 38.2379, Valid PSNR: 37.7813\n",
      "Epoch [14/30], Train PSNR: 38.3037, Valid PSNR: 37.6133\n",
      "Epoch [15/30], Train PSNR: 38.2748, Valid PSNR: 37.2312\n",
      "Epoch [16/30], Train PSNR: 38.3381, Valid PSNR: 37.4875\n",
      "Epoch [17/30], Train PSNR: 38.3353, Valid PSNR: 37.7176\n",
      "Epoch [18/30], Train PSNR: 38.4152, Valid PSNR: 37.3417\n",
      "Epoch [19/30], Train PSNR: 38.4776, Valid PSNR: 37.6265\n",
      "Epoch [20/30], Train PSNR: 38.4942, Valid PSNR: 38.0507\n",
      "Epoch [21/30], Train PSNR: 38.5562, Valid PSNR: 37.7817\n",
      "Epoch [22/30], Train PSNR: 38.5499, Valid PSNR: 37.3578\n",
      "Epoch [23/30], Train PSNR: 38.5947, Valid PSNR: 38.1308\n",
      "Epoch [24/30], Train PSNR: 38.6059, Valid PSNR: 37.9010\n",
      "Epoch [25/30], Train PSNR: 38.4665, Valid PSNR: 38.1850\n",
      "Epoch [26/30], Train PSNR: 38.6477, Valid PSNR: 38.1701\n",
      "Epoch [27/30], Train PSNR: 38.6753, Valid PSNR: 37.4211\n",
      "Epoch [28/30], Train PSNR: 38.5656, Valid PSNR: 37.8825\n",
      "Epoch [29/30], Train PSNR: 38.7141, Valid PSNR: 37.7130\n",
      "Epoch [30/30], Train PSNR: 38.7033, Valid PSNR: 38.0009\n"
     ]
    }
   ],
   "source": [
    "import math\n",
    "import torch.nn as nn\n",
    "import torch\n",
    "\n",
    "def psnr(mse, max_pixel_val=255.0):\n",
    "    return 10 * math.log10(max_pixel_val**2 / mse)\n",
    "\n",
    "optimizer = torch.optim.Adam(model.parameters(), lr=0.0001)\n",
    "criterion = nn.MSELoss()\n",
    "los = nn.MSELoss()\n",
    "num_epochs = 30\n",
    "device = torch.device(\"cuda:0\" if torch.cuda.is_available() else \"cpu\")\n",
    "model.to(device)\n",
    "train_losses = []\n",
    "train_psnr = []\n",
    "test_losses = []\n",
    "test_psnr = []\n",
    "model_save_path = 'unet_nd_model_epoch_{}.pth'\n",
    "for epoch in range(num_epochs):\n",
    "    total_psnr_train = 0\n",
    "    tot_loss_train = 0\n",
    "    model.train()\n",
    "    \n",
    "    optimizer.zero_grad()\n",
    "\n",
    "    for i, (noisy_imgs, clean_imgs) in enumerate(train_loader):\n",
    "        noisy_imgs, clean_imgs = noisy_imgs.to(device), clean_imgs.to(device)\n",
    "        outputs = model(noisy_imgs)\n",
    "        loss = criterion(outputs, clean_imgs)\n",
    "        o = outputs*0.5+0.5\n",
    "        c = clean_imgs*0.5+0.5\n",
    "        mse = los(o*255.0,c*255.0)\n",
    "        current_psnr = psnr(mse)\n",
    "        total_psnr_train += current_psnr\n",
    "        tot_loss_train += loss.item()  # Using loss.item() to accumulate the loss\n",
    "\n",
    "        loss.backward()  # Calculate gradients\n",
    "\n",
    "        optimizer.step()  # Update weights\n",
    "        optimizer.zero_grad()  # Reset gradients\n",
    "\n",
    "    avg_psnr_train = total_psnr_train / len(train_loader)\n",
    "    train_losses.append(tot_loss_train / len(train_loader))\n",
    "    train_psnr.append(avg_psnr_train)\n",
    "    model.eval()\n",
    "    total_psnr_valid = 0\n",
    "    tot_loss_valid = 0\n",
    "\n",
    "    with torch.no_grad():\n",
    "        for noisy_imgs, clean_imgs in valid_loader:\n",
    "            noisy_imgs, clean_imgs = noisy_imgs.to(device), clean_imgs.to(device)\n",
    "            outputs = model(noisy_imgs)\n",
    "            o = outputs*0.5+0.5\n",
    "            c = clean_imgs*0.5+0.5\n",
    "            mse = los(o*255.0,c*255.0)\n",
    "            current_psnr = psnr(mse)\n",
    "            total_psnr_valid += current_psnr\n",
    "            tot_loss_valid += loss.item()\n",
    "\n",
    "    avg_psnr_valid = total_psnr_valid / len(valid_loader)\n",
    "    validation_loss = tot_loss_valid / len(valid_loader)\n",
    "    test_losses.append(validation_loss)\n",
    "    test_psnr.append(avg_psnr_valid)\n",
    "    torch.save(model.state_dict(), model_save_path.format(epoch))\n",
    "    print(f\"Epoch [{epoch+1}/{num_epochs}], Train PSNR: {avg_psnr_train:.4f}, Valid PSNR: {avg_psnr_valid:.4f}\")\n",
    "    save_some_examples(model, valid_loader, epoch, folder=\"/kaggle/working/evaluation\")"
   ]
  },
  {
   "cell_type": "code",
   "execution_count": 12,
   "id": "996dfbf1",
   "metadata": {
    "execution": {
     "iopub.execute_input": "2023-11-21T10:55:32.695517Z",
     "iopub.status.busy": "2023-11-21T10:55:32.695233Z",
     "iopub.status.idle": "2023-11-21T10:55:32.700134Z",
     "shell.execute_reply": "2023-11-21T10:55:32.699279Z"
    },
    "papermill": {
     "duration": 0.01589,
     "end_time": "2023-11-21T10:55:32.702082",
     "exception": false,
     "start_time": "2023-11-21T10:55:32.686192",
     "status": "completed"
    },
    "tags": []
   },
   "outputs": [],
   "source": [
    "train_loss = []\n",
    "test_loss = []\n",
    "for i in train_losses:\n",
    "    train_loss.append(i)\n",
    "for i in test_losses:\n",
    "    test_loss.append(i)"
   ]
  },
  {
   "cell_type": "code",
   "execution_count": 13,
   "id": "fd0a22c9",
   "metadata": {
    "execution": {
     "iopub.execute_input": "2023-11-21T10:55:32.718510Z",
     "iopub.status.busy": "2023-11-21T10:55:32.718257Z",
     "iopub.status.idle": "2023-11-21T10:55:32.723685Z",
     "shell.execute_reply": "2023-11-21T10:55:32.722621Z"
    },
    "papermill": {
     "duration": 0.015906,
     "end_time": "2023-11-21T10:55:32.725764",
     "exception": false,
     "start_time": "2023-11-21T10:55:32.709858",
     "status": "completed"
    },
    "tags": []
   },
   "outputs": [
    {
     "name": "stdout",
     "output_type": "stream",
     "text": [
      "Train_loss: 0.0005433702377171149\n",
      "Test_loss: 0.00044043560046702623\n"
     ]
    }
   ],
   "source": [
    "print(\"Train_loss:\",train_loss[len(train_loss)-1])\n",
    "print(\"Test_loss:\",test_loss[len(test_loss)-1])"
   ]
  },
  {
   "cell_type": "code",
   "execution_count": 14,
   "id": "7f58603c",
   "metadata": {
    "execution": {
     "iopub.execute_input": "2023-11-21T10:55:32.742704Z",
     "iopub.status.busy": "2023-11-21T10:55:32.742421Z",
     "iopub.status.idle": "2023-11-21T10:55:33.104353Z",
     "shell.execute_reply": "2023-11-21T10:55:33.103510Z"
    },
    "papermill": {
     "duration": 0.373106,
     "end_time": "2023-11-21T10:55:33.106797",
     "exception": false,
     "start_time": "2023-11-21T10:55:32.733691",
     "status": "completed"
    },
    "tags": []
   },
   "outputs": [
    {
     "data": {
      "image/png": "[encoded data removed]",
      "text/plain": [
       "<Figure size 800x600 with 1 Axes>"
      ]
     },
     "metadata": {},
     "output_type": "display_data"
    }
   ],
   "source": [
    "import matplotlib.pyplot as plt\n",
    "x = [i for i in range(1,num_epochs+1)]\n",
    "fig, ax = plt.subplots(1, figsize=(8,6))\n",
    "fig.suptitle(\"Learning Curve\", fontsize = 15)\n",
    "ax.set_xlabel('Epochs')\n",
    "ax.set_ylabel('Loss')\n",
    "ax.plot(x, train_loss, label=\"Training Curve\")\n",
    "ax.plot(x, test_loss, label=\"Testing Curve\")\n",
    "plt.legend(loc=\"upper right\", frameon=False)\n",
    "plt.show()"
   ]
  },
  {
   "cell_type": "code",
   "execution_count": 15,
   "id": "c3be33b8",
   "metadata": {
    "execution": {
     "iopub.execute_input": "2023-11-21T10:55:33.124755Z",
     "iopub.status.busy": "2023-11-21T10:55:33.124456Z",
     "iopub.status.idle": "2023-11-21T10:55:33.403693Z",
     "shell.execute_reply": "2023-11-21T10:55:33.402790Z"
    },
    "papermill": {
     "duration": 0.290309,
     "end_time": "2023-11-21T10:55:33.405605",
     "exception": false,
     "start_time": "2023-11-21T10:55:33.115296",
     "status": "completed"
    },
    "tags": []
   },
   "outputs": [
    {
     "data": {
      "image/png": "[encoded data removed]",
      "text/plain": [
       "<Figure size 800x600 with 1 Axes>"
      ]
     },
     "metadata": {},
     "output_type": "display_data"
    }
   ],
   "source": [
    "import matplotlib.pyplot as plt\n",
    "x = [i for i in range(1,num_epochs+1)]\n",
    "fig, ax = plt.subplots(1, figsize=(8,6))\n",
    "fig.suptitle(\"PSNR\", fontsize = 15)\n",
    "ax.set_xlabel('Epochs')\n",
    "ax.set_ylabel('PSNR')\n",
    "ax.plot(x, train_psnr, label=\"Training PSNR\")\n",
    "ax.plot(x, test_psnr, label=\"Testing PSNR\")\n",
    "plt.legend(loc=\"lower right\", frameon=False)\n",
    "plt.show()"
   ]
  },
  {
   "cell_type": "code",
   "execution_count": 16,
   "id": "fabd6997",
   "metadata": {
    "execution": {
     "iopub.execute_input": "2023-11-21T10:55:33.425205Z",
     "iopub.status.busy": "2023-11-21T10:55:33.424918Z",
     "iopub.status.idle": "2023-11-21T10:55:33.448333Z",
     "shell.execute_reply": "2023-11-21T10:55:33.447666Z"
    },
    "papermill": {
     "duration": 0.035198,
     "end_time": "2023-11-21T10:55:33.450213",
     "exception": false,
     "start_time": "2023-11-21T10:55:33.415015",
     "status": "completed"
    },
    "tags": []
   },
   "outputs": [],
   "source": [
    "torch.save(model.module.state_dict(), 'model_ridnet_denoise_256_devanagari_fine_tune.pth')"
   ]
  },
  {
   "cell_type": "code",
   "execution_count": null,
   "id": "bc83ca3f",
   "metadata": {
    "papermill": {
     "duration": 0.008913,
     "end_time": "2023-11-21T10:55:33.468049",
     "exception": false,
     "start_time": "2023-11-21T10:55:33.459136",
     "status": "completed"
    },
    "tags": []
   },
   "outputs": [],
   "source": []
  }
 ],
 "metadata": {
  "kaggle": {
   "accelerator": "nvidiaTeslaT4",
   "dataSources": [
    {
     "datasetId": 4026769,
     "sourceId": 7004415,
     "sourceType": "datasetVersion"
    },
    {
     "datasetId": 4031678,
     "sourceId": 7012113,
     "sourceType": "datasetVersion"
    }
   ],
   "dockerImageVersionId": 30559,
   "isGpuEnabled": true,
   "isInternetEnabled": true,
   "language": "python",
   "sourceType": "notebook"
  },
  "kernelspec": {
   "display_name": "Python 3",
   "language": "python",
   "name": "python3"
  },
  "language_info": {
   "codemirror_mode": {
    "name": "ipython",
    "version": 3
   },
   "file_extension": ".py",
   "mimetype": "text/x-python",
   "name": "python",
   "nbconvert_exporter": "python",
   "pygments_lexer": "ipython3",
   "version": "3.10.12"
  },
  "papermill": {
   "default_parameters": {},
   "duration": 17290.779636,
   "end_time": "2023-11-21T10:55:37.073850",
   "environment_variables": {},
   "exception": null,
   "input_path": "__notebook__.ipynb",
   "output_path": "__notebook__.ipynb",
   "parameters": {},
   "start_time": "2023-11-21T06:07:26.294214",
   "version": "2.4.0"
  }
 },
 "nbformat": 4,
 "nbformat_minor": 5
}
