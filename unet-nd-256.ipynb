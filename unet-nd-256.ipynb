{
 "cells": [
  {
   "cell_type": "code",
   "execution_count": 1,
   "id": "431c5758",
   "metadata": {
    "_cell_guid": "b1076dfc-b9ad-4769-8c92-a6c4dae69d19",
    "_uuid": "8f2839f25d086af736a60e9eeb907d3b93b6e0e5",
    "execution": {
     "iopub.execute_input": "2023-11-05T16:13:35.915477Z",
     "iopub.status.busy": "2023-11-05T16:13:35.915167Z",
     "iopub.status.idle": "2023-11-05T16:13:39.749064Z",
     "shell.execute_reply": "2023-11-05T16:13:39.748221Z"
    },
    "papermill": {
     "duration": 3.842502,
     "end_time": "2023-11-05T16:13:39.751419",
     "exception": false,
     "start_time": "2023-11-05T16:13:35.908917",
     "status": "completed"
    },
    "tags": []
   },
   "outputs": [],
   "source": [
    "import numpy as np\n",
    "import pandas as pd\n",
    "import os\n",
    "import torch\n",
    "import torch.nn as nn\n",
    "from torch.utils.data import Dataset, DataLoader\n",
    "import pickle\n",
    "import math\n",
    "import torch.nn.init as init"
   ]
  },
  {
   "cell_type": "code",
   "execution_count": 2,
   "id": "3c09fb52",
   "metadata": {
    "execution": {
     "iopub.execute_input": "2023-11-05T16:13:39.763346Z",
     "iopub.status.busy": "2023-11-05T16:13:39.762949Z",
     "iopub.status.idle": "2023-11-05T16:13:40.067433Z",
     "shell.execute_reply": "2023-11-05T16:13:40.066195Z"
    },
    "papermill": {
     "duration": 0.314554,
     "end_time": "2023-11-05T16:13:40.071739",
     "exception": false,
     "start_time": "2023-11-05T16:13:39.757185",
     "status": "completed"
    },
    "tags": []
   },
   "outputs": [],
   "source": [
    "import os\n",
    "import torch\n",
    "import torch.nn as nn\n",
    "import torch.nn.functional as F\n",
    "from torch.utils.data import DataLoader, Dataset\n",
    "from torchvision import transforms\n",
    "from torchvision.io import read_image\n",
    "from torchvision.utils import save_image\n",
    "import matplotlib.pyplot as plt"
   ]
  },
  {
   "cell_type": "code",
   "execution_count": 3,
   "id": "044327b1",
   "metadata": {
    "execution": {
     "iopub.execute_input": "2023-11-05T16:13:40.087792Z",
     "iopub.status.busy": "2023-11-05T16:13:40.087115Z",
     "iopub.status.idle": "2023-11-05T16:13:42.103320Z",
     "shell.execute_reply": "2023-11-05T16:13:42.102237Z"
    },
    "papermill": {
     "duration": 2.027244,
     "end_time": "2023-11-05T16:13:42.105812",
     "exception": false,
     "start_time": "2023-11-05T16:13:40.078568",
     "status": "completed"
    },
    "tags": []
   },
   "outputs": [
    {
     "name": "stderr",
     "output_type": "stream",
     "text": [
      "/opt/conda/lib/python3.10/site-packages/scipy/__init__.py:146: UserWarning: A NumPy version >=1.16.5 and <1.23.0 is required for this version of SciPy (detected version 1.23.5\n",
      "  warnings.warn(f\"A NumPy version >={np_minversion} and <{np_maxversion}\"\n"
     ]
    }
   ],
   "source": [
    "from torch.utils.data import Dataset, DataLoader\n",
    "from torchvision import transforms\n",
    "from PIL import Image\n",
    "import albumentations as A\n",
    "from albumentations.pytorch import ToTensorV2\n",
    "import os\n",
    "from torchvision.transforms import Lambda\n",
    "both_transform = A.Compose([A.Resize(width=256, height=256),], additional_targets={\"image0\": \"image\"},)\n",
    "transform = A.Compose([A.Normalize(mean=[0.5, 0.5, 0.5], std=[0.5, 0.5, 0.5], max_pixel_value=255.0,),ToTensorV2(),])\n",
    "class GroundTruthNoisyDataset(Dataset):\n",
    "    def __init__(self, root_dir):\n",
    "        self.root_dir = root_dir\n",
    "        self.folders = os.listdir(self.root_dir)\n",
    "\n",
    "    def __len__(self):\n",
    "        return len(self.folders)\n",
    "\n",
    "    def __getitem__(self, idx):\n",
    "        folder_name = self.folders[idx]\n",
    "        ground_truth_path = os.path.join(self.root_dir, folder_name, \"gt.jpg\")\n",
    "        noisy_path = os.path.join(self.root_dir, folder_name, \"noise.jpg\")\n",
    "        ground_truth = np.array(Image.open(ground_truth_path))\n",
    "        noisy = np.array(Image.open(noisy_path))\n",
    "        augmentations = both_transform(image=noisy, image0=ground_truth)\n",
    "        noisy = augmentations[\"image\"]\n",
    "        ground_truth = augmentations[\"image0\"]\n",
    "        ground_truth = transform(image = ground_truth)[\"image\"]\n",
    "        noisy = transform(image = noisy)[\"image\"]\n",
    "        return noisy, ground_truth"
   ]
  },
  {
   "cell_type": "code",
   "execution_count": 4,
   "id": "14cf5d0b",
   "metadata": {
    "execution": {
     "iopub.execute_input": "2023-11-05T16:13:42.118376Z",
     "iopub.status.busy": "2023-11-05T16:13:42.117940Z",
     "iopub.status.idle": "2023-11-05T16:13:42.124880Z",
     "shell.execute_reply": "2023-11-05T16:13:42.124049Z"
    },
    "papermill": {
     "duration": 0.015544,
     "end_time": "2023-11-05T16:13:42.126937",
     "exception": false,
     "start_time": "2023-11-05T16:13:42.111393",
     "status": "completed"
    },
    "tags": []
   },
   "outputs": [],
   "source": [
    "def save_some_examples(gen, val_loader, epoch, folder):\n",
    "    x, y = next(iter(val_loader))\n",
    "    DEVICE = \"cuda\" if torch.cuda.is_available() else \"cpu\"\n",
    "    x, y = x.to(DEVICE), y.to(DEVICE)\n",
    "    if not os.path.exists(folder):\n",
    "        os.makedirs(folder)\n",
    "    gen.eval()\n",
    "    with torch.no_grad():\n",
    "        y_fake = gen(x)\n",
    "        y_fake = y_fake * 0.5 + 0.5  # remove normalization#\n",
    "        save_image(y_fake, folder + f\"/y_gen_{epoch}.png\")\n",
    "        save_image(x * 0.5 + 0.5, folder + f\"/input_{epoch}.png\")\n",
    "        if epoch == 1:\n",
    "            save_image(y * 0.5 + 0.5, folder + f\"/label_{epoch}.png\")\n",
    "    gen.train()"
   ]
  },
  {
   "cell_type": "code",
   "execution_count": 5,
   "id": "8521c6aa",
   "metadata": {
    "execution": {
     "iopub.execute_input": "2023-11-05T16:13:42.137690Z",
     "iopub.status.busy": "2023-11-05T16:13:42.137416Z",
     "iopub.status.idle": "2023-11-05T16:13:42.141555Z",
     "shell.execute_reply": "2023-11-05T16:13:42.140592Z"
    },
    "papermill": {
     "duration": 0.011655,
     "end_time": "2023-11-05T16:13:42.143390",
     "exception": false,
     "start_time": "2023-11-05T16:13:42.131735",
     "status": "completed"
    },
    "tags": []
   },
   "outputs": [],
   "source": [
    "root_tr = \"/kaggle/input/256-256-image-denoising-benchmark/Image_Denoising_Data_256/Train\"\n",
    "root_te = \"/kaggle/input/256-256-image-denoising-benchmark/Image_Denoising_Data_256/Test\""
   ]
  },
  {
   "cell_type": "code",
   "execution_count": 6,
   "id": "e0f0eaa5",
   "metadata": {
    "execution": {
     "iopub.execute_input": "2023-11-05T16:13:42.153706Z",
     "iopub.status.busy": "2023-11-05T16:13:42.153435Z",
     "iopub.status.idle": "2023-11-05T16:13:42.510609Z",
     "shell.execute_reply": "2023-11-05T16:13:42.509667Z"
    },
    "papermill": {
     "duration": 0.36496,
     "end_time": "2023-11-05T16:13:42.512963",
     "exception": false,
     "start_time": "2023-11-05T16:13:42.148003",
     "status": "completed"
    },
    "tags": []
   },
   "outputs": [],
   "source": [
    "train_dataset = GroundTruthNoisyDataset(root_tr)\n",
    "train_loader = DataLoader(train_dataset, batch_size=16, shuffle=True)\n",
    "\n",
    "valid_dataset = GroundTruthNoisyDataset(root_te)\n",
    "valid_loader = DataLoader(valid_dataset, batch_size=32, shuffle=False)"
   ]
  },
  {
   "cell_type": "code",
   "execution_count": 7,
   "id": "83f80131",
   "metadata": {
    "execution": {
     "iopub.execute_input": "2023-11-05T16:13:42.524093Z",
     "iopub.status.busy": "2023-11-05T16:13:42.523629Z",
     "iopub.status.idle": "2023-11-05T16:13:42.568051Z",
     "shell.execute_reply": "2023-11-05T16:13:42.567018Z"
    },
    "papermill": {
     "duration": 0.05242,
     "end_time": "2023-11-05T16:13:42.570211",
     "exception": false,
     "start_time": "2023-11-05T16:13:42.517791",
     "status": "completed"
    },
    "tags": []
   },
   "outputs": [],
   "source": [
    "#!/usr/bin/env python\n",
    "\n",
    "import torch\n",
    "import torch.nn as nn\n",
    "import torch.nn.functional as F\n",
    "\n",
    "\n",
    "# Denoise DND and NAM\n",
    "class UNet_ND(nn.Module):\n",
    "\n",
    "    def __init__(self):\n",
    "        super(UNet_ND, self).__init__()\n",
    "        self.main = MainNet(in_nc=3, out_nc=12)\n",
    "        self.main2 = MainNet(in_nc=15, out_nc=24)\n",
    "        self.out = nn.Conv2d(24, 3, kernel_size=3, padding=1, bias=True)\n",
    "\n",
    "    def forward(self, x):\n",
    "        out1 = self.main(x)\n",
    "        out1[:,:3,:,:] = out1[:,:3,:,:] + x\n",
    "        out2 = self.main2(torch.cat([x, out1], dim=1))\n",
    "        out2[:, :3, :, :] = out2[:, :3, :, :] + x\n",
    "        out2[:, 12:, :, :] = out2[:, 12:, :, :] + out1\n",
    "\n",
    "        return self.out(out2) + x\n",
    "\n",
    "class UNet_D(nn.Module):\n",
    "\n",
    "    def __init__(self):\n",
    "        super(UNet_D, self).__init__()\n",
    "        self.main = MainNet(in_nc=3, out_nc=12)\n",
    "        self.main2 = MainNet(in_nc=15, out_nc=24)\n",
    "        self.out = nn.Conv2d(24, 3, kernel_size=3, padding=1, bias=True)\n",
    "\n",
    "    def forward(self, x):\n",
    "        out1 = self.main(x)\n",
    "        out1[:,:3,:,:] = out1[:,:3,:,:] + x\n",
    "        out2 = self.main2(torch.cat([x, out1], dim=1))\n",
    "        out2[:, :3, :, :] = out2[:, :3, :, :] + x\n",
    "        out2[:, 12:, :, :] = out2[:, 12:, :, :] + out1\n",
    "\n",
    "        return self.out(out2) + x\n",
    "\n",
    "class HI_GAN(nn.Module):\n",
    "    def __init__(self, ):\n",
    "        super(HI_GAN, self).__init__()\n",
    "        self.main = MainNet(in_nc=6, out_nc=6)\n",
    "        self.main2 = MainNet(in_nc=12, out_nc=12)\n",
    "        self.main3 = MainNet(in_nc=24, out_nc=24)\n",
    "        self.out = nn.Conv2d(24, 3, kernel_size=3, padding=1, bias=True)\n",
    "    def forward(self, unet_nd_dn, unet_d_dn):\n",
    "        concat_img1 = torch.cat([unet_nd_dn, unet_d_dn], dim=1)\n",
    "        out1 = 0.2*self.main(concat_img1) + concat_img1\n",
    "\n",
    "        concat_img2 = torch.cat([concat_img1, out1], dim=1)\n",
    "        out2 = 0.2*self.main2(concat_img2) + concat_img2\n",
    "\n",
    "        concat_img3 = torch.cat([concat_img2, out2], dim=1)\n",
    "        out3 = 0.2*self.main3(concat_img3) + concat_img3\n",
    "\n",
    "        out = 0.2 * self.out(out3) + 0.5 * unet_nd_dn + 0.5 * unet_d_dn\n",
    "        return out\n",
    "\n",
    "# Denoise Cell\n",
    "class UNet_ND_cell(nn.Module):\n",
    "\n",
    "    def __init__(self):\n",
    "        super(UNet_ND_cell, self).__init__()\n",
    "        self.main = MainNet(in_nc=1, out_nc=1)\n",
    "        self.main2 = MainNet(in_nc=2, out_nc=2)\n",
    "        self.out = nn.Conv2d(4, 1, kernel_size=3, padding=1, bias=True)\n",
    "\n",
    "    def forward(self, x):\n",
    "        out1 = self.main(x) + x\n",
    "        cat1 = torch.cat([x, out1], dim=1)\n",
    "        out2 = self.main2(cat1) + cat1\n",
    "        cat2 = torch.cat([x,out1, out2], dim=1)\n",
    "        return self.out(cat2) + x\n",
    "\n",
    "class UNet_D_cell(nn.Module):\n",
    "\n",
    "    def __init__(self):\n",
    "        super(UNet_D_cell, self).__init__()\n",
    "        self.main = MainNet(in_nc=1, out_nc=1)\n",
    "        self.main2 = MainNet(in_nc=2, out_nc=2)\n",
    "        self.out = nn.Conv2d(4, 1, kernel_size=3, padding=1, bias=True)\n",
    "\n",
    "    def forward(self, x):\n",
    "        out1 = self.main(x) + x\n",
    "        cat1 = torch.cat([x, out1], dim=1)\n",
    "        out2 = self.main2(cat1) + cat1\n",
    "        cat2 = torch.cat([x,out1, out2], dim=1)\n",
    "        return self.out(cat2) + x\n",
    "\n",
    "class HI_GAN_cell(nn.Module):\n",
    "    def __init__(self, ):\n",
    "        super(HI_GAN_cell, self).__init__()\n",
    "        self.main = MainNet(in_nc=2, out_nc=2)\n",
    "        self.main2 = MainNet(in_nc=4, out_nc=4)\n",
    "        self.main3 = MainNet(in_nc=8, out_nc=8)\n",
    "        self.out = nn.Conv2d(8, 1, kernel_size=3, padding=1, bias=True)\n",
    "    def forward(self, unet_nd_dn, unet_d_dn):\n",
    "        cat1 = torch.cat([unet_nd_dn, unet_d_dn], dim=1)\n",
    "        out1 = 0.2*self.main(cat1) + cat1\n",
    "\n",
    "        cat2 = torch.cat([cat1, out1], dim=1)\n",
    "        out2 = 0.2*self.main2(cat2) + cat2\n",
    "\n",
    "        cat3 = torch.cat([cat2, out2], dim=1)\n",
    "        out3 = 0.2*self.main3(cat3) + cat3\n",
    "\n",
    "        out = 0.2 * self.out(out3) + 0.5 * unet_nd_dn + 0.5 * unet_d_dn\n",
    "        return out\n",
    "\n",
    "\n",
    "## Sub classes\n",
    "class MainNet(nn.Module):\n",
    "    \"\"\"B-DenseUNets\"\"\"\n",
    "    def __init__(self, in_nc=12, out_nc=12):\n",
    "        super(MainNet, self).__init__()\n",
    "        self.inc = nn.Sequential(\n",
    "            single_conv(in_nc, 64),\n",
    "            single_conv(64, 64),\n",
    "        )\n",
    "        self.down1 = nn.AvgPool2d(2)\n",
    "        self.conv1 = nn.Sequential(\n",
    "            single_conv(64, 128),\n",
    "            RDB(128, 4, 32),\n",
    "        )\n",
    "        self.down2 = nn.AvgPool2d(2)\n",
    "        self.conv2 = nn.Sequential(\n",
    "            single_conv(128, 256),\n",
    "            RDB(256, 10, 32),\n",
    "        )\n",
    "        self.up1 = up(256)\n",
    "        self.conv3 = nn.Sequential(\n",
    "            RDB(128, 6, 32),\n",
    "        )\n",
    "        self.up2 = up(128)\n",
    "        self.conv4 = nn.Sequential(\n",
    "            RDB(64, 4, 32),\n",
    "        )\n",
    "        self.outc = outconv(64, out_nc)\n",
    "    def forward(self, x):\n",
    "        inx = self.inc(x)\n",
    "\n",
    "        down1 = self.down1(inx)\n",
    "        conv1 = self.conv1(down1)\n",
    "\n",
    "        down2 = self.down2(conv1)\n",
    "        conv2 = self.conv2(down2)\n",
    "\n",
    "        up1 = self.up1(conv2, conv1)\n",
    "        conv3 = self.conv3(up1)\n",
    "\n",
    "        up2 = self.up2(conv3, inx)\n",
    "        conv4 = self.conv4(up2)\n",
    "\n",
    "        out = self.outc(conv4)\n",
    "        return out\n",
    "\n",
    "class single_conv(nn.Module):\n",
    "    def __init__(self, in_ch, out_ch):\n",
    "        super(single_conv, self).__init__()\n",
    "        self.conv = nn.Sequential(\n",
    "            nn.Conv2d(in_ch, out_ch, 3, padding=1),\n",
    "            nn.ReLU(inplace=True)\n",
    "        )\n",
    "\n",
    "    def forward(self, x):\n",
    "        x = self.conv(x)\n",
    "        return x\n",
    "\n",
    "class up(nn.Module):\n",
    "    def __init__(self, in_ch):\n",
    "        super(up, self).__init__()\n",
    "        self.up = nn.ConvTranspose2d(in_ch, in_ch // 2, 2, stride=2)\n",
    "\n",
    "    def forward(self, x1, x2):\n",
    "        x1 = self.up(x1)\n",
    "\n",
    "        # input is CHW\n",
    "        diffY = x2.size()[2] - x1.size()[2]\n",
    "        diffX = x2.size()[3] - x1.size()[3]\n",
    "\n",
    "        x1 = F.pad(x1, (diffX // 2, diffX - diffX // 2,\n",
    "                        diffY // 2, diffY - diffY // 2))\n",
    "\n",
    "        x = x2 + x1\n",
    "        return x\n",
    "\n",
    "class outconv(nn.Module):\n",
    "    def __init__(self, in_ch, out_ch):\n",
    "        super(outconv, self).__init__()\n",
    "        self.conv = nn.Conv2d(in_ch, out_ch, 1)\n",
    "\n",
    "    def forward(self, x):\n",
    "        x = self.conv(x)\n",
    "        return x\n",
    "\n",
    "\n",
    "class RDB(nn.Module):\n",
    "    def __init__(self, nChannels, nDenselayer, growthRate):\n",
    "        super(RDB, self).__init__()\n",
    "        nChannels_ = nChannels\n",
    "        modules = []\n",
    "        for i in range(nDenselayer):\n",
    "            modules.append(make_dense(nChannels_, growthRate))\n",
    "            nChannels_ += growthRate\n",
    "        self.dense_layers = nn.Sequential(*modules)\n",
    "        self.conv_1x1 = nn.Conv2d(nChannels_, nChannels, kernel_size=1, padding=0, bias=False)\n",
    "\n",
    "    def forward(self, x):\n",
    "        out = self.dense_layers(x)\n",
    "        out = self.conv_1x1(out)\n",
    "        out = out + x\n",
    "        return out\n",
    "\n",
    "class make_dense(nn.Module):\n",
    "    def __init__(self, nChannels, growthRate, kernel_size=3):\n",
    "        super(make_dense, self).__init__()\n",
    "        self.conv = nn.Conv2d(nChannels, growthRate, kernel_size=kernel_size, padding=(kernel_size - 1) // 2,\n",
    "                              bias=False)\n",
    "\n",
    "    def forward(self, x):\n",
    "        out = F.relu(self.conv(x))\n",
    "        out = torch.cat((x, out), 1)\n",
    "        return out\n"
   ]
  },
  {
   "cell_type": "code",
   "execution_count": 8,
   "id": "e8b5e5c7",
   "metadata": {
    "execution": {
     "iopub.execute_input": "2023-11-05T16:13:42.580767Z",
     "iopub.status.busy": "2023-11-05T16:13:42.580490Z",
     "iopub.status.idle": "2023-11-05T16:13:42.682513Z",
     "shell.execute_reply": "2023-11-05T16:13:42.681550Z"
    },
    "papermill": {
     "duration": 0.110301,
     "end_time": "2023-11-05T16:13:42.685357",
     "exception": false,
     "start_time": "2023-11-05T16:13:42.575056",
     "status": "completed"
    },
    "tags": []
   },
   "outputs": [],
   "source": [
    "model = UNet_ND()"
   ]
  },
  {
   "cell_type": "code",
   "execution_count": 9,
   "id": "db4c6a8d",
   "metadata": {
    "execution": {
     "iopub.execute_input": "2023-11-05T16:13:42.701309Z",
     "iopub.status.busy": "2023-11-05T16:13:42.701014Z",
     "iopub.status.idle": "2023-11-05T16:13:42.841512Z",
     "shell.execute_reply": "2023-11-05T16:13:42.840268Z"
    },
    "papermill": {
     "duration": 0.150702,
     "end_time": "2023-11-05T16:13:42.843732",
     "exception": false,
     "start_time": "2023-11-05T16:13:42.693030",
     "status": "completed"
    },
    "tags": []
   },
   "outputs": [
    {
     "name": "stdout",
     "output_type": "stream",
     "text": [
      "Using 2 GPUs!\n"
     ]
    }
   ],
   "source": [
    "if torch.cuda.device_count() > 1:\n",
    "    print(\"Using\", torch.cuda.device_count(), \"GPUs!\")\n",
    "    model = nn.DataParallel(model)"
   ]
  },
  {
   "cell_type": "code",
   "execution_count": 10,
   "id": "ee8b05f3",
   "metadata": {
    "execution": {
     "iopub.execute_input": "2023-11-05T16:13:42.855978Z",
     "iopub.status.busy": "2023-11-05T16:13:42.854980Z",
     "iopub.status.idle": "2023-11-05T22:21:07.713756Z",
     "shell.execute_reply": "2023-11-05T22:21:07.712718Z"
    },
    "papermill": {
     "duration": 22044.867362,
     "end_time": "2023-11-05T22:21:07.716213",
     "exception": false,
     "start_time": "2023-11-05T16:13:42.848851",
     "status": "completed"
    },
    "tags": []
   },
   "outputs": [
    {
     "name": "stdout",
     "output_type": "stream",
     "text": [
      "Epoch [1/100], Train PSNR: 30.8758, Valid PSNR: 33.5779\n",
      "Epoch [2/100], Train PSNR: 34.2841, Valid PSNR: 34.7147\n",
      "Epoch [3/100], Train PSNR: 35.1032, Valid PSNR: 35.3841\n",
      "Epoch [4/100], Train PSNR: 35.4675, Valid PSNR: 35.5766\n",
      "Epoch [5/100], Train PSNR: 35.7869, Valid PSNR: 35.6043\n",
      "Epoch [6/100], Train PSNR: 35.9095, Valid PSNR: 36.0621\n",
      "Epoch [7/100], Train PSNR: 36.2178, Valid PSNR: 35.8784\n",
      "Epoch [8/100], Train PSNR: 36.3327, Valid PSNR: 36.4766\n",
      "Epoch [9/100], Train PSNR: 36.4113, Valid PSNR: 36.5104\n",
      "Epoch [10/100], Train PSNR: 36.5690, Valid PSNR: 36.7096\n",
      "Epoch [11/100], Train PSNR: 36.5799, Valid PSNR: 36.4763\n",
      "Epoch [12/100], Train PSNR: 36.6826, Valid PSNR: 36.4843\n",
      "Epoch [13/100], Train PSNR: 36.6478, Valid PSNR: 36.6004\n",
      "Epoch [14/100], Train PSNR: 36.7779, Valid PSNR: 36.8323\n",
      "Epoch [15/100], Train PSNR: 36.8894, Valid PSNR: 36.2812\n",
      "Epoch [16/100], Train PSNR: 36.7115, Valid PSNR: 36.9121\n",
      "Epoch [17/100], Train PSNR: 36.8335, Valid PSNR: 36.2862\n",
      "Epoch [18/100], Train PSNR: 36.8681, Valid PSNR: 36.9340\n",
      "Epoch [19/100], Train PSNR: 36.8908, Valid PSNR: 37.0284\n",
      "Epoch [20/100], Train PSNR: 37.0148, Valid PSNR: 36.9690\n",
      "Epoch [21/100], Train PSNR: 36.8997, Valid PSNR: 37.0813\n",
      "Epoch [22/100], Train PSNR: 37.0780, Valid PSNR: 37.0978\n",
      "Epoch [23/100], Train PSNR: 36.8477, Valid PSNR: 36.8920\n",
      "Epoch [24/100], Train PSNR: 37.1181, Valid PSNR: 36.7085\n",
      "Epoch [25/100], Train PSNR: 37.1340, Valid PSNR: 36.5919\n",
      "Epoch [26/100], Train PSNR: 37.0483, Valid PSNR: 37.1112\n",
      "Epoch [27/100], Train PSNR: 37.0922, Valid PSNR: 36.9635\n",
      "Epoch [28/100], Train PSNR: 37.1388, Valid PSNR: 37.0958\n",
      "Epoch [29/100], Train PSNR: 37.0946, Valid PSNR: 37.1496\n",
      "Epoch [30/100], Train PSNR: 37.1925, Valid PSNR: 37.1531\n",
      "Epoch [31/100], Train PSNR: 37.1766, Valid PSNR: 37.1027\n",
      "Epoch [32/100], Train PSNR: 37.2026, Valid PSNR: 37.2292\n",
      "Epoch [33/100], Train PSNR: 37.2960, Valid PSNR: 36.8557\n",
      "Epoch [34/100], Train PSNR: 37.0534, Valid PSNR: 37.0692\n",
      "Epoch [35/100], Train PSNR: 37.2437, Valid PSNR: 36.9726\n",
      "Epoch [36/100], Train PSNR: 37.1471, Valid PSNR: 37.0816\n",
      "Epoch [37/100], Train PSNR: 37.2728, Valid PSNR: 37.0911\n",
      "Epoch [38/100], Train PSNR: 37.1992, Valid PSNR: 37.0039\n",
      "Epoch [39/100], Train PSNR: 37.2607, Valid PSNR: 37.2881\n",
      "Epoch [40/100], Train PSNR: 37.2474, Valid PSNR: 36.9790\n",
      "Epoch [41/100], Train PSNR: 37.1350, Valid PSNR: 37.2673\n",
      "Epoch [42/100], Train PSNR: 37.2547, Valid PSNR: 37.3097\n",
      "Epoch [43/100], Train PSNR: 37.3620, Valid PSNR: 37.3317\n",
      "Epoch [44/100], Train PSNR: 37.4491, Valid PSNR: 36.5439\n",
      "Epoch [45/100], Train PSNR: 37.1930, Valid PSNR: 37.0809\n",
      "Epoch [46/100], Train PSNR: 37.2341, Valid PSNR: 37.4167\n",
      "Epoch [47/100], Train PSNR: 37.4212, Valid PSNR: 37.2404\n",
      "Epoch [48/100], Train PSNR: 37.3706, Valid PSNR: 37.4624\n",
      "Epoch [49/100], Train PSNR: 37.3689, Valid PSNR: 37.3325\n",
      "Epoch [50/100], Train PSNR: 37.3301, Valid PSNR: 37.1200\n",
      "Epoch [51/100], Train PSNR: 37.4419, Valid PSNR: 37.2273\n",
      "Epoch [52/100], Train PSNR: 37.4075, Valid PSNR: 37.3340\n",
      "Epoch [53/100], Train PSNR: 37.4169, Valid PSNR: 37.4293\n",
      "Epoch [54/100], Train PSNR: 37.3853, Valid PSNR: 37.0735\n",
      "Epoch [55/100], Train PSNR: 37.3506, Valid PSNR: 37.2746\n",
      "Epoch [56/100], Train PSNR: 36.9434, Valid PSNR: 31.8375\n",
      "Epoch [57/100], Train PSNR: 35.5171, Valid PSNR: 36.5099\n",
      "Epoch [58/100], Train PSNR: 36.9339, Valid PSNR: 36.6629\n",
      "Epoch [59/100], Train PSNR: 37.1268, Valid PSNR: 36.7540\n",
      "Epoch [60/100], Train PSNR: 37.1090, Valid PSNR: 37.2546\n",
      "Epoch [61/100], Train PSNR: 37.3613, Valid PSNR: 37.1958\n",
      "Epoch [62/100], Train PSNR: 37.3829, Valid PSNR: 37.2156\n",
      "Epoch [63/100], Train PSNR: 37.3908, Valid PSNR: 37.2420\n",
      "Epoch [64/100], Train PSNR: 37.4065, Valid PSNR: 37.2853\n",
      "Epoch [65/100], Train PSNR: 37.5065, Valid PSNR: 37.0694\n",
      "Epoch [66/100], Train PSNR: 37.5120, Valid PSNR: 37.3274\n",
      "Epoch [67/100], Train PSNR: 37.5866, Valid PSNR: 37.2648\n",
      "Epoch [68/100], Train PSNR: 37.4361, Valid PSNR: 37.4122\n",
      "Epoch [69/100], Train PSNR: 37.5852, Valid PSNR: 37.3104\n",
      "Epoch [70/100], Train PSNR: 37.4176, Valid PSNR: 37.4489\n",
      "Epoch [71/100], Train PSNR: 37.5671, Valid PSNR: 37.3487\n",
      "Epoch [72/100], Train PSNR: 37.5376, Valid PSNR: 37.3387\n",
      "Epoch [73/100], Train PSNR: 37.6704, Valid PSNR: 37.4620\n",
      "Epoch [74/100], Train PSNR: 37.4565, Valid PSNR: 37.3736\n",
      "Epoch [75/100], Train PSNR: 37.5774, Valid PSNR: 37.2545\n",
      "Epoch [76/100], Train PSNR: 37.5352, Valid PSNR: 37.3778\n",
      "Epoch [77/100], Train PSNR: 37.3479, Valid PSNR: 37.4879\n",
      "Epoch [78/100], Train PSNR: 37.5896, Valid PSNR: 37.1977\n",
      "Epoch [79/100], Train PSNR: 37.5761, Valid PSNR: 37.2755\n",
      "Epoch [80/100], Train PSNR: 37.6506, Valid PSNR: 37.5091\n",
      "Epoch [81/100], Train PSNR: 37.6269, Valid PSNR: 37.4652\n",
      "Epoch [82/100], Train PSNR: 37.5873, Valid PSNR: 37.2959\n",
      "Epoch [83/100], Train PSNR: 37.6464, Valid PSNR: 37.4153\n",
      "Epoch [84/100], Train PSNR: 37.6346, Valid PSNR: 37.3066\n",
      "Epoch [85/100], Train PSNR: 37.6507, Valid PSNR: 37.4126\n",
      "Epoch [86/100], Train PSNR: 37.6725, Valid PSNR: 37.2125\n",
      "Epoch [87/100], Train PSNR: 37.6019, Valid PSNR: 37.1303\n",
      "Epoch [88/100], Train PSNR: 37.4725, Valid PSNR: 37.4668\n",
      "Epoch [89/100], Train PSNR: 37.8759, Valid PSNR: 37.4125\n",
      "Epoch [90/100], Train PSNR: 37.6432, Valid PSNR: 37.4987\n",
      "Epoch [91/100], Train PSNR: 37.8018, Valid PSNR: 37.3409\n",
      "Epoch [92/100], Train PSNR: 37.2493, Valid PSNR: 37.3097\n",
      "Epoch [93/100], Train PSNR: 37.6488, Valid PSNR: 37.3558\n",
      "Epoch [94/100], Train PSNR: 37.6930, Valid PSNR: 37.4502\n",
      "Epoch [95/100], Train PSNR: 37.7849, Valid PSNR: 37.4296\n",
      "Epoch [96/100], Train PSNR: 37.7816, Valid PSNR: 37.4937\n",
      "Epoch [97/100], Train PSNR: 37.7463, Valid PSNR: 37.4274\n",
      "Epoch [98/100], Train PSNR: 37.7733, Valid PSNR: 37.1659\n",
      "Epoch [99/100], Train PSNR: 37.4509, Valid PSNR: 37.0223\n",
      "Epoch [100/100], Train PSNR: 37.4717, Valid PSNR: 37.4756\n"
     ]
    }
   ],
   "source": [
    "import math\n",
    "import torch.nn as nn\n",
    "import torch\n",
    "\n",
    "def psnr(mse, max_pixel_val=255.0):\n",
    "    return 10 * math.log10(max_pixel_val**2 / mse)\n",
    "\n",
    "optimizer = torch.optim.Adam(model.parameters(), lr=0.001)\n",
    "criterion = nn.MSELoss()\n",
    "los = nn.MSELoss()\n",
    "num_epochs = 100\n",
    "device = torch.device(\"cuda:0\" if torch.cuda.is_available() else \"cpu\")\n",
    "model.to(device)\n",
    "train_losses = []\n",
    "train_psnr = []\n",
    "test_losses = []\n",
    "test_psnr = []\n",
    "\n",
    "\n",
    "for epoch in range(num_epochs):\n",
    "    total_psnr_train = 0\n",
    "    tot_loss_train = 0\n",
    "    model.train()\n",
    "    \n",
    "    optimizer.zero_grad()  # Initialize gradients once at the start of each epoch\n",
    "\n",
    "    for i, (noisy_imgs, clean_imgs) in enumerate(train_loader):\n",
    "        noisy_imgs, clean_imgs = noisy_imgs.to(device), clean_imgs.to(device)\n",
    "        outputs = model(noisy_imgs)\n",
    "        loss = criterion(outputs, clean_imgs)\n",
    "        o = outputs*0.5+0.5\n",
    "        c = clean_imgs*0.5+0.5\n",
    "        mse = los(o*255.0,c*255.0)\n",
    "        current_psnr = psnr(mse)\n",
    "        total_psnr_train += current_psnr\n",
    "        tot_loss_train += loss.item()  # Using loss.item() to accumulate the loss\n",
    "\n",
    "        loss.backward()  # Calculate gradients\n",
    "\n",
    "        optimizer.step()  # Update weights\n",
    "        optimizer.zero_grad()  # Reset gradients\n",
    "\n",
    "    avg_psnr_train = total_psnr_train / len(train_loader)\n",
    "    train_losses.append(tot_loss_train / len(train_loader))\n",
    "    train_psnr.append(avg_psnr_train)\n",
    "    model.eval()\n",
    "    total_psnr_valid = 0\n",
    "    tot_loss_valid = 0\n",
    "\n",
    "    with torch.no_grad():\n",
    "        for noisy_imgs, clean_imgs in valid_loader:\n",
    "            noisy_imgs, clean_imgs = noisy_imgs.to(device), clean_imgs.to(device)\n",
    "            outputs = model(noisy_imgs)\n",
    "            o = outputs*0.5+0.5\n",
    "            c = clean_imgs*0.5+0.5\n",
    "            mse = los(o*255.0,c*255.0)\n",
    "            current_psnr = psnr(mse)\n",
    "            total_psnr_valid += current_psnr\n",
    "            tot_loss_valid += loss.item()\n",
    "\n",
    "    avg_psnr_valid = total_psnr_valid / len(valid_loader)\n",
    "    test_losses.append(tot_loss_valid / len(valid_loader))\n",
    "    test_psnr.append(avg_psnr_valid)\n",
    "    print(f\"Epoch [{epoch+1}/{num_epochs}], Train PSNR: {avg_psnr_train:.4f}, Valid PSNR: {avg_psnr_valid:.4f}\")\n",
    "    save_some_examples(model, valid_loader, epoch, folder=\"/kaggle/working/evaluation\")"
   ]
  },
  {
   "cell_type": "code",
   "execution_count": 11,
   "id": "29e51569",
   "metadata": {
    "execution": {
     "iopub.execute_input": "2023-11-05T22:21:07.741637Z",
     "iopub.status.busy": "2023-11-05T22:21:07.741150Z",
     "iopub.status.idle": "2023-11-05T22:21:07.746151Z",
     "shell.execute_reply": "2023-11-05T22:21:07.745271Z"
    },
    "papermill": {
     "duration": 0.019666,
     "end_time": "2023-11-05T22:21:07.748029",
     "exception": false,
     "start_time": "2023-11-05T22:21:07.728363",
     "status": "completed"
    },
    "tags": []
   },
   "outputs": [],
   "source": [
    "train_loss = []\n",
    "test_loss = []\n",
    "for i in train_losses:\n",
    "    train_loss.append(i)\n",
    "for i in test_losses:\n",
    "    test_loss.append(i)"
   ]
  },
  {
   "cell_type": "code",
   "execution_count": 12,
   "id": "4f2fcaad",
   "metadata": {
    "execution": {
     "iopub.execute_input": "2023-11-05T22:21:07.773801Z",
     "iopub.status.busy": "2023-11-05T22:21:07.773523Z",
     "iopub.status.idle": "2023-11-05T22:21:07.778525Z",
     "shell.execute_reply": "2023-11-05T22:21:07.777739Z"
    },
    "papermill": {
     "duration": 0.020315,
     "end_time": "2023-11-05T22:21:07.780360",
     "exception": false,
     "start_time": "2023-11-05T22:21:07.760045",
     "status": "completed"
    },
    "tags": []
   },
   "outputs": [
    {
     "name": "stdout",
     "output_type": "stream",
     "text": [
      "Train_loss: 0.0007643019168454251\n",
      "Test_loss: 0.0010063473600894213\n"
     ]
    }
   ],
   "source": [
    "print(\"Train_loss:\",train_loss[len(train_loss)-1])\n",
    "print(\"Test_loss:\",test_loss[len(test_loss)-1])"
   ]
  },
  {
   "cell_type": "code",
   "execution_count": 13,
   "id": "e4bdb083",
   "metadata": {
    "execution": {
     "iopub.execute_input": "2023-11-05T22:21:07.805260Z",
     "iopub.status.busy": "2023-11-05T22:21:07.805014Z",
     "iopub.status.idle": "2023-11-05T22:21:08.087215Z",
     "shell.execute_reply": "2023-11-05T22:21:08.086359Z"
    },
    "papermill": {
     "duration": 0.296865,
     "end_time": "2023-11-05T22:21:08.089196",
     "exception": false,
     "start_time": "2023-11-05T22:21:07.792331",
     "status": "completed"
    },
    "tags": []
   },
   "outputs": [
    {
     "data": {
      "image/png": "[encoded data removed]",
      "text/plain": [
       "<Figure size 800x600 with 1 Axes>"
      ]
     },
     "metadata": {},
     "output_type": "display_data"
    }
   ],
   "source": [
    "import matplotlib.pyplot as plt\n",
    "x = [i for i in range(1,101)]\n",
    "fig, ax = plt.subplots(1, figsize=(8,6))\n",
    "fig.suptitle(\"Learning Curve\", fontsize = 15)\n",
    "ax.set_xlabel('Epochs')\n",
    "ax.set_ylabel('Loss')\n",
    "ax.plot(x, train_loss, label=\"Training Curve\")\n",
    "ax.plot(x, test_loss, label=\"Testing Curve\")\n",
    "plt.legend(loc=\"upper right\", frameon=False)\n",
    "plt.show()"
   ]
  },
  {
   "cell_type": "code",
   "execution_count": 14,
   "id": "5e38f7f5",
   "metadata": {
    "execution": {
     "iopub.execute_input": "2023-11-05T22:21:08.116804Z",
     "iopub.status.busy": "2023-11-05T22:21:08.116277Z",
     "iopub.status.idle": "2023-11-05T22:21:08.386482Z",
     "shell.execute_reply": "2023-11-05T22:21:08.385681Z"
    },
    "papermill": {
     "duration": 0.285972,
     "end_time": "2023-11-05T22:21:08.388351",
     "exception": false,
     "start_time": "2023-11-05T22:21:08.102379",
     "status": "completed"
    },
    "tags": []
   },
   "outputs": [
    {
     "data": {
      "image/png": "[encoded data removed]",
      "text/plain": [
       "<Figure size 800x600 with 1 Axes>"
      ]
     },
     "metadata": {},
     "output_type": "display_data"
    }
   ],
   "source": [
    "import matplotlib.pyplot as plt\n",
    "x = [i for i in range(1,101)]\n",
    "fig, ax = plt.subplots(1, figsize=(8,6))\n",
    "fig.suptitle(\"PSNR\", fontsize = 15)\n",
    "ax.set_xlabel('Epochs')\n",
    "ax.set_ylabel('PSNR')\n",
    "ax.plot(x, train_psnr, label=\"Training PSNR\")\n",
    "ax.plot(x, test_psnr, label=\"Testing PSNR\")\n",
    "plt.legend(loc=\"lower right\", frameon=False)\n",
    "plt.show()"
   ]
  },
  {
   "cell_type": "code",
   "execution_count": 15,
   "id": "9e10d4d0",
   "metadata": {
    "execution": {
     "iopub.execute_input": "2023-11-05T22:21:08.416669Z",
     "iopub.status.busy": "2023-11-05T22:21:08.416415Z",
     "iopub.status.idle": "2023-11-05T22:21:08.462227Z",
     "shell.execute_reply": "2023-11-05T22:21:08.461325Z"
    },
    "papermill": {
     "duration": 0.062312,
     "end_time": "2023-11-05T22:21:08.464309",
     "exception": false,
     "start_time": "2023-11-05T22:21:08.401997",
     "status": "completed"
    },
    "tags": []
   },
   "outputs": [],
   "source": [
    "torch.save(model.module.state_dict(), 'model_unetnd_denoise_256.pth')"
   ]
  },
  {
   "cell_type": "code",
   "execution_count": null,
   "id": "9f33682b",
   "metadata": {
    "papermill": {
     "duration": 0.013439,
     "end_time": "2023-11-05T22:21:08.491795",
     "exception": false,
     "start_time": "2023-11-05T22:21:08.478356",
     "status": "completed"
    },
    "tags": []
   },
   "outputs": [],
   "source": []
  }
 ],
 "metadata": {
  "kernelspec": {
   "display_name": "Python 3",
   "language": "python",
   "name": "python3"
  },
  "language_info": {
   "codemirror_mode": {
    "name": "ipython",
    "version": 3
   },
   "file_extension": ".py",
   "mimetype": "text/x-python",
   "name": "python",
   "nbconvert_exporter": "python",
   "pygments_lexer": "ipython3",
   "version": "3.10.12"
  },
  "papermill": {
   "default_parameters": {},
   "duration": 22058.067621,
   "end_time": "2023-11-05T22:21:10.674642",
   "environment_variables": {},
   "exception": null,
   "input_path": "__notebook__.ipynb",
   "output_path": "__notebook__.ipynb",
   "parameters": {},
   "start_time": "2023-11-05T16:13:32.607021",
   "version": "2.4.0"
  }
 },
 "nbformat": 4,
 "nbformat_minor": 5
}
