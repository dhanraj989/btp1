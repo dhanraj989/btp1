{
 "cells": [
  {
   "cell_type": "code",
   "execution_count": 1,
   "id": "e5494f26",
   "metadata": {
    "_cell_guid": "b1076dfc-b9ad-4769-8c92-a6c4dae69d19",
    "_uuid": "8f2839f25d086af736a60e9eeb907d3b93b6e0e5",
    "execution": {
     "iopub.execute_input": "2023-11-19T17:32:53.609425Z",
     "iopub.status.busy": "2023-11-19T17:32:53.609040Z",
     "iopub.status.idle": "2023-11-19T17:32:58.432205Z",
     "shell.execute_reply": "2023-11-19T17:32:58.431346Z"
    },
    "papermill": {
     "duration": 4.83164,
     "end_time": "2023-11-19T17:32:58.434634",
     "exception": false,
     "start_time": "2023-11-19T17:32:53.602994",
     "status": "completed"
    },
    "tags": []
   },
   "outputs": [],
   "source": [
    "import numpy as np\n",
    "import pandas as pd\n",
    "import os\n",
    "import torch\n",
    "import torch.nn as nn\n",
    "from torch.utils.data import Dataset, DataLoader\n",
    "import pickle\n",
    "import math\n",
    "import torch.nn.init as init"
   ]
  },
  {
   "cell_type": "code",
   "execution_count": 2,
   "id": "a5f3eab1",
   "metadata": {
    "execution": {
     "iopub.execute_input": "2023-11-19T17:32:58.444864Z",
     "iopub.status.busy": "2023-11-19T17:32:58.444492Z",
     "iopub.status.idle": "2023-11-19T17:33:01.326451Z",
     "shell.execute_reply": "2023-11-19T17:33:01.325416Z"
    },
    "papermill": {
     "duration": 2.889898,
     "end_time": "2023-11-19T17:33:01.329253",
     "exception": false,
     "start_time": "2023-11-19T17:32:58.439355",
     "status": "completed"
    },
    "tags": []
   },
   "outputs": [
    {
     "name": "stderr",
     "output_type": "stream",
     "text": [
      "/opt/conda/lib/python3.10/site-packages/scipy/__init__.py:146: UserWarning: A NumPy version >=1.16.5 and <1.23.0 is required for this version of SciPy (detected version 1.23.5\n",
      "  warnings.warn(f\"A NumPy version >={np_minversion} and <{np_maxversion}\"\n"
     ]
    }
   ],
   "source": [
    "from torch.utils.data import Dataset, DataLoader\n",
    "from torchvision import transforms\n",
    "from PIL import Image\n",
    "import albumentations as A\n",
    "from albumentations.pytorch import ToTensorV2\n",
    "import os\n",
    "from torchvision.transforms import Lambda\n",
    "both_transform = A.Compose([A.Resize(width=256, height=256),], additional_targets={\"image0\": \"image\"},)\n",
    "transform = A.Compose([A.Normalize(mean=[0.5, 0.5, 0.5], std=[0.5, 0.5, 0.5], max_pixel_value=255.0,),ToTensorV2(),])\n",
    "class GroundTruthNoisyDataset(Dataset):\n",
    "    def __init__(self, root_dir):\n",
    "        self.root_dir = root_dir\n",
    "        self.folders = os.listdir(self.root_dir)\n",
    "\n",
    "    def __len__(self):\n",
    "        return len(self.folders)\n",
    "\n",
    "    def __getitem__(self, idx):\n",
    "        folder_name = self.folders[idx]\n",
    "        ground_truth_path = os.path.join(self.root_dir, folder_name, \"gt.jpg\")\n",
    "        noisy_path = os.path.join(self.root_dir, folder_name, \"noise.jpg\")\n",
    "        ground_truth = np.array(Image.open(ground_truth_path))\n",
    "        noisy = np.array(Image.open(noisy_path))\n",
    "        augmentations = both_transform(image=noisy, image0=ground_truth)\n",
    "        noisy = augmentations[\"image\"]\n",
    "        ground_truth = augmentations[\"image0\"]\n",
    "        ground_truth = transform(image = ground_truth)[\"image\"]\n",
    "        noisy = transform(image = noisy)[\"image\"]\n",
    "        return noisy, ground_truth"
   ]
  },
  {
   "cell_type": "code",
   "execution_count": 3,
   "id": "f4a82539",
   "metadata": {
    "execution": {
     "iopub.execute_input": "2023-11-19T17:33:01.341377Z",
     "iopub.status.busy": "2023-11-19T17:33:01.340945Z",
     "iopub.status.idle": "2023-11-19T17:33:02.178996Z",
     "shell.execute_reply": "2023-11-19T17:33:02.178182Z"
    },
    "papermill": {
     "duration": 0.846452,
     "end_time": "2023-11-19T17:33:02.181251",
     "exception": false,
     "start_time": "2023-11-19T17:33:01.334799",
     "status": "completed"
    },
    "tags": []
   },
   "outputs": [],
   "source": [
    "root_tr = \"/kaggle/input/devanagari-denoise-256-8k/devanagari_noise_set_256_8k/train\"\n",
    "root_te = \"/kaggle/input/devanagari-denoise-256-8k/devanagari_noise_set_256_8k/val\"\n",
    "train_dataset = GroundTruthNoisyDataset(root_tr)\n",
    "train_loader = DataLoader(train_dataset, batch_size=16, shuffle=True)\n",
    "\n",
    "valid_dataset = GroundTruthNoisyDataset(root_te)\n",
    "valid_loader = DataLoader(valid_dataset, batch_size=32, shuffle=False)"
   ]
  },
  {
   "cell_type": "code",
   "execution_count": 4,
   "id": "725f50ba",
   "metadata": {
    "execution": {
     "iopub.execute_input": "2023-11-19T17:33:02.193193Z",
     "iopub.status.busy": "2023-11-19T17:33:02.192879Z",
     "iopub.status.idle": "2023-11-19T17:33:02.200133Z",
     "shell.execute_reply": "2023-11-19T17:33:02.199303Z"
    },
    "papermill": {
     "duration": 0.014492,
     "end_time": "2023-11-19T17:33:02.201939",
     "exception": false,
     "start_time": "2023-11-19T17:33:02.187447",
     "status": "completed"
    },
    "tags": []
   },
   "outputs": [],
   "source": [
    "from torchvision.utils import save_image\n",
    "\n",
    "def save_some_examples(gen, val_loader, epoch, folder):\n",
    "    x, y = next(iter(val_loader))\n",
    "    DEVICE = \"cuda\" if torch.cuda.is_available() else \"cpu\"\n",
    "    x, y = x.to(DEVICE), y.to(DEVICE)\n",
    "    if not os.path.exists(folder):\n",
    "        os.makedirs(folder)\n",
    "    gen.eval()\n",
    "    with torch.no_grad():\n",
    "        y_fake = gen(x)\n",
    "        y_fake = y_fake * 0.5 + 0.5  # remove normalization#\n",
    "        save_image(y_fake, folder + f\"/y_out_{epoch}.png\")\n",
    "        save_image(x * 0.5 + 0.5, folder + f\"/input_{epoch}.png\")\n",
    "        if epoch == 1:\n",
    "            save_image(y * 0.5 + 0.5, folder + f\"/label_{epoch}.png\")\n",
    "    gen.train()"
   ]
  },
  {
   "cell_type": "code",
   "execution_count": 5,
   "id": "4b55d082",
   "metadata": {
    "execution": {
     "iopub.execute_input": "2023-11-19T17:33:02.211536Z",
     "iopub.status.busy": "2023-11-19T17:33:02.211253Z",
     "iopub.status.idle": "2023-11-19T17:33:02.280988Z",
     "shell.execute_reply": "2023-11-19T17:33:02.280125Z"
    },
    "papermill": {
     "duration": 0.07677,
     "end_time": "2023-11-19T17:33:02.282961",
     "exception": false,
     "start_time": "2023-11-19T17:33:02.206191",
     "status": "completed"
    },
    "tags": []
   },
   "outputs": [],
   "source": [
    "import torch\n",
    "import torch.nn as nn\n",
    "import torch.nn.functional as F\n",
    "\n",
    "class EAM(nn.Module):\n",
    "    def __init__(self):\n",
    "        super(EAM, self).__init__()\n",
    "\n",
    "        self.conv1 = nn.Conv2d(64, 64, kernel_size=3, dilation=1, padding=1)\n",
    "        self.conv2 = nn.Conv2d(64, 64, kernel_size=3, dilation=2, padding=2)\n",
    "\n",
    "        self.conv3 = nn.Conv2d(64, 64, kernel_size=3, dilation=3, padding=3)\n",
    "        self.conv4 = nn.Conv2d(64, 64, kernel_size=3, dilation=4, padding=4)\n",
    "\n",
    "        self.conv5 = nn.Conv2d(128, 64, kernel_size=3, padding=1)\n",
    "\n",
    "        self.conv6 = nn.Conv2d(64, 64, kernel_size=3, padding=1)\n",
    "        self.conv7 = nn.Conv2d(64, 64, kernel_size=3, padding=1)\n",
    "\n",
    "        self.conv8 = nn.Conv2d(64, 64, kernel_size=3, padding=1)\n",
    "        self.conv9 = nn.Conv2d(64, 64, kernel_size=3, padding=1)\n",
    "        self.conv10 = nn.Conv2d(64, 64, kernel_size=1, padding=0)  # Adjusted padding\n",
    "\n",
    "        self.gap = nn.AdaptiveAvgPool2d(1)\n",
    "\n",
    "        self.conv11 = nn.Conv2d(64, 64, kernel_size=3, padding=1)\n",
    "        self.conv12 = nn.Conv2d(64, 64, kernel_size=3, padding=1)\n",
    "\n",
    "    def forward(self, x):\n",
    "        conv1 = F.relu(self.conv1(x))\n",
    "        conv1 = F.relu(self.conv2(conv1))\n",
    "\n",
    "        conv2 = F.relu(self.conv3(x))\n",
    "        conv2 = F.relu(self.conv4(conv2))\n",
    "\n",
    "        concat = torch.cat([conv1, conv2], dim=1)\n",
    "        conv3 = F.relu(self.conv5(concat))\n",
    "        add1 = x + conv3\n",
    "\n",
    "        conv4 = F.relu(self.conv6(add1))\n",
    "        conv4 = self.conv7(conv4)\n",
    "        add2 = conv4 + add1\n",
    "        add2 = F.relu(add2)\n",
    "\n",
    "        conv5 = F.relu(self.conv8(add2))\n",
    "        conv5 = F.relu(self.conv9(conv5))\n",
    "        conv5 = self.conv10(conv5)\n",
    "        add3 = add2 + conv5\n",
    "        add3 = F.relu(add3)\n",
    "\n",
    "        gap = self.gap(add3)\n",
    "        gap = gap.view(gap.size(0), -1)\n",
    "        gap = gap.view(gap.size(0), gap.size(1), 1, 1)\n",
    "        conv6 = F.relu(self.conv11(gap))\n",
    "        conv6 = torch.sigmoid(self.conv12(conv6))\n",
    "\n",
    "        mul = conv6 * add3\n",
    "        out = x + mul\n",
    "\n",
    "        return out\n",
    "\n",
    "class RIDNet(nn.Module):\n",
    "    def __init__(self):\n",
    "        super(RIDNet, self).__init__()\n",
    "\n",
    "        self.conv1 = nn.Conv2d(3, 64, kernel_size=3, padding=1)\n",
    "        self.eam1 = EAM()\n",
    "        self.eam2 = EAM()\n",
    "        self.eam3 = EAM()\n",
    "        self.eam4 = EAM()\n",
    "        self.conv2 = nn.Conv2d(64, 3, kernel_size=3, padding=1)\n",
    "\n",
    "    def forward(self, x):\n",
    "        conv1 = F.relu(self.conv1(x))\n",
    "        eam1 = self.eam1(conv1)\n",
    "        eam2 = self.eam2(eam1)\n",
    "        eam3 = self.eam3(eam2)\n",
    "        eam4 = self.eam4(eam3)\n",
    "        conv2 = self.conv2(eam4)\n",
    "        out = x + conv2\n",
    "\n",
    "        return out\n",
    "\n",
    "# Create an instance of the RIDNet ridnet\n",
    "ridnet = RIDNet()"
   ]
  },
  {
   "cell_type": "code",
   "execution_count": 6,
   "id": "7ec39f56",
   "metadata": {
    "execution": {
     "iopub.execute_input": "2023-11-19T17:33:02.292510Z",
     "iopub.status.busy": "2023-11-19T17:33:02.292219Z",
     "iopub.status.idle": "2023-11-19T17:33:02.428608Z",
     "shell.execute_reply": "2023-11-19T17:33:02.427431Z"
    },
    "papermill": {
     "duration": 0.14358,
     "end_time": "2023-11-19T17:33:02.430797",
     "exception": false,
     "start_time": "2023-11-19T17:33:02.287217",
     "status": "completed"
    },
    "tags": []
   },
   "outputs": [
    {
     "name": "stdout",
     "output_type": "stream",
     "text": [
      "Using 2 GPUs!\n"
     ]
    }
   ],
   "source": [
    "if torch.cuda.device_count() > 1:\n",
    "    print(\"Using\", torch.cuda.device_count(), \"GPUs!\")\n",
    "    ridnet = nn.DataParallel(ridnet)"
   ]
  },
  {
   "cell_type": "code",
   "execution_count": 7,
   "id": "f1445f77",
   "metadata": {
    "execution": {
     "iopub.execute_input": "2023-11-19T17:33:02.441598Z",
     "iopub.status.busy": "2023-11-19T17:33:02.441287Z",
     "iopub.status.idle": "2023-11-20T01:32:05.105091Z",
     "shell.execute_reply": "2023-11-20T01:32:05.104004Z"
    },
    "papermill": {
     "duration": 28742.679816,
     "end_time": "2023-11-20T01:32:05.115172",
     "exception": false,
     "start_time": "2023-11-19T17:33:02.435356",
     "status": "completed"
    },
    "tags": []
   },
   "outputs": [
    {
     "name": "stdout",
     "output_type": "stream",
     "text": [
      "Epoch [1/50], Train PSNR: 28.4959, Valid PSNR: 30.8665\n",
      "Epoch [2/50], Train PSNR: 33.7186, Valid PSNR: 32.6064\n",
      "Epoch [3/50], Train PSNR: 35.0097, Valid PSNR: 33.9690\n",
      "Epoch [4/50], Train PSNR: 35.7829, Valid PSNR: 34.2900\n",
      "Epoch [5/50], Train PSNR: 36.1786, Valid PSNR: 35.4591\n",
      "Epoch [6/50], Train PSNR: 36.5015, Valid PSNR: 35.1241\n",
      "Epoch [7/50], Train PSNR: 36.5858, Valid PSNR: 34.9004\n",
      "Epoch [8/50], Train PSNR: 36.5774, Valid PSNR: 36.0138\n",
      "Epoch [9/50], Train PSNR: 37.0005, Valid PSNR: 36.1440\n",
      "Epoch [10/50], Train PSNR: 34.9610, Valid PSNR: 35.2007\n",
      "Epoch [11/50], Train PSNR: 36.8152, Valid PSNR: 36.0755\n",
      "Epoch [12/50], Train PSNR: 37.1102, Valid PSNR: 35.4187\n",
      "Epoch [13/50], Train PSNR: 37.2388, Valid PSNR: 36.3864\n",
      "Epoch [14/50], Train PSNR: 37.4384, Valid PSNR: 36.7005\n",
      "Epoch [15/50], Train PSNR: 37.4545, Valid PSNR: 35.9458\n",
      "Epoch [16/50], Train PSNR: 37.4574, Valid PSNR: 37.0415\n",
      "Epoch [17/50], Train PSNR: 37.6110, Valid PSNR: 36.7853\n",
      "Epoch [18/50], Train PSNR: 37.6157, Valid PSNR: 36.5034\n",
      "Epoch [19/50], Train PSNR: 37.6843, Valid PSNR: 36.8466\n",
      "Epoch [20/50], Train PSNR: 37.7482, Valid PSNR: 37.3066\n",
      "Epoch [21/50], Train PSNR: 37.9054, Valid PSNR: 36.3553\n",
      "Epoch [22/50], Train PSNR: 37.8625, Valid PSNR: 37.1468\n",
      "Epoch [23/50], Train PSNR: 37.8432, Valid PSNR: 37.3306\n",
      "Epoch [24/50], Train PSNR: 36.1354, Valid PSNR: 36.1235\n",
      "Epoch [25/50], Train PSNR: 37.4183, Valid PSNR: 36.8881\n",
      "Epoch [26/50], Train PSNR: 37.6563, Valid PSNR: 36.8923\n",
      "Epoch [27/50], Train PSNR: 37.8847, Valid PSNR: 36.8018\n",
      "Epoch [28/50], Train PSNR: 37.9571, Valid PSNR: 36.6004\n",
      "Epoch [29/50], Train PSNR: 37.9889, Valid PSNR: 36.9566\n",
      "Epoch [30/50], Train PSNR: 38.1210, Valid PSNR: 36.6564\n",
      "Epoch [31/50], Train PSNR: 38.1588, Valid PSNR: 37.2500\n",
      "Epoch [32/50], Train PSNR: 38.1801, Valid PSNR: 37.0340\n",
      "Epoch [33/50], Train PSNR: 38.2770, Valid PSNR: 36.8321\n",
      "Epoch [34/50], Train PSNR: 38.2968, Valid PSNR: 37.6902\n",
      "Epoch [35/50], Train PSNR: 38.3416, Valid PSNR: 37.6625\n",
      "Epoch [36/50], Train PSNR: 38.3787, Valid PSNR: 37.9552\n",
      "Epoch [37/50], Train PSNR: 38.3506, Valid PSNR: 37.3517\n",
      "Epoch [38/50], Train PSNR: 38.4154, Valid PSNR: 37.7540\n",
      "Epoch [39/50], Train PSNR: 38.4760, Valid PSNR: 37.3561\n",
      "Epoch [40/50], Train PSNR: 38.5196, Valid PSNR: 38.0556\n",
      "Epoch [41/50], Train PSNR: 38.5384, Valid PSNR: 38.1788\n",
      "Epoch [42/50], Train PSNR: 38.5577, Valid PSNR: 37.5108\n",
      "Epoch [43/50], Train PSNR: 38.6231, Valid PSNR: 38.1744\n",
      "Epoch [44/50], Train PSNR: 38.6180, Valid PSNR: 37.0708\n",
      "Epoch [45/50], Train PSNR: 38.6203, Valid PSNR: 38.2311\n",
      "Epoch [46/50], Train PSNR: 38.6813, Valid PSNR: 38.0971\n",
      "Epoch [47/50], Train PSNR: 38.6951, Valid PSNR: 37.7429\n",
      "Epoch [48/50], Train PSNR: 38.7027, Valid PSNR: 38.2017\n",
      "Epoch [49/50], Train PSNR: 38.6916, Valid PSNR: 37.9251\n",
      "Epoch [50/50], Train PSNR: 38.7654, Valid PSNR: 38.0198\n"
     ]
    }
   ],
   "source": [
    "import math\n",
    "import torch.nn as nn\n",
    "import torch\n",
    "\n",
    "def psnr(mse, max_pixel_val=255.0):\n",
    "    return 10 * math.log10(max_pixel_val**2 / mse)\n",
    "\n",
    "optimizer = torch.optim.Adam(ridnet.parameters(), lr=0.0002)\n",
    "criterion = nn.MSELoss()\n",
    "los = nn.MSELoss()\n",
    "num_epochs = 50\n",
    "device = torch.device(\"cuda:0\" if torch.cuda.is_available() else \"cpu\")\n",
    "ridnet.to(device)\n",
    "train_losses = []\n",
    "train_psnr = []\n",
    "test_losses = []\n",
    "test_psnr = []\n",
    "\n",
    "\n",
    "for epoch in range(num_epochs):\n",
    "    total_psnr_train = 0\n",
    "    tot_loss_train = 0\n",
    "    ridnet.train()\n",
    "    \n",
    "    optimizer.zero_grad()  # Initialize gradients once at the start of each epoch\n",
    "\n",
    "    for i, (noisy_imgs, clean_imgs) in enumerate(train_loader):\n",
    "        noisy_imgs, clean_imgs = noisy_imgs.to(device), clean_imgs.to(device)\n",
    "        outputs = ridnet(noisy_imgs)\n",
    "        loss = criterion(outputs, clean_imgs)\n",
    "        o = outputs*0.5+0.5\n",
    "        c = clean_imgs*0.5+0.5\n",
    "        mse = los(o*255.0,c*255.0)\n",
    "        current_psnr = psnr(mse)\n",
    "        total_psnr_train += current_psnr\n",
    "        tot_loss_train += loss.item()  # Using loss.item() to accumulate the loss\n",
    "\n",
    "        loss.backward()  # Calculate gradients\n",
    "\n",
    "        optimizer.step()  # Update weights\n",
    "        optimizer.zero_grad()  # Reset gradients\n",
    "\n",
    "    avg_psnr_train = total_psnr_train / len(train_loader)\n",
    "    train_losses.append(tot_loss_train / len(train_loader))\n",
    "    train_psnr.append(avg_psnr_train)\n",
    "    ridnet.eval()\n",
    "    total_psnr_valid = 0\n",
    "    tot_loss_valid = 0\n",
    "\n",
    "    with torch.no_grad():\n",
    "        for noisy_imgs, clean_imgs in valid_loader:\n",
    "            noisy_imgs, clean_imgs = noisy_imgs.to(device), clean_imgs.to(device)\n",
    "            outputs = ridnet(noisy_imgs)\n",
    "            loss = criterion(outputs, clean_imgs)\n",
    "            o = outputs*0.5+0.5\n",
    "            c = clean_imgs*0.5+0.5\n",
    "            mse = los(o*255.0,c*255.0)\n",
    "            current_psnr = psnr(mse)\n",
    "            total_psnr_valid += current_psnr\n",
    "            tot_loss_valid += loss.item()\n",
    "\n",
    "    avg_psnr_valid = total_psnr_valid / len(valid_loader)\n",
    "    test_losses.append(tot_loss_valid / len(valid_loader))\n",
    "    test_psnr.append(avg_psnr_valid)\n",
    "    save_some_examples(ridnet, valid_loader, epoch, folder=\"/kaggle/working/evaluation\")\n",
    "    print(f\"Epoch [{epoch+1}/{num_epochs}], Train PSNR: {avg_psnr_train:.4f}, Valid PSNR: {avg_psnr_valid:.4f}\")\n"
   ]
  },
  {
   "cell_type": "code",
   "execution_count": 8,
   "id": "c3d628ef",
   "metadata": {
    "execution": {
     "iopub.execute_input": "2023-11-20T01:32:05.132275Z",
     "iopub.status.busy": "2023-11-20T01:32:05.131939Z",
     "iopub.status.idle": "2023-11-20T01:32:05.136770Z",
     "shell.execute_reply": "2023-11-20T01:32:05.135912Z"
    },
    "papermill": {
     "duration": 0.015593,
     "end_time": "2023-11-20T01:32:05.138655",
     "exception": false,
     "start_time": "2023-11-20T01:32:05.123062",
     "status": "completed"
    },
    "tags": []
   },
   "outputs": [],
   "source": [
    "train_loss = []\n",
    "test_loss = []\n",
    "for i in train_losses:\n",
    "    train_loss.append(i)\n",
    "for i in test_losses:\n",
    "    test_loss.append(i)"
   ]
  },
  {
   "cell_type": "code",
   "execution_count": 9,
   "id": "a508b654",
   "metadata": {
    "execution": {
     "iopub.execute_input": "2023-11-20T01:32:05.156944Z",
     "iopub.status.busy": "2023-11-20T01:32:05.156167Z",
     "iopub.status.idle": "2023-11-20T01:32:05.161350Z",
     "shell.execute_reply": "2023-11-20T01:32:05.160461Z"
    },
    "papermill": {
     "duration": 0.016353,
     "end_time": "2023-11-20T01:32:05.163460",
     "exception": false,
     "start_time": "2023-11-20T01:32:05.147107",
     "status": "completed"
    },
    "tags": []
   },
   "outputs": [
    {
     "name": "stdout",
     "output_type": "stream",
     "text": [
      "Train_loss: 0.0005352330523545604\n",
      "Test_loss: 0.0006348343975391359\n"
     ]
    }
   ],
   "source": [
    "print(\"Train_loss:\",train_loss[len(train_loss)-1])\n",
    "print(\"Test_loss:\",test_loss[len(test_loss)-1])"
   ]
  },
  {
   "cell_type": "code",
   "execution_count": 10,
   "id": "3e34dee3",
   "metadata": {
    "execution": {
     "iopub.execute_input": "2023-11-20T01:32:05.181755Z",
     "iopub.status.busy": "2023-11-20T01:32:05.181490Z",
     "iopub.status.idle": "2023-11-20T01:32:05.477029Z",
     "shell.execute_reply": "2023-11-20T01:32:05.476124Z"
    },
    "papermill": {
     "duration": 0.307269,
     "end_time": "2023-11-20T01:32:05.479340",
     "exception": false,
     "start_time": "2023-11-20T01:32:05.172071",
     "status": "completed"
    },
    "tags": []
   },
   "outputs": [
    {
     "data": {
      "image/png": "[encoded data removed]",
      "text/plain": [
       "<Figure size 800x600 with 1 Axes>"
      ]
     },
     "metadata": {},
     "output_type": "display_data"
    }
   ],
   "source": [
    "import matplotlib.pyplot as plt\n",
    "x = [i for i in range(1,num_epochs+1)]\n",
    "fig, ax = plt.subplots(1, figsize=(8,6))\n",
    "fig.suptitle(\"Learning Curve\", fontsize = 15)\n",
    "ax.plot(x, train_loss, label=\"Training Curve\")\n",
    "ax.plot(x, test_loss, label=\"Testing Curve\")\n",
    "plt.legend(loc=\"upper right\", frameon=False)\n",
    "plt.show()"
   ]
  },
  {
   "cell_type": "code",
   "execution_count": 11,
   "id": "e8d03e37",
   "metadata": {
    "execution": {
     "iopub.execute_input": "2023-11-20T01:32:05.499059Z",
     "iopub.status.busy": "2023-11-20T01:32:05.498218Z",
     "iopub.status.idle": "2023-11-20T01:32:05.766015Z",
     "shell.execute_reply": "2023-11-20T01:32:05.765097Z"
    },
    "papermill": {
     "duration": 0.279479,
     "end_time": "2023-11-20T01:32:05.768210",
     "exception": false,
     "start_time": "2023-11-20T01:32:05.488731",
     "status": "completed"
    },
    "tags": []
   },
   "outputs": [
    {
     "data": {
      "image/png": "[encoded data removed]",
      "text/plain": [
       "<Figure size 800x600 with 1 Axes>"
      ]
     },
     "metadata": {},
     "output_type": "display_data"
    }
   ],
   "source": [
    "import matplotlib.pyplot as plt\n",
    "x = [i for i in range(1,num_epochs+1)]\n",
    "fig, ax = plt.subplots(1, figsize=(8,6))\n",
    "fig.suptitle(\"PSNR\", fontsize = 15)\n",
    "ax.plot(x, train_psnr, label=\"Training PSNR\")\n",
    "ax.plot(x, test_psnr, label=\"Testing PSNR\")\n",
    "plt.legend(loc=\"lower right\", frameon=False)\n",
    "plt.show()"
   ]
  },
  {
   "cell_type": "code",
   "execution_count": 12,
   "id": "6c389cc2",
   "metadata": {
    "execution": {
     "iopub.execute_input": "2023-11-20T01:32:05.788780Z",
     "iopub.status.busy": "2023-11-20T01:32:05.788500Z",
     "iopub.status.idle": "2023-11-20T01:32:05.817804Z",
     "shell.execute_reply": "2023-11-20T01:32:05.816918Z"
    },
    "papermill": {
     "duration": 0.04169,
     "end_time": "2023-11-20T01:32:05.819812",
     "exception": false,
     "start_time": "2023-11-20T01:32:05.778122",
     "status": "completed"
    },
    "tags": []
   },
   "outputs": [],
   "source": [
    "torch.save(ridnet.state_dict(),'ridnet_cnn_256_devanagari_scratch.pth')"
   ]
  },
  {
   "cell_type": "code",
   "execution_count": null,
   "id": "44acb4fc",
   "metadata": {
    "papermill": {
     "duration": 0.00892,
     "end_time": "2023-11-20T01:32:05.838096",
     "exception": false,
     "start_time": "2023-11-20T01:32:05.829176",
     "status": "completed"
    },
    "tags": []
   },
   "outputs": [],
   "source": []
  }
 ],
 "metadata": {
  "kaggle": {
   "accelerator": "nvidiaTeslaT4",
   "dataSources": [
    {
     "datasetId": 4026693,
     "sourceId": 7004281,
     "sourceType": "datasetVersion"
    }
   ],
   "dockerImageVersionId": 30554,
   "isGpuEnabled": true,
   "isInternetEnabled": true,
   "language": "python",
   "sourceType": "notebook"
  },
  "kernelspec": {
   "display_name": "Python 3",
   "language": "python",
   "name": "python3"
  },
  "language_info": {
   "codemirror_mode": {
    "name": "ipython",
    "version": 3
   },
   "file_extension": ".py",
   "mimetype": "text/x-python",
   "name": "python",
   "nbconvert_exporter": "python",
   "pygments_lexer": "ipython3",
   "version": "3.10.12"
  },
  "papermill": {
   "default_parameters": {},
   "duration": 28759.255575,
   "end_time": "2023-11-20T01:32:09.290825",
   "environment_variables": {},
   "exception": null,
   "input_path": "__notebook__.ipynb",
   "output_path": "__notebook__.ipynb",
   "parameters": {},
   "start_time": "2023-11-19T17:32:50.035250",
   "version": "2.4.0"
  }
 },
 "nbformat": 4,
 "nbformat_minor": 5
}
